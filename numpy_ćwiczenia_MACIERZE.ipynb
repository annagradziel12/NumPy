{
  "nbformat": 4,
  "nbformat_minor": 0,
  "metadata": {
    "kernelspec": {
      "display_name": "Python 3",
      "language": "python",
      "name": "python3"
    },
    "language_info": {
      "codemirror_mode": {
        "name": "ipython",
        "version": 3
      },
      "file_extension": ".py",
      "mimetype": "text/x-python",
      "name": "python",
      "nbconvert_exporter": "python",
      "pygments_lexer": "ipython3",
      "version": "3.7.3"
    },
    "toc": {
      "base_numbering": 1,
      "nav_menu": {},
      "number_sections": true,
      "sideBar": true,
      "skip_h1_title": false,
      "title_cell": "Table of Contents",
      "title_sidebar": "Contents",
      "toc_cell": false,
      "toc_position": {},
      "toc_section_display": true,
      "toc_window_display": false
    },
    "colab": {
      "name": "numpy ćwiczenia - MACIERZE.ipynb",
      "provenance": [],
      "include_colab_link": true
    }
  },
  "cells": [
    {
      "cell_type": "markdown",
      "metadata": {
        "id": "view-in-github",
        "colab_type": "text"
      },
      "source": [
        "<a href=\"https://colab.research.google.com/github/annagradziel12/NumPy/blob/master/numpy_%C4%87wiczenia_MACIERZE.ipynb\" target=\"_parent\"><img src=\"https://colab.research.google.com/assets/colab-badge.svg\" alt=\"Open In Colab\"/></a>"
      ]
    },
    {
      "cell_type": "markdown",
      "metadata": {
        "id": "F86CBuSnoFRM",
        "colab_type": "text"
      },
      "source": [
        "# ZADANIA NA MACIERZACH"
      ]
    },
    {
      "cell_type": "code",
      "metadata": {
        "id": "I6b5JEQgoFRN",
        "colab_type": "code",
        "colab": {}
      },
      "source": [
        "import numpy as np"
      ],
      "execution_count": null,
      "outputs": []
    },
    {
      "cell_type": "markdown",
      "metadata": {
        "id": "BKxsiokEoFRP",
        "colab_type": "text"
      },
      "source": [
        "Zadanie 1: Z podanej macierzy wybierz 5 największych wartości"
      ]
    },
    {
      "cell_type": "code",
      "metadata": {
        "id": "p4hxQhZPoFRQ",
        "colab_type": "code",
        "colab": {},
        "outputId": "d0422e7d-d18d-4d3a-a1ab-4ac11f7f6a47"
      },
      "source": [
        "np.random.seed(100)\n",
        "a = np.random.randint(1,50, 20)\n",
        "a"
      ],
      "execution_count": null,
      "outputs": [
        {
          "output_type": "execute_result",
          "data": {
            "text/plain": [
              "array([ 9, 25,  4, 40, 24, 16, 49, 11, 31, 35,  3, 35, 15, 35, 49, 25, 16,\n",
              "       37, 44, 17])"
            ]
          },
          "metadata": {
            "tags": []
          },
          "execution_count": 45
        }
      ]
    },
    {
      "cell_type": "code",
      "metadata": {
        "id": "SQCY_9IKoFRT",
        "colab_type": "code",
        "colab": {},
        "outputId": "bee1f3f8-3a19-46b7-b3c4-25fc5b22bd56"
      },
      "source": [
        "np.sort(a)[-5:]"
      ],
      "execution_count": null,
      "outputs": [
        {
          "output_type": "execute_result",
          "data": {
            "text/plain": [
              "array([37, 40, 44, 49, 49])"
            ]
          },
          "metadata": {
            "tags": []
          },
          "execution_count": 46
        }
      ]
    },
    {
      "cell_type": "markdown",
      "metadata": {
        "id": "QldwmZ1xoFRV",
        "colab_type": "text"
      },
      "source": [
        "Zadanie 2: policz ile razy występują kolejne liczby w macierzy:\n",
        "\n",
        "(czyli kolumnami jakby były liczby od 1 do 10, a w wierszach częstość ich występowania)\n",
        "\n",
        "rezultat:\n",
        "\n",
        "( 1  2  3  4  5  6  7  8  9  10)\n",
        "\n",
        "[[1, 0, 2, 1, 1, 1, 0, 2, 2, 0],\n",
        "\n",
        " [2, 1, 3, 0, 1, 0, 1, 0, 1, 1],\n",
        " \n",
        " [0, 3, 0, 2, 3, 1, 0, 1, 0, 0],\n",
        " \n",
        " [1, 0, 2, 1, 0, 1, 0, 2, 1, 2],\n",
        " \n",
        " [2, 2, 2, 0, 0, 1, 1, 1, 1, 0],\n",
        " \n",
        " [1, 1, 1, 1, 1, 2, 0, 0, 2, 1]]"
      ]
    },
    {
      "cell_type": "code",
      "metadata": {
        "id": "FRh_W-wOoFRV",
        "colab_type": "code",
        "colab": {},
        "outputId": "acd3f780-0b36-4212-f2ac-266b0f6dd8ca"
      },
      "source": [
        "np.random.seed(100)\n",
        "m = np.random.randint(1,11,size=(6, 10))\n",
        "m"
      ],
      "execution_count": null,
      "outputs": [
        {
          "output_type": "execute_result",
          "data": {
            "text/plain": [
              "array([[ 9,  9,  4,  8,  8,  1,  5,  3,  6,  3],\n",
              "       [ 3,  3,  2,  1,  9,  5,  1, 10,  7,  3],\n",
              "       [ 5,  2,  6,  4,  5,  5,  4,  8,  2,  2],\n",
              "       [ 8,  8,  1,  3, 10, 10,  4,  3,  6,  9],\n",
              "       [ 2,  1,  8,  7,  3,  1,  9,  3,  6,  2],\n",
              "       [ 9,  2,  6,  5,  3,  9,  4,  6,  1, 10]])"
            ]
          },
          "metadata": {
            "tags": []
          },
          "execution_count": 47
        }
      ]
    },
    {
      "cell_type": "code",
      "metadata": {
        "id": "DQzH4x3uoFRX",
        "colab_type": "code",
        "colab": {},
        "outputId": "c9ffcac2-c03d-4167-feeb-10a64ea4e0e8"
      },
      "source": [
        "num_counts_array = [np.unique(row, return_counts=True) for row in m]\n",
        "num_counts_array"
      ],
      "execution_count": null,
      "outputs": [
        {
          "output_type": "execute_result",
          "data": {
            "text/plain": [
              "[(array([1, 3, 4, 5, 6, 8, 9]), array([1, 2, 1, 1, 1, 2, 2], dtype=int64)),\n",
              " (array([ 1,  2,  3,  5,  7,  9, 10]),\n",
              "  array([2, 1, 3, 1, 1, 1, 1], dtype=int64)),\n",
              " (array([2, 4, 5, 6, 8]), array([3, 2, 3, 1, 1], dtype=int64)),\n",
              " (array([ 1,  3,  4,  6,  8,  9, 10]),\n",
              "  array([1, 2, 1, 1, 2, 1, 2], dtype=int64)),\n",
              " (array([1, 2, 3, 6, 7, 8, 9]), array([2, 2, 2, 1, 1, 1, 1], dtype=int64)),\n",
              " (array([ 1,  2,  3,  4,  5,  6,  9, 10]),\n",
              "  array([1, 1, 1, 1, 1, 2, 2, 1], dtype=int64))]"
            ]
          },
          "metadata": {
            "tags": []
          },
          "execution_count": 48
        }
      ]
    },
    {
      "cell_type": "code",
      "metadata": {
        "id": "oTewzJ2XoFRb",
        "colab_type": "code",
        "colab": {},
        "outputId": "a0fb9625-9735-426b-a1b5-07a6c48e0182"
      },
      "source": [
        "[[b[a==i][0] if i in a else 0 for i in np.arange(1,11)] for a, b in num_counts_array]"
      ],
      "execution_count": null,
      "outputs": [
        {
          "output_type": "execute_result",
          "data": {
            "text/plain": [
              "[[1, 0, 2, 1, 1, 1, 0, 2, 2, 0],\n",
              " [2, 1, 3, 0, 1, 0, 1, 0, 1, 1],\n",
              " [0, 3, 0, 2, 3, 1, 0, 1, 0, 0],\n",
              " [1, 0, 2, 1, 0, 1, 0, 2, 1, 2],\n",
              " [2, 2, 2, 0, 0, 1, 1, 1, 1, 0],\n",
              " [1, 1, 1, 1, 1, 2, 0, 0, 2, 1]]"
            ]
          },
          "metadata": {
            "tags": []
          },
          "execution_count": 49
        }
      ]
    },
    {
      "cell_type": "code",
      "metadata": {
        "id": "QV4jkl4boFRd",
        "colab_type": "code",
        "colab": {},
        "outputId": "a129d01e-8865-4616-aecb-3fbd35043ac0"
      },
      "source": [
        "for a, b in num_counts_array:\n",
        "    print(a,b)\n",
        "    for i in np.arange(1,11):\n",
        "        if i in a:\n",
        "            print(b[a==i][0])\n",
        "        else:\n",
        "            0"
      ],
      "execution_count": null,
      "outputs": [
        {
          "output_type": "stream",
          "text": [
            "[1 3 4 5 6 8 9] [1 2 1 1 1 2 2]\n",
            "1\n",
            "2\n",
            "1\n",
            "1\n",
            "1\n",
            "2\n",
            "2\n",
            "[ 1  2  3  5  7  9 10] [2 1 3 1 1 1 1]\n",
            "2\n",
            "1\n",
            "3\n",
            "1\n",
            "1\n",
            "1\n",
            "1\n",
            "[2 4 5 6 8] [3 2 3 1 1]\n",
            "3\n",
            "2\n",
            "3\n",
            "1\n",
            "1\n",
            "[ 1  3  4  6  8  9 10] [1 2 1 1 2 1 2]\n",
            "1\n",
            "2\n",
            "1\n",
            "1\n",
            "2\n",
            "1\n",
            "2\n",
            "[1 2 3 6 7 8 9] [2 2 2 1 1 1 1]\n",
            "2\n",
            "2\n",
            "2\n",
            "1\n",
            "1\n",
            "1\n",
            "1\n",
            "[ 1  2  3  4  5  6  9 10] [1 1 1 1 1 2 2 1]\n",
            "1\n",
            "1\n",
            "1\n",
            "1\n",
            "1\n",
            "2\n",
            "2\n",
            "1\n"
          ],
          "name": "stdout"
        }
      ]
    },
    {
      "cell_type": "code",
      "metadata": {
        "id": "yzTpLWh7oFRf",
        "colab_type": "code",
        "colab": {},
        "outputId": "d81297a3-1fc6-452a-8fba-9efc27aadacb"
      },
      "source": [
        "# lub\n",
        "a=np.zeros((6,10))\n",
        "for i in range(0,6):\n",
        "    for j in range(0,10):\n",
        "        a[i,j]=np.where(m[i]==j+1,1,0).sum()\n",
        "a"
      ],
      "execution_count": null,
      "outputs": [
        {
          "output_type": "execute_result",
          "data": {
            "text/plain": [
              "array([[1., 0., 2., 1., 1., 1., 0., 2., 2., 0.],\n",
              "       [2., 1., 3., 0., 1., 0., 1., 0., 1., 1.],\n",
              "       [0., 3., 0., 2., 3., 1., 0., 1., 0., 0.],\n",
              "       [1., 0., 2., 1., 0., 1., 0., 2., 1., 2.],\n",
              "       [2., 2., 2., 0., 0., 1., 1., 1., 1., 0.],\n",
              "       [1., 1., 1., 1., 1., 2., 0., 0., 2., 1.]])"
            ]
          },
          "metadata": {
            "tags": []
          },
          "execution_count": 51
        }
      ]
    },
    {
      "cell_type": "markdown",
      "metadata": {
        "id": "umeC37NqoFRh",
        "colab_type": "text"
      },
      "source": [
        "Zadanie 3: Stwórz algorytm one-hot encoding (z każdej zmiennej kategorycznej tworzy osobną kolumnę)\n",
        "\n",
        "<img src='images/one hot.bmp' width = '300'>"
      ]
    },
    {
      "cell_type": "code",
      "metadata": {
        "id": "jGyxakE6oFRi",
        "colab_type": "code",
        "colab": {},
        "outputId": "683d67b4-c5cb-40f8-de40-dd72a2ca3d77"
      },
      "source": [
        "np.random.seed(51) \n",
        "m = np.random.randint(1,4, size=6)\n",
        "m"
      ],
      "execution_count": null,
      "outputs": [
        {
          "output_type": "execute_result",
          "data": {
            "text/plain": [
              "array([3, 2, 2, 1, 2, 2])"
            ]
          },
          "metadata": {
            "tags": []
          },
          "execution_count": 52
        }
      ]
    },
    {
      "cell_type": "code",
      "metadata": {
        "id": "ZMIQ1tmXoFRj",
        "colab_type": "code",
        "colab": {},
        "outputId": "a0db5b13-e53c-402c-a84b-4656a2157ca3"
      },
      "source": [
        "uniqs = np.unique(m)\n",
        "uniqs"
      ],
      "execution_count": null,
      "outputs": [
        {
          "output_type": "execute_result",
          "data": {
            "text/plain": [
              "array([1, 2, 3])"
            ]
          },
          "metadata": {
            "tags": []
          },
          "execution_count": 53
        }
      ]
    },
    {
      "cell_type": "code",
      "metadata": {
        "id": "0Y-AZWsfoFRl",
        "colab_type": "code",
        "colab": {},
        "outputId": "22d3dd8c-819f-4530-a511-52deba39aaa1"
      },
      "source": [
        "out = np.zeros((m.shape[0], uniqs.shape[0]))\n",
        "out"
      ],
      "execution_count": null,
      "outputs": [
        {
          "output_type": "execute_result",
          "data": {
            "text/plain": [
              "array([[0., 0., 0.],\n",
              "       [0., 0., 0.],\n",
              "       [0., 0., 0.],\n",
              "       [0., 0., 0.],\n",
              "       [0., 0., 0.],\n",
              "       [0., 0., 0.]])"
            ]
          },
          "metadata": {
            "tags": []
          },
          "execution_count": 54
        }
      ]
    },
    {
      "cell_type": "code",
      "metadata": {
        "id": "21eU1y-joFRn",
        "colab_type": "code",
        "colab": {}
      },
      "source": [
        "for i, k in enumerate(m):\n",
        "    out[i, k-1] = 1"
      ],
      "execution_count": null,
      "outputs": []
    },
    {
      "cell_type": "code",
      "metadata": {
        "id": "p7sNU11ioFRp",
        "colab_type": "code",
        "colab": {},
        "outputId": "2438e905-e328-4655-a1fb-38c971b70e95"
      },
      "source": [
        "out"
      ],
      "execution_count": null,
      "outputs": [
        {
          "output_type": "execute_result",
          "data": {
            "text/plain": [
              "array([[0., 0., 1.],\n",
              "       [0., 1., 0.],\n",
              "       [0., 1., 0.],\n",
              "       [1., 0., 0.],\n",
              "       [0., 1., 0.],\n",
              "       [0., 1., 0.]])"
            ]
          },
          "metadata": {
            "tags": []
          },
          "execution_count": 56
        }
      ]
    },
    {
      "cell_type": "markdown",
      "metadata": {
        "id": "7TEPAtIzoFRq",
        "colab_type": "text"
      },
      "source": [
        "Zadanie 4: Ponumeruj wiersze wg kategorii tzn w ramach danej kategorii numeruj wiersze od 0, gdy pojawi się nowa kategoria znowu zacznij numerować od zera. Poniżej wynik:\n",
        "\n",
        "[0, 1, 2, 3, 4, 0, 1, 2, 3, 4, 5, 6, 7, 8, 0, 1, 2, 3, 4, 5]\n",
        "\n",
        "Kategorie w macierzy są już posortowane na kategorie"
      ]
    },
    {
      "cell_type": "code",
      "metadata": {
        "id": "kMbnwm6zoFRr",
        "colab_type": "code",
        "colab": {},
        "outputId": "3c3fd2b8-f22e-4ecb-901f-4cf75cd0cc6a"
      },
      "source": [
        "m = np.array([ 'Iris-setosa', 'Iris-setosa', 'Iris-setosa', 'Iris-setosa',\n",
        "       'Iris-setosa', 'Iris-versicolor', 'Iris-versicolor',\n",
        "       'Iris-versicolor', 'Iris-versicolor', 'Iris-versicolor',\n",
        "        'Iris-versicolor', 'Iris-versicolor', 'Iris-versicolor',\n",
        "        'Iris-versicolor', 'Iris-virginica', 'Iris-virginica',\n",
        "        'Iris-virginica', 'Iris-virginica', 'Iris-virginica',\n",
        "        'Iris-virginica'])\n",
        "m"
      ],
      "execution_count": null,
      "outputs": [
        {
          "output_type": "execute_result",
          "data": {
            "text/plain": [
              "array(['Iris-setosa', 'Iris-setosa', 'Iris-setosa', 'Iris-setosa',\n",
              "       'Iris-setosa', 'Iris-versicolor', 'Iris-versicolor',\n",
              "       'Iris-versicolor', 'Iris-versicolor', 'Iris-versicolor',\n",
              "       'Iris-versicolor', 'Iris-versicolor', 'Iris-versicolor',\n",
              "       'Iris-versicolor', 'Iris-virginica', 'Iris-virginica',\n",
              "       'Iris-virginica', 'Iris-virginica', 'Iris-virginica',\n",
              "       'Iris-virginica'], dtype='<U15')"
            ]
          },
          "metadata": {
            "tags": []
          },
          "execution_count": 57
        }
      ]
    },
    {
      "cell_type": "code",
      "metadata": {
        "id": "Vu1GKGk-oFRs",
        "colab_type": "code",
        "colab": {},
        "outputId": "cd5f1cf9-159f-44d5-9845-8f84c29b1ed5"
      },
      "source": [
        "lista = []\n",
        "for val in np.unique(m):\n",
        "    for i, grupa in enumerate(m[m==val]):\n",
        "        lista.append(i)\n",
        "        \n",
        "lista"
      ],
      "execution_count": null,
      "outputs": [
        {
          "output_type": "execute_result",
          "data": {
            "text/plain": [
              "[0, 1, 2, 3, 4, 0, 1, 2, 3, 4, 5, 6, 7, 8, 0, 1, 2, 3, 4, 5]"
            ]
          },
          "metadata": {
            "tags": []
          },
          "execution_count": 58
        }
      ]
    },
    {
      "cell_type": "code",
      "metadata": {
        "id": "pdYR-ljLoFRv",
        "colab_type": "code",
        "colab": {},
        "outputId": "11ee7594-4362-450e-a0e5-1c3876de7640"
      },
      "source": [
        "# czyli\n",
        "[i for val in np.unique(m) for i, grupa in enumerate(m[m==val])]"
      ],
      "execution_count": null,
      "outputs": [
        {
          "output_type": "execute_result",
          "data": {
            "text/plain": [
              "[0, 1, 2, 3, 4, 0, 1, 2, 3, 4, 5, 6, 7, 8, 0, 1, 2, 3, 4, 5]"
            ]
          },
          "metadata": {
            "tags": []
          },
          "execution_count": 59
        }
      ]
    },
    {
      "cell_type": "markdown",
      "metadata": {
        "id": "Qx5EIhCCoFRw",
        "colab_type": "text"
      },
      "source": [
        "Zadanie 5: Korzystając z macierzy z poprzedniego zadania nadaj każdej grupie ten sam identyfikator tzn\n",
        "    \n",
        "[0, 0, 0, 0, 0, 1, 1, 1, 1, 1, 1, 1, 1, 1, 2, 2, 2, 2, 2, 2]"
      ]
    },
    {
      "cell_type": "code",
      "metadata": {
        "id": "lUBdHOHboFRx",
        "colab_type": "code",
        "colab": {},
        "outputId": "b7639c1b-4ffb-4bf4-84d3-4acb1eef9b80"
      },
      "source": [
        "output = []\n",
        "uniqs = np.unique(m)\n",
        "dict_cat = {}\n",
        "for k,v in enumerate(uniqs):\n",
        "    dict_cat[v] = k\n",
        "    \n",
        "print(dict_cat)\n",
        "\n",
        "for cat in m:\n",
        "    output.append(dict_cat[cat])\n",
        "    \n",
        "output"
      ],
      "execution_count": null,
      "outputs": [
        {
          "output_type": "stream",
          "text": [
            "{'Iris-setosa': 0, 'Iris-versicolor': 1, 'Iris-virginica': 2}\n"
          ],
          "name": "stdout"
        },
        {
          "output_type": "execute_result",
          "data": {
            "text/plain": [
              "[0, 0, 0, 0, 0, 1, 1, 1, 1, 1, 1, 1, 1, 1, 2, 2, 2, 2, 2, 2]"
            ]
          },
          "metadata": {
            "tags": []
          },
          "execution_count": 60
        }
      ]
    },
    {
      "cell_type": "code",
      "metadata": {
        "id": "iiJ7HDrEoFRz",
        "colab_type": "code",
        "colab": {},
        "outputId": "f46c3f22-c5fb-4caf-bcb7-fb69cf5dd474"
      },
      "source": [
        "# lub\n",
        "lista_id = []\n",
        "for i, iris in enumerate(np.unique(m)):\n",
        "    print(i, m[m==iris].size)\n",
        "    lista_id = lista_id + [i] * m[m==iris].size\n",
        "lista_id"
      ],
      "execution_count": null,
      "outputs": [
        {
          "output_type": "stream",
          "text": [
            "0 5\n",
            "1 9\n",
            "2 6\n"
          ],
          "name": "stdout"
        },
        {
          "output_type": "execute_result",
          "data": {
            "text/plain": [
              "[0, 0, 0, 0, 0, 1, 1, 1, 1, 1, 1, 1, 1, 1, 2, 2, 2, 2, 2, 2]"
            ]
          },
          "metadata": {
            "tags": []
          },
          "execution_count": 61
        }
      ]
    },
    {
      "cell_type": "code",
      "metadata": {
        "id": "rzw_VL0roFR1",
        "colab_type": "code",
        "colab": {},
        "outputId": "890ce2b3-0e8d-43db-d5ae-ca8110874b29"
      },
      "source": [
        "import time\n",
        "lista = ['Bartosz',\n",
        "         'Piotr',\n",
        "         'Sebastian',\n",
        "         'Anna',\n",
        "         'Filip',\n",
        "         'Kinga',\n",
        "         'Michał',\n",
        "         'Konrad',\n",
        "         'Maja',\n",
        "        ]\n",
        "\n",
        "np.random.seed(100)\n",
        "zadania = np.arange(6,15)\n",
        "np.random.shuffle(zadania)\n",
        "my_dict = {}\n",
        "for z,l in zip(zadania, lista):\n",
        "    my_dict[l] = z\n",
        "    \n",
        "my_dict"
      ],
      "execution_count": null,
      "outputs": [
        {
          "output_type": "execute_result",
          "data": {
            "text/plain": [
              "{'Bartosz': 7,\n",
              " 'Piotr': 12,\n",
              " 'Sebastian': 11,\n",
              " 'Anna': 10,\n",
              " 'Filip': 8,\n",
              " 'Kinga': 13,\n",
              " 'Michał': 9,\n",
              " 'Konrad': 6,\n",
              " 'Maja': 14}"
            ]
          },
          "metadata": {
            "tags": []
          },
          "execution_count": 17
        }
      ]
    },
    {
      "cell_type": "markdown",
      "metadata": {
        "id": "vOzjsSNDoFR2",
        "colab_type": "text"
      },
      "source": [
        "Zadanie 6: Stwórz tablicę, która będzie zawierała pozycję każdego elementu poniższej tablicy, jeśli by ją posortować.\n",
        "\n",
        "wynik:\n",
        "\n",
        "[ 8,  3,  7, 15, 16, 10,  2,  2,  2, 14] -> \n",
        "[5,   3,  4,  8,  9,  6,  0,  1,  2,  7]"
      ]
    },
    {
      "cell_type": "code",
      "metadata": {
        "id": "EmpAoa0AoFR3",
        "colab_type": "code",
        "colab": {},
        "outputId": "759fda9b-b59f-4d91-aba1-4922006143b4"
      },
      "source": [
        "np.random.seed(100)\n",
        "m = np.random.randint(20, size=10)\n",
        "m"
      ],
      "execution_count": null,
      "outputs": [
        {
          "output_type": "execute_result",
          "data": {
            "text/plain": [
              "array([ 8,  3,  7, 15, 16, 10,  2,  2,  2, 14])"
            ]
          },
          "metadata": {
            "tags": []
          },
          "execution_count": 62
        }
      ]
    },
    {
      "cell_type": "code",
      "metadata": {
        "id": "yw2ysMlGoFR4",
        "colab_type": "code",
        "colab": {},
        "outputId": "29408261-d47b-468f-afff-4623fd85ca84"
      },
      "source": [
        "m2 = m.argsort()\n",
        "m2"
      ],
      "execution_count": null,
      "outputs": [
        {
          "output_type": "execute_result",
          "data": {
            "text/plain": [
              "array([6, 7, 8, 1, 2, 0, 5, 9, 3, 4], dtype=int64)"
            ]
          },
          "metadata": {
            "tags": []
          },
          "execution_count": 63
        }
      ]
    },
    {
      "cell_type": "code",
      "metadata": {
        "id": "sCGOy4SuoFR6",
        "colab_type": "code",
        "colab": {},
        "outputId": "48b99161-ad57-41f4-8169-c89945325d19"
      },
      "source": [
        "m2.argsort()"
      ],
      "execution_count": null,
      "outputs": [
        {
          "output_type": "execute_result",
          "data": {
            "text/plain": [
              "array([5, 3, 4, 8, 9, 6, 0, 1, 2, 7], dtype=int64)"
            ]
          },
          "metadata": {
            "tags": []
          },
          "execution_count": 64
        }
      ]
    },
    {
      "cell_type": "code",
      "metadata": {
        "id": "4v9QK4G0oFR7",
        "colab_type": "code",
        "colab": {}
      },
      "source": [
        "# rozwiązanie Konrada\n",
        "sorted_array = np.sort(m).tolist()\n",
        "lista = []\n",
        "m_list = m.tolist()\n",
        "for item in m_list:\n",
        "    lista.append(sorted_array.index(item))\n",
        "    sorted_array[sorted_array.index(item)] = ''"
      ],
      "execution_count": null,
      "outputs": []
    },
    {
      "cell_type": "code",
      "metadata": {
        "id": "4Ngw1VXioFR9",
        "colab_type": "code",
        "colab": {},
        "outputId": "495a1c3b-6d2a-4e02-a19a-78e9d9ecef8b"
      },
      "source": [
        "lista"
      ],
      "execution_count": null,
      "outputs": [
        {
          "output_type": "execute_result",
          "data": {
            "text/plain": [
              "[5, 3, 4, 8, 9, 6, 0, 1, 2, 7]"
            ]
          },
          "metadata": {
            "tags": []
          },
          "execution_count": 67
        }
      ]
    },
    {
      "cell_type": "markdown",
      "metadata": {
        "id": "wwszylpfoFR-",
        "colab_type": "text"
      },
      "source": [
        "Zadanie 7: Jak to samo zrobić na tablicy kilkuwymiarowej?"
      ]
    },
    {
      "cell_type": "code",
      "metadata": {
        "id": "DC8HM1zcoFSA",
        "colab_type": "code",
        "colab": {},
        "outputId": "bbf2c782-e651-45cc-eaec-8f88937bd2da"
      },
      "source": [
        "np.random.seed(100)\n",
        "m = np.random.randint(20, size=[2,5])\n",
        "m"
      ],
      "execution_count": null,
      "outputs": [
        {
          "output_type": "execute_result",
          "data": {
            "text/plain": [
              "array([[ 8,  3,  7, 15, 16],\n",
              "       [10,  2,  2,  2, 14]])"
            ]
          },
          "metadata": {
            "tags": []
          },
          "execution_count": 68
        }
      ]
    },
    {
      "cell_type": "code",
      "metadata": {
        "id": "lpj6SD87oFSC",
        "colab_type": "code",
        "colab": {},
        "outputId": "0285d980-4c14-44ca-af70-c9654cce96a3"
      },
      "source": [
        "m.flatten().argsort().argsort().reshape(m.shape)"
      ],
      "execution_count": null,
      "outputs": [
        {
          "output_type": "execute_result",
          "data": {
            "text/plain": [
              "array([[5, 3, 4, 8, 9],\n",
              "       [6, 0, 1, 2, 7]], dtype=int64)"
            ]
          },
          "metadata": {
            "tags": []
          },
          "execution_count": 69
        }
      ]
    },
    {
      "cell_type": "code",
      "metadata": {
        "id": "HCOzjuLUoFSE",
        "colab_type": "code",
        "colab": {},
        "outputId": "e1fba7c2-0424-47eb-e69f-cf6484d4d496"
      },
      "source": [
        "# lub per wiersz tak samo:\n",
        "np.argsort(np.argsort(m))"
      ],
      "execution_count": null,
      "outputs": [
        {
          "output_type": "execute_result",
          "data": {
            "text/plain": [
              "array([[2, 0, 1, 3, 4],\n",
              "       [3, 0, 1, 2, 4]], dtype=int64)"
            ]
          },
          "metadata": {
            "tags": []
          },
          "execution_count": 70
        }
      ]
    },
    {
      "cell_type": "code",
      "metadata": {
        "id": "vAc6hCALoFSF",
        "colab_type": "code",
        "colab": {},
        "outputId": "be0d36e3-7467-44b2-ed5a-df06d10a2938"
      },
      "source": [
        "# rozwiązanie Bartka\n",
        "import numpy as np\n",
        "\n",
        "np.random.seed(100)\n",
        "m = np.random.randint(20, size=[2,5])\n",
        "m = m.flatten()\n",
        "n = np.sort(m)\n",
        "dictionaries = {}\n",
        "value = 0\n",
        "for number in n:\n",
        "    if number in dictionaries:\n",
        "        dictionaries[number].append(value)\n",
        "    else:\n",
        "        dictionaries[number] = [value]\n",
        "    value += 1\n",
        "i = 0\n",
        "indexes = []\n",
        "for number in m:\n",
        "    value = dictionaries[number][0]\n",
        "    if value in indexes:\n",
        "        while value in indexes:\n",
        "            value += 1\n",
        "        indexes.append(value)\n",
        "    else:\n",
        "        indexes.append(value)\n",
        "\n",
        "array = np.array(indexes)\n",
        "array.resize(2,len(indexes)//2)\n",
        "print(array)"
      ],
      "execution_count": null,
      "outputs": [
        {
          "output_type": "stream",
          "text": [
            "[[5 3 4 8 9]\n",
            " [6 0 1 2 7]]\n"
          ],
          "name": "stdout"
        }
      ]
    },
    {
      "cell_type": "markdown",
      "metadata": {
        "id": "pnxrhKyloFSH",
        "colab_type": "text"
      },
      "source": [
        "Zadanie 8: Podaj maksymalną wartość w każdym wierszu poniższej tablicy"
      ]
    },
    {
      "cell_type": "code",
      "metadata": {
        "id": "3AtzYC6GoFSH",
        "colab_type": "code",
        "colab": {},
        "outputId": "a0fe87ad-f6de-40eb-cff4-b7debe9fa0c9"
      },
      "source": [
        "np.random.seed(100)\n",
        "m = np.random.randint(20, size=[5,5])\n",
        "m"
      ],
      "execution_count": null,
      "outputs": [
        {
          "output_type": "execute_result",
          "data": {
            "text/plain": [
              "array([[ 8,  3,  7, 15, 16],\n",
              "       [10,  2,  2,  2, 14],\n",
              "       [ 2, 17, 16, 15,  4],\n",
              "       [11, 16,  9,  2, 12],\n",
              "       [ 4,  1, 13, 19,  4]])"
            ]
          },
          "metadata": {
            "tags": []
          },
          "execution_count": 72
        }
      ]
    },
    {
      "cell_type": "code",
      "metadata": {
        "id": "iejWzV4KoFSJ",
        "colab_type": "code",
        "colab": {},
        "outputId": "725fc07e-6585-4e1b-c072-1b21c52d9ece"
      },
      "source": [
        "np.max(m, axis=1)"
      ],
      "execution_count": null,
      "outputs": [
        {
          "output_type": "execute_result",
          "data": {
            "text/plain": [
              "array([16, 14, 17, 16, 19])"
            ]
          },
          "metadata": {
            "tags": []
          },
          "execution_count": 73
        }
      ]
    },
    {
      "cell_type": "code",
      "metadata": {
        "id": "hX8vvfzloFSL",
        "colab_type": "code",
        "colab": {},
        "outputId": "e1957df2-dbb5-4e60-e2e4-7aa2e72001ca"
      },
      "source": [
        "#rozwiązanie Filipa\n",
        "for i in range(m.shape[0]):\n",
        "    print(m[i].max())"
      ],
      "execution_count": null,
      "outputs": [
        {
          "output_type": "stream",
          "text": [
            "16\n",
            "14\n",
            "17\n",
            "16\n",
            "19\n"
          ],
          "name": "stdout"
        }
      ]
    },
    {
      "cell_type": "markdown",
      "metadata": {
        "id": "91PLoAzWoFSM",
        "colab_type": "text"
      },
      "source": [
        "Zadanie 9: Znajdź indeksy duplikatów, oznacz je jako True. Pierwsze wystąpienie danej wartości powinno być oznaczone jako False\n",
        "\n",
        "przykład:\n",
        "[0, 0, 3, 0, 2, 4, 2, 2, 2, 2] -> [False  True False  True False False  True  True  True  True]"
      ]
    },
    {
      "cell_type": "code",
      "metadata": {
        "id": "5kzTgyoVoFSN",
        "colab_type": "code",
        "colab": {},
        "outputId": "f9a948e1-2a74-4d0c-c5fc-a534f0e20e5c"
      },
      "source": [
        "np.random.seed(100)\n",
        "m = np.random.randint(0, 5, 10)\n",
        "m"
      ],
      "execution_count": null,
      "outputs": [
        {
          "output_type": "execute_result",
          "data": {
            "text/plain": [
              "array([0, 0, 3, 0, 2, 4, 2, 2, 2, 2])"
            ]
          },
          "metadata": {
            "tags": []
          },
          "execution_count": 75
        }
      ]
    },
    {
      "cell_type": "code",
      "metadata": {
        "id": "FBB0LD8IoFSO",
        "colab_type": "code",
        "colab": {},
        "outputId": "b7518dc3-9771-4fdb-c79e-6372fd040bc1"
      },
      "source": [
        "out = np.full(m.shape[0], True)\n",
        "uniques = np.unique(m, return_index=True)\n",
        "uniques"
      ],
      "execution_count": null,
      "outputs": [
        {
          "output_type": "execute_result",
          "data": {
            "text/plain": [
              "(array([0, 2, 3, 4]), array([0, 4, 2, 5], dtype=int64))"
            ]
          },
          "metadata": {
            "tags": []
          },
          "execution_count": 76
        }
      ]
    },
    {
      "cell_type": "code",
      "metadata": {
        "id": "LjdJqIZroFSQ",
        "colab_type": "code",
        "colab": {}
      },
      "source": [
        "unique_positions = uniques[1]"
      ],
      "execution_count": null,
      "outputs": []
    },
    {
      "cell_type": "code",
      "metadata": {
        "id": "X3m0aecaoFSS",
        "colab_type": "code",
        "colab": {},
        "outputId": "87f34d38-b8c6-4c7e-aea0-1d0b1336cd0e"
      },
      "source": [
        "out"
      ],
      "execution_count": null,
      "outputs": [
        {
          "output_type": "execute_result",
          "data": {
            "text/plain": [
              "array([ True,  True,  True,  True,  True,  True,  True,  True,  True,\n",
              "        True])"
            ]
          },
          "metadata": {
            "tags": []
          },
          "execution_count": 78
        }
      ]
    },
    {
      "cell_type": "code",
      "metadata": {
        "id": "aumscEkDoFSU",
        "colab_type": "code",
        "colab": {},
        "outputId": "9aed4842-3355-44f5-e1b8-6d7d08e0039e"
      },
      "source": [
        "out[unique_positions] = False\n",
        "out"
      ],
      "execution_count": null,
      "outputs": [
        {
          "output_type": "execute_result",
          "data": {
            "text/plain": [
              "array([False,  True, False,  True, False, False,  True,  True,  True,\n",
              "        True])"
            ]
          },
          "metadata": {
            "tags": []
          },
          "execution_count": 79
        }
      ]
    },
    {
      "cell_type": "code",
      "metadata": {
        "id": "ov8fOJ0XoFSV",
        "colab_type": "code",
        "colab": {},
        "outputId": "35042077-6be4-4963-fa68-46887d304de6"
      },
      "source": [
        "# lub\n",
        "[True if m[i] in m[:i] else False for i in range(m.size)]"
      ],
      "execution_count": null,
      "outputs": [
        {
          "output_type": "execute_result",
          "data": {
            "text/plain": [
              "[False, True, False, True, False, False, True, True, True, True]"
            ]
          },
          "metadata": {
            "tags": []
          },
          "execution_count": 80
        }
      ]
    },
    {
      "cell_type": "code",
      "metadata": {
        "id": "LHpLHetDoFSX",
        "colab_type": "code",
        "colab": {}
      },
      "source": [
        "# rozwiązanie Michala\n",
        "\n",
        "alreadyhere = []\n",
        "dupes = np.array([])\n",
        "\n",
        "for i in m:\n",
        "    if i in alreadyhere:\n",
        "        np.append(dupes, True)\n",
        "    else:\n",
        "        alreadyhere.append(i)\n",
        "        np.append(dupes, False)"
      ],
      "execution_count": null,
      "outputs": []
    },
    {
      "cell_type": "code",
      "metadata": {
        "id": "m7UHcWdioFSY",
        "colab_type": "code",
        "colab": {},
        "outputId": "ea70510a-7a4a-4734-9821-54221c666e0a"
      },
      "source": [
        ""
      ],
      "execution_count": null,
      "outputs": [
        {
          "output_type": "execute_result",
          "data": {
            "text/plain": [
              "array([], dtype=float64)"
            ]
          },
          "metadata": {
            "tags": []
          },
          "execution_count": 83
        }
      ]
    },
    {
      "cell_type": "markdown",
      "metadata": {
        "id": "c8VzsE_JoFSb",
        "colab_type": "text"
      },
      "source": [
        "Zadanie 10: Jak wyrzucić wszystkie wartości np.nan z macierzy?"
      ]
    },
    {
      "cell_type": "code",
      "metadata": {
        "id": "-91AzwyLoFSb",
        "colab_type": "code",
        "colab": {},
        "outputId": "d6cdde81-4527-4ece-edf9-a0e854e71224"
      },
      "source": [
        "m = np.array([1,2,3,np.nan,5,6,7,np.nan])\n",
        "m"
      ],
      "execution_count": null,
      "outputs": [
        {
          "output_type": "execute_result",
          "data": {
            "text/plain": [
              "array([ 1.,  2.,  3., nan,  5.,  6.,  7., nan])"
            ]
          },
          "metadata": {
            "tags": []
          },
          "execution_count": 88
        }
      ]
    },
    {
      "cell_type": "code",
      "metadata": {
        "id": "XsZ59Js2oFSd",
        "colab_type": "code",
        "colab": {},
        "outputId": "f499a493-0fe9-4563-d925-2c23d456d63f"
      },
      "source": [
        "m[~np.isnan(m)]"
      ],
      "execution_count": null,
      "outputs": [
        {
          "output_type": "execute_result",
          "data": {
            "text/plain": [
              "array([1., 2., 3., 5., 6., 7.])"
            ]
          },
          "metadata": {
            "tags": []
          },
          "execution_count": 85
        }
      ]
    },
    {
      "cell_type": "code",
      "metadata": {
        "id": "LSnEiv-DoFSf",
        "colab_type": "code",
        "colab": {},
        "outputId": "5110671b-3717-48c9-b65f-75314552c2af"
      },
      "source": [
        "m = [x for x in m if str(x)!='nan']\n",
        "m"
      ],
      "execution_count": null,
      "outputs": [
        {
          "output_type": "execute_result",
          "data": {
            "text/plain": [
              "[1.0, 2.0, 3.0, 5.0, 6.0, 7.0]"
            ]
          },
          "metadata": {
            "tags": []
          },
          "execution_count": 86
        }
      ]
    },
    {
      "cell_type": "code",
      "metadata": {
        "id": "Ga9P_GcsoFSi",
        "colab_type": "code",
        "colab": {},
        "outputId": "d13fbb78-1e47-472a-bfb0-0d76369984ff"
      },
      "source": [
        "# rozwiązanie Ani\n",
        "m[np.isnan(m)==False]"
      ],
      "execution_count": null,
      "outputs": [
        {
          "output_type": "execute_result",
          "data": {
            "text/plain": [
              "array([1., 2., 3., 5., 6., 7.])"
            ]
          },
          "metadata": {
            "tags": []
          },
          "execution_count": 89
        }
      ]
    },
    {
      "cell_type": "markdown",
      "metadata": {
        "id": "yoQtUNBeoFSk",
        "colab_type": "text"
      },
      "source": [
        "Zadanie 11: Znajdź indeks n-tego powtórzenia liczby 1 w tablicy:"
      ]
    },
    {
      "cell_type": "code",
      "metadata": {
        "id": "vzFKRmqYoFSk",
        "colab_type": "code",
        "colab": {}
      },
      "source": [
        "m = np.array([1, 2, 1, 1, 3, 4, 3, 1, 1, 2, 1, 1, 2])\n",
        "n = 6"
      ],
      "execution_count": null,
      "outputs": []
    },
    {
      "cell_type": "code",
      "metadata": {
        "id": "hktrbzn3oFSm",
        "colab_type": "code",
        "colab": {},
        "outputId": "811f44d8-8554-49e7-f29b-40df6a0116ed"
      },
      "source": [
        "indexes = np.where(m == 1)\n",
        "indexes"
      ],
      "execution_count": null,
      "outputs": [
        {
          "output_type": "execute_result",
          "data": {
            "text/plain": [
              "(array([ 0,  2,  3,  7,  8, 10, 11], dtype=int64),)"
            ]
          },
          "metadata": {
            "tags": []
          },
          "execution_count": 91
        }
      ]
    },
    {
      "cell_type": "code",
      "metadata": {
        "id": "2o9hDxj_oFSn",
        "colab_type": "code",
        "colab": {},
        "outputId": "c0e9af5d-3013-440c-80eb-7818d13680fd"
      },
      "source": [
        "n_index = indexes[0][n-1]\n",
        "n_index"
      ],
      "execution_count": null,
      "outputs": [
        {
          "output_type": "execute_result",
          "data": {
            "text/plain": [
              "10"
            ]
          },
          "metadata": {
            "tags": []
          },
          "execution_count": 92
        }
      ]
    },
    {
      "cell_type": "code",
      "metadata": {
        "id": "nwEvmiCCoFSp",
        "colab_type": "code",
        "colab": {},
        "outputId": "4b9f25c2-2372-4a96-cc08-481d02a815d7"
      },
      "source": [
        "# rozwiązanie Sebastiana\n",
        "result=[x for x,y in enumerate(m) if y==1][n-1]\n",
        "print(result)"
      ],
      "execution_count": null,
      "outputs": [
        {
          "output_type": "stream",
          "text": [
            "10\n"
          ],
          "name": "stdout"
        }
      ]
    },
    {
      "cell_type": "markdown",
      "metadata": {
        "id": "L4-Tk65ioFSq",
        "colab_type": "text"
      },
      "source": [
        "Zadanie 12: Uzupełnij brakujące daty w poniższej serii (chcemy uzyskać każdy dzień w tablicy). Możesz sprawdzić w dokumentacji funkcje 'diff' : https://docs.scipy.org/doc/numpy-1.10.1/reference/generated/numpy.diff.html"
      ]
    },
    {
      "cell_type": "code",
      "metadata": {
        "id": "THqeBKcvoFSq",
        "colab_type": "code",
        "colab": {},
        "outputId": "1bc874d2-03d4-4f62-a6cd-e3971275b5f4"
      },
      "source": [
        "dates = np.array(['2019-12-01', '2019-12-03', '2019-12-05', '2019-12-07', \n",
        "         '2019-12-09', '2019-12-15', '2019-12-17', '2019-12-19', '2019-12-23'], dtype=np.datetime64)\n",
        "dates"
      ],
      "execution_count": null,
      "outputs": [
        {
          "output_type": "execute_result",
          "data": {
            "text/plain": [
              "array(['2019-12-01', '2019-12-03', '2019-12-05', '2019-12-07',\n",
              "       '2019-12-09', '2019-12-15', '2019-12-17', '2019-12-19',\n",
              "       '2019-12-23'], dtype='datetime64[D]')"
            ]
          },
          "metadata": {
            "tags": []
          },
          "execution_count": 97
        }
      ]
    },
    {
      "cell_type": "code",
      "metadata": {
        "id": "yAsq1FCNoFSt",
        "colab_type": "code",
        "colab": {},
        "outputId": "84f0eb3c-f1b7-4109-f81b-a19169e09209"
      },
      "source": [
        "# z dokumentacji\n",
        "x = np.array([1, 2, 4, 7, 0])\n",
        "np.diff(x)\n",
        "array([ 1,  2,  3, -7])"
      ],
      "execution_count": null,
      "outputs": [
        {
          "output_type": "error",
          "ename": "TypeError",
          "evalue": "'numpy.ndarray' object is not callable",
          "traceback": [
            "\u001b[1;31m---------------------------------------------------------------------------\u001b[0m",
            "\u001b[1;31mTypeError\u001b[0m                                 Traceback (most recent call last)",
            "\u001b[1;32m<ipython-input-95-659304ccc1e8>\u001b[0m in \u001b[0;36m<module>\u001b[1;34m\u001b[0m\n\u001b[0;32m      2\u001b[0m \u001b[0mx\u001b[0m \u001b[1;33m=\u001b[0m \u001b[0mnp\u001b[0m\u001b[1;33m.\u001b[0m\u001b[0marray\u001b[0m\u001b[1;33m(\u001b[0m\u001b[1;33m[\u001b[0m\u001b[1;36m1\u001b[0m\u001b[1;33m,\u001b[0m \u001b[1;36m2\u001b[0m\u001b[1;33m,\u001b[0m \u001b[1;36m4\u001b[0m\u001b[1;33m,\u001b[0m \u001b[1;36m7\u001b[0m\u001b[1;33m,\u001b[0m \u001b[1;36m0\u001b[0m\u001b[1;33m]\u001b[0m\u001b[1;33m)\u001b[0m\u001b[1;33m\u001b[0m\u001b[1;33m\u001b[0m\u001b[0m\n\u001b[0;32m      3\u001b[0m \u001b[0mnp\u001b[0m\u001b[1;33m.\u001b[0m\u001b[0mdiff\u001b[0m\u001b[1;33m(\u001b[0m\u001b[0mx\u001b[0m\u001b[1;33m)\u001b[0m\u001b[1;33m\u001b[0m\u001b[1;33m\u001b[0m\u001b[0m\n\u001b[1;32m----> 4\u001b[1;33m \u001b[0marray\u001b[0m\u001b[1;33m(\u001b[0m\u001b[1;33m[\u001b[0m \u001b[1;36m1\u001b[0m\u001b[1;33m,\u001b[0m  \u001b[1;36m2\u001b[0m\u001b[1;33m,\u001b[0m  \u001b[1;36m3\u001b[0m\u001b[1;33m,\u001b[0m \u001b[1;33m-\u001b[0m\u001b[1;36m7\u001b[0m\u001b[1;33m]\u001b[0m\u001b[1;33m)\u001b[0m\u001b[1;33m\u001b[0m\u001b[1;33m\u001b[0m\u001b[0m\n\u001b[0m",
            "\u001b[1;31mTypeError\u001b[0m: 'numpy.ndarray' object is not callable"
          ]
        }
      ]
    },
    {
      "cell_type": "code",
      "metadata": {
        "id": "71ecmKVFoFSu",
        "colab_type": "code",
        "colab": {},
        "outputId": "3aa1b134-1a1d-451a-a31c-8d38fabbed63"
      },
      "source": [
        "out = []\n",
        "print(np.diff(dates))\n",
        "for date, d in zip(dates, np.diff(dates)):\n",
        "    out.extend(np.arange(date, (date+d)))\n",
        "    \n",
        "out"
      ],
      "execution_count": null,
      "outputs": [
        {
          "output_type": "stream",
          "text": [
            "[2 2 2 2 6 2 2 4]\n"
          ],
          "name": "stdout"
        },
        {
          "output_type": "execute_result",
          "data": {
            "text/plain": [
              "[numpy.datetime64('2019-12-01'),\n",
              " numpy.datetime64('2019-12-02'),\n",
              " numpy.datetime64('2019-12-03'),\n",
              " numpy.datetime64('2019-12-04'),\n",
              " numpy.datetime64('2019-12-05'),\n",
              " numpy.datetime64('2019-12-06'),\n",
              " numpy.datetime64('2019-12-07'),\n",
              " numpy.datetime64('2019-12-08'),\n",
              " numpy.datetime64('2019-12-09'),\n",
              " numpy.datetime64('2019-12-10'),\n",
              " numpy.datetime64('2019-12-11'),\n",
              " numpy.datetime64('2019-12-12'),\n",
              " numpy.datetime64('2019-12-13'),\n",
              " numpy.datetime64('2019-12-14'),\n",
              " numpy.datetime64('2019-12-15'),\n",
              " numpy.datetime64('2019-12-16'),\n",
              " numpy.datetime64('2019-12-17'),\n",
              " numpy.datetime64('2019-12-18'),\n",
              " numpy.datetime64('2019-12-19'),\n",
              " numpy.datetime64('2019-12-20'),\n",
              " numpy.datetime64('2019-12-21'),\n",
              " numpy.datetime64('2019-12-22')]"
            ]
          },
          "metadata": {
            "tags": []
          },
          "execution_count": 96
        }
      ]
    },
    {
      "cell_type": "code",
      "metadata": {
        "id": "6dG-ghMHoFSx",
        "colab_type": "code",
        "colab": {},
        "outputId": "6dae1525-1f92-4a03-86f6-a79d09a715bd"
      },
      "source": [
        "# rozwiązanie Piotra\n",
        "offset = np.timedelta64(1)\n",
        "diff = np.diff(dates)\n",
        "dates = np.append(dates,np.datetime64('2019-12-31'))\n",
        "\n",
        "for i in range(30):\n",
        "    #try:\n",
        "    while diff[i] != offset:\n",
        "        dates = np.insert(dates,i+1,dates[i]+offset)\n",
        "        diff = np.diff(dates)\n",
        "#except IndexError:\n",
        "     #       break\n",
        "print(dates)"
      ],
      "execution_count": null,
      "outputs": [
        {
          "output_type": "stream",
          "text": [
            "['2019-12-01' '2019-12-02' '2019-12-03' '2019-12-04' '2019-12-05'\n",
            " '2019-12-06' '2019-12-07' '2019-12-08' '2019-12-09' '2019-12-10'\n",
            " '2019-12-11' '2019-12-12' '2019-12-13' '2019-12-14' '2019-12-15'\n",
            " '2019-12-16' '2019-12-17' '2019-12-18' '2019-12-19' '2019-12-20'\n",
            " '2019-12-21' '2019-12-22' '2019-12-23' '2019-12-24' '2019-12-25'\n",
            " '2019-12-26' '2019-12-27' '2019-12-28' '2019-12-29' '2019-12-30'\n",
            " '2019-12-31']\n"
          ],
          "name": "stdout"
        }
      ]
    },
    {
      "cell_type": "markdown",
      "metadata": {
        "id": "sNaNmyRgoFSy",
        "colab_type": "text"
      },
      "source": [
        "Zadanie 13: Zaimplementuj algorytm k-Nearest Neighbors (tak, są do tego gotowe funkcje, ale napiszmy swoją ;-p)\n",
        "\n",
        "<img src='images/knn.bmp' width =900>\n",
        "\n",
        "- oblicz dystansy między punktami\n",
        "- przyjmij K=3 jako ilość najbliższych sąsiadów\n",
        "- znajdź k najbliższych punktów dla punktu pierwszego w naszej macierzy (o współrzędnych [8,8]) "
      ]
    },
    {
      "cell_type": "code",
      "metadata": {
        "id": "J3vHUTajoFSz",
        "colab_type": "code",
        "colab": {},
        "outputId": "ba1215c0-289b-49c1-8389-688e6d577c63"
      },
      "source": [
        "np.random.seed(100)\n",
        "X = np.random.randint(0,10,size=[10,2])\n",
        "X"
      ],
      "execution_count": null,
      "outputs": [
        {
          "output_type": "execute_result",
          "data": {
            "text/plain": [
              "array([[8, 8],\n",
              "       [3, 7],\n",
              "       [7, 0],\n",
              "       [4, 2],\n",
              "       [5, 2],\n",
              "       [2, 2],\n",
              "       [1, 0],\n",
              "       [8, 4],\n",
              "       [0, 9],\n",
              "       [6, 2]])"
            ]
          },
          "metadata": {
            "tags": []
          },
          "execution_count": 105
        }
      ]
    },
    {
      "cell_type": "code",
      "metadata": {
        "id": "cAhErzcqoFS1",
        "colab_type": "code",
        "colab": {}
      },
      "source": [
        "x = X[:, 0]\n",
        "y = X[:, 1]"
      ],
      "execution_count": null,
      "outputs": []
    },
    {
      "cell_type": "code",
      "metadata": {
        "id": "wMcLetWMoFS2",
        "colab_type": "code",
        "colab": {},
        "outputId": "08f961ab-2495-4678-bbc3-cac0a7b551de"
      },
      "source": [
        "%matplotlib inline\n",
        "import matplotlib.pyplot as plt\n",
        "plt.scatter(x, y);"
      ],
      "execution_count": null,
      "outputs": [
        {
          "output_type": "display_data",
          "data": {
            "image/png": "[encoded data removed]",
            "text/plain": [
              "<Figure size 432x288 with 1 Axes>"
            ]
          },
          "metadata": {
            "tags": [],
            "needs_background": "light"
          }
        }
      ]
    },
    {
      "cell_type": "code",
      "metadata": {
        "id": "1FoR2WIYoFS4",
        "colab_type": "code",
        "colab": {},
        "outputId": "a1ed612a-f483-42f3-a3ff-92fc81e4e6e1"
      },
      "source": [
        "x[:,np.newaxis]"
      ],
      "execution_count": null,
      "outputs": [
        {
          "output_type": "execute_result",
          "data": {
            "text/plain": [
              "array([[8],\n",
              "       [3],\n",
              "       [7],\n",
              "       [4],\n",
              "       [5],\n",
              "       [2],\n",
              "       [1],\n",
              "       [8],\n",
              "       [0],\n",
              "       [6]])"
            ]
          },
          "metadata": {
            "tags": []
          },
          "execution_count": 107
        }
      ]
    },
    {
      "cell_type": "code",
      "metadata": {
        "id": "bzb1huaroFS5",
        "colab_type": "code",
        "colab": {},
        "outputId": "ea5f75a9-c3cf-4023-bc0a-76cfbcd60305"
      },
      "source": [
        "x[np.newaxis,:]"
      ],
      "execution_count": null,
      "outputs": [
        {
          "output_type": "execute_result",
          "data": {
            "text/plain": [
              "array([[1, 2, 4, 7, 0]])"
            ]
          },
          "metadata": {
            "tags": []
          },
          "execution_count": 101
        }
      ]
    },
    {
      "cell_type": "code",
      "metadata": {
        "id": "hqeQdktPoFS6",
        "colab_type": "code",
        "colab": {},
        "outputId": "53717243-9c11-499b-b0d1-2547735384e9"
      },
      "source": [
        "x_diff = (x[:,np.newaxis]-x[np.newaxis,:])**2\n",
        "x_diff"
      ],
      "execution_count": null,
      "outputs": [
        {
          "output_type": "execute_result",
          "data": {
            "text/plain": [
              "array([[ 0, 25,  1, 16,  9, 36, 49,  0, 64,  4],\n",
              "       [25,  0, 16,  1,  4,  1,  4, 25,  9,  9],\n",
              "       [ 1, 16,  0,  9,  4, 25, 36,  1, 49,  1],\n",
              "       [16,  1,  9,  0,  1,  4,  9, 16, 16,  4],\n",
              "       [ 9,  4,  4,  1,  0,  9, 16,  9, 25,  1],\n",
              "       [36,  1, 25,  4,  9,  0,  1, 36,  4, 16],\n",
              "       [49,  4, 36,  9, 16,  1,  0, 49,  1, 25],\n",
              "       [ 0, 25,  1, 16,  9, 36, 49,  0, 64,  4],\n",
              "       [64,  9, 49, 16, 25,  4,  1, 64,  0, 36],\n",
              "       [ 4,  9,  1,  4,  1, 16, 25,  4, 36,  0]], dtype=int32)"
            ]
          },
          "metadata": {
            "tags": []
          },
          "execution_count": 108
        }
      ]
    },
    {
      "cell_type": "code",
      "metadata": {
        "id": "864hNCVdoFS8",
        "colab_type": "code",
        "colab": {},
        "outputId": "47a68207-e25d-4c36-cd6e-77f93b7ba4ef"
      },
      "source": [
        "y_diff = (y[:,np.newaxis]-y[np.newaxis,:])**2\n",
        "y_diff"
      ],
      "execution_count": null,
      "outputs": [
        {
          "output_type": "execute_result",
          "data": {
            "text/plain": [
              "array([[ 0,  1, 64, 36, 36, 36, 64, 16,  1, 36],\n",
              "       [ 1,  0, 49, 25, 25, 25, 49,  9,  4, 25],\n",
              "       [64, 49,  0,  4,  4,  4,  0, 16, 81,  4],\n",
              "       [36, 25,  4,  0,  0,  0,  4,  4, 49,  0],\n",
              "       [36, 25,  4,  0,  0,  0,  4,  4, 49,  0],\n",
              "       [36, 25,  4,  0,  0,  0,  4,  4, 49,  0],\n",
              "       [64, 49,  0,  4,  4,  4,  0, 16, 81,  4],\n",
              "       [16,  9, 16,  4,  4,  4, 16,  0, 25,  4],\n",
              "       [ 1,  4, 81, 49, 49, 49, 81, 25,  0, 49],\n",
              "       [36, 25,  4,  0,  0,  0,  4,  4, 49,  0]], dtype=int32)"
            ]
          },
          "metadata": {
            "tags": []
          },
          "execution_count": 103
        }
      ]
    },
    {
      "cell_type": "code",
      "metadata": {
        "id": "222A-1XloFS9",
        "colab_type": "code",
        "colab": {},
        "outputId": "73acca68-0697-4a34-acfc-478002a1fac3"
      },
      "source": [
        "diff = y_diff + x_diff\n",
        "diff"
      ],
      "execution_count": null,
      "outputs": [
        {
          "output_type": "execute_result",
          "data": {
            "text/plain": [
              "array([[  0,  26,  65,  52,  45,  72, 113,  16,  65,  40],\n",
              "       [ 26,   0,  65,  26,  29,  26,  53,  34,  13,  34],\n",
              "       [ 65,  65,   0,  13,   8,  29,  36,  17, 130,   5],\n",
              "       [ 52,  26,  13,   0,   1,   4,  13,  20,  65,   4],\n",
              "       [ 45,  29,   8,   1,   0,   9,  20,  13,  74,   1],\n",
              "       [ 72,  26,  29,   4,   9,   0,   5,  40,  53,  16],\n",
              "       [113,  53,  36,  13,  20,   5,   0,  65,  82,  29],\n",
              "       [ 16,  34,  17,  20,  13,  40,  65,   0,  89,   8],\n",
              "       [ 65,  13, 130,  65,  74,  53,  82,  89,   0,  85],\n",
              "       [ 40,  34,   5,   4,   1,  16,  29,   8,  85,   0]], dtype=int32)"
            ]
          },
          "metadata": {
            "tags": []
          },
          "execution_count": 109
        }
      ]
    },
    {
      "cell_type": "code",
      "metadata": {
        "id": "-EwLX3t0oFS-",
        "colab_type": "code",
        "colab": {},
        "outputId": "edc3d75d-72d1-4383-ee75-be65732165f7"
      },
      "source": [
        "diff = np.sqrt(diff)\n",
        "diff"
      ],
      "execution_count": null,
      "outputs": [
        {
          "output_type": "execute_result",
          "data": {
            "text/plain": [
              "array([[ 0.        ,  5.09901951,  8.06225775,  7.21110255,  6.70820393,\n",
              "         8.48528137, 10.63014581,  4.        ,  8.06225775,  6.32455532],\n",
              "       [ 5.09901951,  0.        ,  8.06225775,  5.09901951,  5.38516481,\n",
              "         5.09901951,  7.28010989,  5.83095189,  3.60555128,  5.83095189],\n",
              "       [ 8.06225775,  8.06225775,  0.        ,  3.60555128,  2.82842712,\n",
              "         5.38516481,  6.        ,  4.12310563, 11.40175425,  2.23606798],\n",
              "       [ 7.21110255,  5.09901951,  3.60555128,  0.        ,  1.        ,\n",
              "         2.        ,  3.60555128,  4.47213595,  8.06225775,  2.        ],\n",
              "       [ 6.70820393,  5.38516481,  2.82842712,  1.        ,  0.        ,\n",
              "         3.        ,  4.47213595,  3.60555128,  8.60232527,  1.        ],\n",
              "       [ 8.48528137,  5.09901951,  5.38516481,  2.        ,  3.        ,\n",
              "         0.        ,  2.23606798,  6.32455532,  7.28010989,  4.        ],\n",
              "       [10.63014581,  7.28010989,  6.        ,  3.60555128,  4.47213595,\n",
              "         2.23606798,  0.        ,  8.06225775,  9.05538514,  5.38516481],\n",
              "       [ 4.        ,  5.83095189,  4.12310563,  4.47213595,  3.60555128,\n",
              "         6.32455532,  8.06225775,  0.        ,  9.43398113,  2.82842712],\n",
              "       [ 8.06225775,  3.60555128, 11.40175425,  8.06225775,  8.60232527,\n",
              "         7.28010989,  9.05538514,  9.43398113,  0.        ,  9.21954446],\n",
              "       [ 6.32455532,  5.83095189,  2.23606798,  2.        ,  1.        ,\n",
              "         4.        ,  5.38516481,  2.82842712,  9.21954446,  0.        ]])"
            ]
          },
          "metadata": {
            "tags": []
          },
          "execution_count": 110
        }
      ]
    },
    {
      "cell_type": "code",
      "metadata": {
        "id": "mRvA_19KoFTA",
        "colab_type": "code",
        "colab": {},
        "outputId": "dd775312-2fed-40e6-8c95-bb7dbbde3274"
      },
      "source": [
        "K = 2\n",
        "nearest_points = np.argpartition(diff, K + 1, axis=1)\n",
        "nearest_points"
      ],
      "execution_count": null,
      "outputs": [
        {
          "output_type": "execute_result",
          "data": {
            "text/plain": [
              "array([[1, 0, 7, 9, 3, 5, 6, 2, 8, 4],\n",
              "       [1, 8, 3, 0, 5, 4, 6, 7, 2, 9],\n",
              "       [2, 9, 4, 3, 7, 5, 6, 1, 8, 0],\n",
              "       [3, 4, 5, 9, 1, 2, 6, 7, 8, 0],\n",
              "       [3, 4, 9, 2, 5, 7, 6, 1, 8, 0],\n",
              "       [5, 3, 6, 4, 9, 1, 2, 7, 8, 0],\n",
              "       [6, 5, 3, 4, 9, 1, 2, 7, 8, 0],\n",
              "       [7, 9, 4, 0, 2, 3, 1, 5, 8, 6],\n",
              "       [8, 1, 5, 0, 3, 4, 6, 7, 2, 9],\n",
              "       [9, 4, 3, 2, 7, 5, 6, 1, 8, 0]], dtype=int64)"
            ]
          },
          "metadata": {
            "tags": []
          },
          "execution_count": 111
        }
      ]
    },
    {
      "cell_type": "code",
      "metadata": {
        "id": "SqvJnUaNoFTB",
        "colab_type": "code",
        "colab": {},
        "outputId": "8f77754a-2bb6-4884-d5f9-8c09ea8f7522"
      },
      "source": [
        "nearest_points[0,:K+2]"
      ],
      "execution_count": null,
      "outputs": [
        {
          "output_type": "execute_result",
          "data": {
            "text/plain": [
              "array([1, 0, 7, 9], dtype=int64)"
            ]
          },
          "metadata": {
            "tags": []
          },
          "execution_count": 112
        }
      ]
    },
    {
      "cell_type": "code",
      "metadata": {
        "id": "HURKV168oFTC",
        "colab_type": "code",
        "colab": {},
        "outputId": "2836873d-df26-4066-a446-fbeb7db4d776"
      },
      "source": [
        "best_for_first_point = X[nearest_points[0,:K+2]]\n",
        "best_for_first_point"
      ],
      "execution_count": null,
      "outputs": [
        {
          "output_type": "execute_result",
          "data": {
            "text/plain": [
              "array([[3, 7],\n",
              "       [8, 8],\n",
              "       [8, 4],\n",
              "       [6, 2]])"
            ]
          },
          "metadata": {
            "tags": []
          },
          "execution_count": 113
        }
      ]
    },
    {
      "cell_type": "code",
      "metadata": {
        "id": "29jfOYwOoFTD",
        "colab_type": "code",
        "colab": {},
        "outputId": "d1471892-fce1-4840-b0b9-8387632f4ac0"
      },
      "source": [
        "plt.scatter(X[:, 0], X[:, 1], s=100)\n",
        "\n",
        "for i in nearest_points[0, :K+2]:\n",
        "    plt.plot(*zip(X[i], X[0]))"
      ],
      "execution_count": null,
      "outputs": [
        {
          "output_type": "display_data",
          "data": {
            "image/png": "[encoded data removed]",
            "text/plain": [
              "<Figure size 432x288 with 1 Axes>"
            ]
          },
          "metadata": {
            "tags": [],
            "needs_background": "light"
          }
        }
      ]
    },
    {
      "cell_type": "code",
      "metadata": {
        "id": "VQEvlRggoFTF",
        "colab_type": "code",
        "colab": {},
        "outputId": "fc90223d-edca-47ac-cc9b-b42dd401b030"
      },
      "source": [
        "# rozwiązanie Kingi\n",
        "import numpy as np\n",
        "import datetime\n",
        "import matplotlib.pyplot as plt\n",
        "np.random.seed(100)\n",
        "X = np.random.randint(0,10,size=[10,2])\n",
        "x = X[:, 0]\n",
        "y = X[:, 1]\n",
        "X.size\n",
        "import math\n",
        "K=[0] # to będzie wektor przechowujący odleglosci dla każdych współrzędnych\n",
        "for S in range(1,10): #iterujemy po wierszach w tabeli\n",
        "    d=math.sqrt(pow(8-(X[S,0]),2)+pow(8-X[S,1],2))\n",
        "    K.append(d)\n",
        "#print(K)\n",
        "Sortowanie=np.argsort(K)\n",
        "#print(Sortowanie)\n",
        "Sasiedzi=np.zeros((4,2))\n",
        "#print(Sasiedzi)\n",
        "for s in range(0,4):\n",
        "    Sasiedzi[s,0]=X[Sortowanie[s],0]\n",
        "    Sasiedzi[s,1]=X[Sortowanie[s],1]\n",
        "print(Sasiedzi)\n",
        "#%matplotlib inline\n",
        "plt.scatter(x, y);\n",
        "plt.scatter(Sasiedzi[:,0], Sasiedzi[:,1]);"
      ],
      "execution_count": null,
      "outputs": [
        {
          "output_type": "stream",
          "text": [
            "[[8. 8.]\n",
            " [8. 4.]\n",
            " [3. 7.]\n",
            " [6. 2.]]\n"
          ],
          "name": "stdout"
        },
        {
          "output_type": "display_data",
          "data": {
            "image/png": "[encoded data removed]",
            "text/plain": [
              "<Figure size 432x288 with 1 Axes>"
            ]
          },
          "metadata": {
            "tags": [],
            "needs_background": "light"
          }
        }
      ]
    },
    {
      "cell_type": "markdown",
      "metadata": {
        "id": "ADRHSih0oFTH",
        "colab_type": "text"
      },
      "source": [
        "14. Policz ile elementów w macierzy jest niezerowych"
      ]
    },
    {
      "cell_type": "code",
      "metadata": {
        "id": "7oSDv_BqoFTH",
        "colab_type": "code",
        "colab": {}
      },
      "source": [
        "x = np.array([[0,1,7,0,22],\n",
        "              [3,0,0,2,19]])"
      ],
      "execution_count": null,
      "outputs": []
    },
    {
      "cell_type": "code",
      "metadata": {
        "id": "3LXMucaOoFTK",
        "colab_type": "code",
        "colab": {},
        "outputId": "e1189713-4f07-4108-a7df-959fa33f871d"
      },
      "source": [
        "len(x[x!=0])"
      ],
      "execution_count": null,
      "outputs": [
        {
          "output_type": "execute_result",
          "data": {
            "text/plain": [
              "6"
            ]
          },
          "metadata": {
            "tags": []
          },
          "execution_count": 117
        }
      ]
    },
    {
      "cell_type": "code",
      "metadata": {
        "id": "VYVAbpgBoFTL",
        "colab_type": "code",
        "colab": {},
        "outputId": "5b3f3113-70ce-43cd-b43f-9095c134a267"
      },
      "source": [
        "# lub\n",
        "np.count_nonzero(x)"
      ],
      "execution_count": null,
      "outputs": [
        {
          "output_type": "execute_result",
          "data": {
            "text/plain": [
              "6"
            ]
          },
          "metadata": {
            "tags": []
          },
          "execution_count": 118
        }
      ]
    },
    {
      "cell_type": "code",
      "metadata": {
        "id": "qr83RX6SoFTN",
        "colab_type": "code",
        "colab": {},
        "outputId": "4b971137-46bb-4896-983f-76ae3b626780"
      },
      "source": [
        "# rozwiązanie Mai:\n",
        "np.count_nonzero(x!=0)"
      ],
      "execution_count": null,
      "outputs": [
        {
          "output_type": "execute_result",
          "data": {
            "text/plain": [
              "6"
            ]
          },
          "metadata": {
            "tags": []
          },
          "execution_count": 119
        }
      ]
    }
  ]
}