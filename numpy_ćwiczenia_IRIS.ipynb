{
  "nbformat": 4,
  "nbformat_minor": 0,
  "metadata": {
    "kernelspec": {
      "display_name": "Python 3",
      "language": "python",
      "name": "python3"
    },
    "language_info": {
      "codemirror_mode": {
        "name": "ipython",
        "version": 3
      },
      "file_extension": ".py",
      "mimetype": "text/x-python",
      "name": "python",
      "nbconvert_exporter": "python",
      "pygments_lexer": "ipython3",
      "version": "3.7.3"
    },
    "toc": {
      "base_numbering": 1,
      "nav_menu": {},
      "number_sections": true,
      "sideBar": true,
      "skip_h1_title": false,
      "title_cell": "Table of Contents",
      "title_sidebar": "Contents",
      "toc_cell": false,
      "toc_position": {},
      "toc_section_display": true,
      "toc_window_display": false
    },
    "colab": {
      "name": "numpy ćwiczenia - IRIS.ipynb",
      "provenance": [],
      "include_colab_link": true
    }
  },
  "cells": [
    {
      "cell_type": "markdown",
      "metadata": {
        "id": "view-in-github",
        "colab_type": "text"
      },
      "source": [
        "<a href=\"https://colab.research.google.com/github/annagradziel12/NumPy/blob/master/numpy_%C4%87wiczenia_IRIS.ipynb\" target=\"_parent\"><img src=\"https://colab.research.google.com/assets/colab-badge.svg\" alt=\"Open In Colab\"/></a>"
      ]
    },
    {
      "cell_type": "markdown",
      "metadata": {
        "id": "-DJ4vBcVqDON",
        "colab_type": "text"
      },
      "source": [
        "## IRIS DATASET"
      ]
    },
    {
      "cell_type": "code",
      "metadata": {
        "id": "TGrQH-YXqDOO",
        "colab_type": "code",
        "colab": {}
      },
      "source": [
        "import numpy as np"
      ],
      "execution_count": null,
      "outputs": []
    },
    {
      "cell_type": "code",
      "metadata": {
        "id": "ccBq-zKqqDOQ",
        "colab_type": "code",
        "colab": {},
        "outputId": "13f0f377-7997-4263-c3c3-3b953e2020f9"
      },
      "source": [
        "file = 'iris.data'\n",
        "iris = np.genfromtxt(file, delimiter=',', dtype='object')\n",
        "names = ('sepallength', 'sepalwidth', 'petallength', 'petalwidth', 'species')\n",
        "\n",
        "print(iris.shape)\n",
        "iris[:10]"
      ],
      "execution_count": null,
      "outputs": [
        {
          "output_type": "stream",
          "text": [
            "(150, 5)\n"
          ],
          "name": "stdout"
        },
        {
          "output_type": "execute_result",
          "data": {
            "text/plain": [
              "array([[b'5.1', b'3.5', b'1.4', b'0.2', b'Iris-setosa'],\n",
              "       [b'4.9', b'3.0', b'1.4', b'0.2', b'Iris-setosa'],\n",
              "       [b'4.7', b'3.2', b'1.3', b'0.2', b'Iris-setosa'],\n",
              "       [b'4.6', b'3.1', b'1.5', b'0.2', b'Iris-setosa'],\n",
              "       [b'5.0', b'3.6', b'1.4', b'0.2', b'Iris-setosa'],\n",
              "       [b'5.4', b'3.9', b'1.7', b'0.4', b'Iris-setosa'],\n",
              "       [b'4.6', b'3.4', b'1.4', b'0.3', b'Iris-setosa'],\n",
              "       [b'5.0', b'3.4', b'1.5', b'0.2', b'Iris-setosa'],\n",
              "       [b'4.4', b'2.9', b'1.4', b'0.2', b'Iris-setosa'],\n",
              "       [b'4.9', b'3.1', b'1.5', b'0.1', b'Iris-setosa']], dtype=object)"
            ]
          },
          "metadata": {
            "tags": []
          },
          "execution_count": 2
        }
      ]
    },
    {
      "cell_type": "markdown",
      "metadata": {
        "id": "KnIJrOgcqDOT",
        "colab_type": "text"
      },
      "source": [
        "Zadanie 1: Wybierz kolumnę 'species'"
      ]
    },
    {
      "cell_type": "code",
      "metadata": {
        "id": "58x1OBEWqDOU",
        "colab_type": "code",
        "colab": {},
        "outputId": "2651d82a-1dfa-41c0-dff7-276f26525fc7"
      },
      "source": [
        "species = iris[:,4]\n",
        "species[:5]"
      ],
      "execution_count": null,
      "outputs": [
        {
          "output_type": "execute_result",
          "data": {
            "text/plain": [
              "array([b'Iris-setosa', b'Iris-setosa', b'Iris-setosa', b'Iris-setosa',\n",
              "       b'Iris-setosa'], dtype=object)"
            ]
          },
          "metadata": {
            "tags": []
          },
          "execution_count": 3
        }
      ]
    },
    {
      "cell_type": "markdown",
      "metadata": {
        "id": "mSt-W4egqDOW",
        "colab_type": "text"
      },
      "source": [
        "Zadanie 2: Wybierz wszystkie kolumny oprócz 'species'"
      ]
    },
    {
      "cell_type": "code",
      "metadata": {
        "id": "z9QbhSzXqDOW",
        "colab_type": "code",
        "colab": {},
        "outputId": "032b3441-c0fb-4144-9059-4257ae430d58"
      },
      "source": [
        "iris_values = iris[:,:4].astype(float)\n",
        "iris_values.shape"
      ],
      "execution_count": null,
      "outputs": [
        {
          "output_type": "execute_result",
          "data": {
            "text/plain": [
              "(150, 4)"
            ]
          },
          "metadata": {
            "tags": []
          },
          "execution_count": 4
        }
      ]
    },
    {
      "cell_type": "markdown",
      "metadata": {
        "id": "zGo1faVsqDOY",
        "colab_type": "text"
      },
      "source": [
        "Zadanie 3: Oblicz średnią, medianę i odchylenie standardowe wartości 'sepalwidth'"
      ]
    },
    {
      "cell_type": "code",
      "metadata": {
        "id": "UgnLg0kaqDOY",
        "colab_type": "code",
        "colab": {},
        "outputId": "b8b9149f-4a14-4f7b-f6ae-d30a77a472b5"
      },
      "source": [
        "sepalwidth = iris[:,1].astype(float)\n",
        "sepalwidth[:10]"
      ],
      "execution_count": null,
      "outputs": [
        {
          "output_type": "execute_result",
          "data": {
            "text/plain": [
              "array([3.5, 3. , 3.2, 3.1, 3.6, 3.9, 3.4, 3.4, 2.9, 3.1])"
            ]
          },
          "metadata": {
            "tags": []
          },
          "execution_count": 5
        }
      ]
    },
    {
      "cell_type": "code",
      "metadata": {
        "id": "y8XQ1jacqDOa",
        "colab_type": "code",
        "colab": {},
        "outputId": "d0265ac1-88c5-462b-8381-b7fd898af72a"
      },
      "source": [
        "srednia = np.mean(sepalwidth)\n",
        "mediana = np.median(sepalwidth) \n",
        "odchylenie = np.std(sepalwidth)\n",
        "print(srednia, mediana, odchylenie)"
      ],
      "execution_count": null,
      "outputs": [
        {
          "output_type": "stream",
          "text": [
            "3.0540000000000003 3.0 0.4321465800705435\n"
          ],
          "name": "stdout"
        }
      ]
    },
    {
      "cell_type": "markdown",
      "metadata": {
        "id": "0IV6pDqkqDOc",
        "colab_type": "text"
      },
      "source": [
        "Zadanie 4: Znormalizuj dane w kolumnie 'sepalwidth' wg poniższego wzoru:\n",
        "        \n",
        "<img src='images/min max scaler.bmp' width = 300>\n",
        "\n",
        "Dlaczego to jest ważne można przeczytać np tu: https://medium.com/@urvashilluniya/why-data-normalization-is-necessary-for-machine-learning-models-681b65a05029\n",
        "\n",
        "normalizacja: 0 - 1,\n",
        "\n",
        "standaryzacja: srednia 0, std = 1"
      ]
    },
    {
      "cell_type": "code",
      "metadata": {
        "id": "78n6S6MEqDOd",
        "colab_type": "code",
        "colab": {},
        "outputId": "be9d7e40-5854-4cb2-e74b-af68dac51f30"
      },
      "source": [
        "sepalwidth_max, sepalwidth_min = sepalwidth.max(), sepalwidth.min()\n",
        "min_max = sepalwidth_max - sepalwidth_min\n",
        "sepalwidth_normalized = (sepalwidth - sepalwidth_min)/min_max\n",
        "sepalwidth_normalized"
      ],
      "execution_count": null,
      "outputs": [
        {
          "output_type": "execute_result",
          "data": {
            "text/plain": [
              "array([0.625     , 0.41666667, 0.5       , 0.45833333, 0.66666667,\n",
              "       0.79166667, 0.58333333, 0.58333333, 0.375     , 0.45833333,\n",
              "       0.70833333, 0.58333333, 0.41666667, 0.41666667, 0.83333333,\n",
              "       1.        , 0.79166667, 0.625     , 0.75      , 0.75      ,\n",
              "       0.58333333, 0.70833333, 0.66666667, 0.54166667, 0.58333333,\n",
              "       0.41666667, 0.58333333, 0.625     , 0.58333333, 0.5       ,\n",
              "       0.45833333, 0.58333333, 0.875     , 0.91666667, 0.45833333,\n",
              "       0.5       , 0.625     , 0.45833333, 0.41666667, 0.58333333,\n",
              "       0.625     , 0.125     , 0.5       , 0.625     , 0.75      ,\n",
              "       0.41666667, 0.75      , 0.5       , 0.70833333, 0.54166667,\n",
              "       0.5       , 0.5       , 0.45833333, 0.125     , 0.33333333,\n",
              "       0.33333333, 0.54166667, 0.16666667, 0.375     , 0.29166667,\n",
              "       0.        , 0.41666667, 0.08333333, 0.375     , 0.375     ,\n",
              "       0.45833333, 0.41666667, 0.29166667, 0.08333333, 0.20833333,\n",
              "       0.5       , 0.33333333, 0.20833333, 0.33333333, 0.375     ,\n",
              "       0.41666667, 0.33333333, 0.41666667, 0.375     , 0.25      ,\n",
              "       0.16666667, 0.16666667, 0.29166667, 0.29166667, 0.41666667,\n",
              "       0.58333333, 0.45833333, 0.125     , 0.41666667, 0.20833333,\n",
              "       0.25      , 0.41666667, 0.25      , 0.125     , 0.29166667,\n",
              "       0.41666667, 0.375     , 0.375     , 0.20833333, 0.33333333,\n",
              "       0.54166667, 0.29166667, 0.41666667, 0.375     , 0.41666667,\n",
              "       0.41666667, 0.20833333, 0.375     , 0.20833333, 0.66666667,\n",
              "       0.5       , 0.29166667, 0.41666667, 0.20833333, 0.33333333,\n",
              "       0.5       , 0.41666667, 0.75      , 0.25      , 0.08333333,\n",
              "       0.5       , 0.33333333, 0.33333333, 0.29166667, 0.54166667,\n",
              "       0.5       , 0.33333333, 0.41666667, 0.33333333, 0.41666667,\n",
              "       0.33333333, 0.75      , 0.33333333, 0.33333333, 0.25      ,\n",
              "       0.41666667, 0.58333333, 0.45833333, 0.41666667, 0.45833333,\n",
              "       0.45833333, 0.45833333, 0.29166667, 0.5       , 0.54166667,\n",
              "       0.41666667, 0.20833333, 0.41666667, 0.58333333, 0.41666667])"
            ]
          },
          "metadata": {
            "tags": []
          },
          "execution_count": 7
        }
      ]
    },
    {
      "cell_type": "markdown",
      "metadata": {
        "id": "zwqj2Nr8qDOf",
        "colab_type": "text"
      },
      "source": [
        "Zadanie 5: Oblicz funkcję softmax dla 'sepalwidth'. Poniżej znajduje się opis funkcji ze wzorem:\n",
        "    \n",
        "<img src='images/softmax.bmp' width=500>\n",
        "\n",
        "(e jest stałą matematyczną równą 2.71828). Funkcja exp podnosi e do n-tej potęgi.\n",
        "\n",
        "sprawdź https://docs.scipy.org/doc/numpy/reference/generated/numpy.exp.html\n",
        "\n",
        "oraz https://medium.com/data-science-bootcamp/understand-the-softmax-function-in-minutes-f3a59641e86d\n",
        "\n",
        "<img src='images/softmax.png' width=500>"
      ]
    },
    {
      "cell_type": "code",
      "metadata": {
        "id": "Erqzs-43qDOf",
        "colab_type": "code",
        "colab": {},
        "outputId": "5c3bf2fd-b4dc-4e68-ce35-c97e997d1511"
      },
      "source": [
        "np.exp(sepalwidth)/np.sum(np.exp(sepalwidth))"
      ],
      "execution_count": null,
      "outputs": [
        {
          "output_type": "execute_result",
          "data": {
            "text/plain": [
              "array([0.00944058, 0.005726  , 0.00699375, 0.00632821, 0.01043345,\n",
              "       0.01408369, 0.00854219, 0.00854219, 0.0051811 , 0.00632821,\n",
              "       0.01153075, 0.00854219, 0.005726  , 0.005726  , 0.01556488,\n",
              "       0.02322008, 0.01408369, 0.00944058, 0.01274345, 0.01274345,\n",
              "       0.00854219, 0.01153075, 0.01043345, 0.00772929, 0.00854219,\n",
              "       0.005726  , 0.00854219, 0.00944058, 0.00854219, 0.00699375,\n",
              "       0.00632821, 0.00854219, 0.01720186, 0.01901099, 0.00632821,\n",
              "       0.00699375, 0.00944058, 0.00632821, 0.005726  , 0.00854219,\n",
              "       0.00944058, 0.00284345, 0.00699375, 0.00944058, 0.01274345,\n",
              "       0.005726  , 0.01274345, 0.00699375, 0.01153075, 0.00772929,\n",
              "       0.00699375, 0.00699375, 0.00632821, 0.00284345, 0.00468805,\n",
              "       0.00468805, 0.00772929, 0.0031425 , 0.0051811 , 0.00424193,\n",
              "       0.00210648, 0.005726  , 0.00257286, 0.0051811 , 0.0051811 ,\n",
              "       0.00632821, 0.005726  , 0.00424193, 0.00257286, 0.003473  ,\n",
              "       0.00699375, 0.00468805, 0.003473  , 0.00468805, 0.0051811 ,\n",
              "       0.005726  , 0.00468805, 0.005726  , 0.0051811 , 0.00383825,\n",
              "       0.0031425 , 0.0031425 , 0.00424193, 0.00424193, 0.005726  ,\n",
              "       0.00854219, 0.00632821, 0.00284345, 0.005726  , 0.003473  ,\n",
              "       0.00383825, 0.005726  , 0.00383825, 0.00284345, 0.00424193,\n",
              "       0.005726  , 0.0051811 , 0.0051811 , 0.003473  , 0.00468805,\n",
              "       0.00772929, 0.00424193, 0.005726  , 0.0051811 , 0.005726  ,\n",
              "       0.005726  , 0.003473  , 0.0051811 , 0.003473  , 0.01043345,\n",
              "       0.00699375, 0.00424193, 0.005726  , 0.003473  , 0.00468805,\n",
              "       0.00699375, 0.005726  , 0.01274345, 0.00383825, 0.00257286,\n",
              "       0.00699375, 0.00468805, 0.00468805, 0.00424193, 0.00772929,\n",
              "       0.00699375, 0.00468805, 0.005726  , 0.00468805, 0.005726  ,\n",
              "       0.00468805, 0.01274345, 0.00468805, 0.00468805, 0.00383825,\n",
              "       0.005726  , 0.00854219, 0.00632821, 0.005726  , 0.00632821,\n",
              "       0.00632821, 0.00632821, 0.00424193, 0.00699375, 0.00772929,\n",
              "       0.005726  , 0.003473  , 0.005726  , 0.00854219, 0.005726  ])"
            ]
          },
          "metadata": {
            "tags": []
          },
          "execution_count": 8
        }
      ]
    },
    {
      "cell_type": "code",
      "metadata": {
        "id": "1H5AN4nqqDOh",
        "colab_type": "code",
        "colab": {},
        "outputId": "ddb25f66-9e13-4122-f39f-7d6135fa22e4"
      },
      "source": [
        "sum(np.exp(sepalwidth)/np.sum(np.exp(sepalwidth)))"
      ],
      "execution_count": null,
      "outputs": [
        {
          "output_type": "execute_result",
          "data": {
            "text/plain": [
              "1.0000000000000002"
            ]
          },
          "metadata": {
            "tags": []
          },
          "execution_count": 10
        }
      ]
    },
    {
      "cell_type": "markdown",
      "metadata": {
        "id": "DRIwqoxsqDOj",
        "colab_type": "text"
      },
      "source": [
        "Zadanie 6: Znajdź 5 i 95 percentyl zmiennej sepalwidth"
      ]
    },
    {
      "cell_type": "code",
      "metadata": {
        "id": "1j-DzhbEqDOj",
        "colab_type": "code",
        "colab": {},
        "outputId": "e0f2ea1a-0498-4b30-c160-689589397d41"
      },
      "source": [
        "np.percentile(sepalwidth, q=[5, 95])"
      ],
      "execution_count": null,
      "outputs": [
        {
          "output_type": "execute_result",
          "data": {
            "text/plain": [
              "array([2.345, 3.8  ])"
            ]
          },
          "metadata": {
            "tags": []
          },
          "execution_count": 9
        }
      ]
    },
    {
      "cell_type": "markdown",
      "metadata": {
        "id": "CgEhfTKbqDOl",
        "colab_type": "text"
      },
      "source": [
        "Zadanie 7: Wstaw w 10 losowych miejsc (te losowe trzeba wylosować ;-p) w tablicy wartość np.nan. Wyklucz możliwość wstawienia losowej wartości do kolumny 'species'"
      ]
    },
    {
      "cell_type": "code",
      "metadata": {
        "id": "2uJQJOSyqDOm",
        "colab_type": "code",
        "colab": {},
        "outputId": "932e7064-c85c-48ed-c041-d6d58d312118"
      },
      "source": [
        "np.random.seed(100)\n",
        "x = np.random.randint(iris_values.shape[0], size=10)\n",
        "y = np.random.randint(iris_values.shape[1], size=10)\n",
        "iris_values[x, y] = np.nan\n",
        "iris_values[x, y]"
      ],
      "execution_count": null,
      "outputs": [
        {
          "output_type": "execute_result",
          "data": {
            "text/plain": [
              "array([nan, nan, nan, nan, nan, nan, nan, nan, nan, nan])"
            ]
          },
          "metadata": {
            "tags": []
          },
          "execution_count": 11
        }
      ]
    },
    {
      "cell_type": "markdown",
      "metadata": {
        "id": "n7FTm3oIqDOn",
        "colab_type": "text"
      },
      "source": [
        "Zadanie 8: Sprawdź ile jest wartości np.nan w tablicy oraz jaki procent tych wartości stanowią te z kolumny 'sepalwidth'"
      ]
    },
    {
      "cell_type": "code",
      "metadata": {
        "id": "YHzK_DVEqDOo",
        "colab_type": "code",
        "colab": {},
        "outputId": "8b7ebdf5-c250-4ea7-83ba-af5510b24aa9"
      },
      "source": [
        "iris_values[:5]"
      ],
      "execution_count": null,
      "outputs": [
        {
          "output_type": "execute_result",
          "data": {
            "text/plain": [
              "array([[5.1, 3.5, 1.4, 0.2],\n",
              "       [4.9, 3. , 1.4, 0.2],\n",
              "       [4.7, 3.2, 1.3, 0.2],\n",
              "       [4.6, 3.1, 1.5, 0.2],\n",
              "       [5. , 3.6, 1.4, 0.2]])"
            ]
          },
          "metadata": {
            "tags": []
          },
          "execution_count": 12
        }
      ]
    },
    {
      "cell_type": "code",
      "metadata": {
        "id": "Kobbn8pQqDOp",
        "colab_type": "code",
        "colab": {},
        "outputId": "30e80d75-e506-45c6-cec6-c9f1ed665fb1"
      },
      "source": [
        "nan_all = np.isnan(iris_values[:,1]).sum()\n",
        "nan_sepalwidth = np.isnan(iris_values).sum()\n",
        "nan_all,nan_sepalwidth"
      ],
      "execution_count": null,
      "outputs": [
        {
          "output_type": "execute_result",
          "data": {
            "text/plain": [
              "(1, 10)"
            ]
          },
          "metadata": {
            "tags": []
          },
          "execution_count": 13
        }
      ]
    },
    {
      "cell_type": "code",
      "metadata": {
        "id": "6pDPzpUDqDOr",
        "colab_type": "code",
        "colab": {},
        "outputId": "866046ba-f2b2-47ce-d4ab-e3c7c12b3afb"
      },
      "source": [
        "nan_sepalwidth/nan_all"
      ],
      "execution_count": null,
      "outputs": [
        {
          "output_type": "execute_result",
          "data": {
            "text/plain": [
              "10.0"
            ]
          },
          "metadata": {
            "tags": []
          },
          "execution_count": 14
        }
      ]
    },
    {
      "cell_type": "markdown",
      "metadata": {
        "id": "u8B-XvEaqDOt",
        "colab_type": "text"
      },
      "source": [
        "Zadanie 9: Wyfiltruj wiersze, które spełniają poniższe warunki: \n",
        "\n",
        "- wartość 'petallength' jest większa niż 1.5 \n",
        "\n",
        "- wartość 'sepallength' jest mniejsza niż 5.0 \n",
        "\n",
        "Jeśli pojawi się warning, wynika to z wartości nan w tablicy"
      ]
    },
    {
      "cell_type": "code",
      "metadata": {
        "id": "T16FHsIiqDOt",
        "colab_type": "code",
        "colab": {},
        "outputId": "a96074fe-3184-4d07-d890-b63784b73131"
      },
      "source": [
        "iris_values[(iris_values[:, 2] > 1.5) & (iris_values[:, 0] < 5.0)]"
      ],
      "execution_count": null,
      "outputs": [
        {
          "output_type": "stream",
          "text": [
            "C:\\Users\\oliwia.wojtkowska\\Anaconda\\lib\\site-packages\\ipykernel_launcher.py:1: RuntimeWarning: invalid value encountered in greater\n",
            "  \"\"\"Entry point for launching an IPython kernel.\n",
            "C:\\Users\\oliwia.wojtkowska\\Anaconda\\lib\\site-packages\\ipykernel_launcher.py:1: RuntimeWarning: invalid value encountered in less\n",
            "  \"\"\"Entry point for launching an IPython kernel.\n"
          ],
          "name": "stderr"
        },
        {
          "output_type": "execute_result",
          "data": {
            "text/plain": [
              "array([[4.8, 3.4, 1.6, 0.2],\n",
              "       [4.7, 3.2, 1.6, 0.2],\n",
              "       [4.8, 3.1, 1.6, 0.2],\n",
              "       [4.9, 2.4, 3.3, 1. ],\n",
              "       [4.9, 2.5, 4.5, 1.7]])"
            ]
          },
          "metadata": {
            "tags": []
          },
          "execution_count": 15
        }
      ]
    },
    {
      "cell_type": "markdown",
      "metadata": {
        "id": "BgykY7dvqDOv",
        "colab_type": "text"
      },
      "source": [
        "Zadanie 10: Wyfiltruj z tablicy rekordy, które nie mają żadnych wartości nan w wierszach (zrób kopie, tablica z nan'ami bedzie nam potrzebna za chwile)"
      ]
    },
    {
      "cell_type": "code",
      "metadata": {
        "id": "QhqQP01WqDOv",
        "colab_type": "code",
        "colab": {},
        "outputId": "41ad4fae-334a-4bc6-9e3f-11f5df95cbb5"
      },
      "source": [
        "print(iris_values.shape)\n",
        "values_without_nan = np.array([~np.any(np.isnan(row)) for row in iris_values])\n",
        "iris_values_without_nan = iris_values[values_without_nan]\n",
        "iris_values_without_nan.shape"
      ],
      "execution_count": null,
      "outputs": [
        {
          "output_type": "stream",
          "text": [
            "(150, 4)\n"
          ],
          "name": "stdout"
        },
        {
          "output_type": "execute_result",
          "data": {
            "text/plain": [
              "(140, 4)"
            ]
          },
          "metadata": {
            "tags": []
          },
          "execution_count": 16
        }
      ]
    },
    {
      "cell_type": "markdown",
      "metadata": {
        "id": "5E_Pmt13qDOx",
        "colab_type": "text"
      },
      "source": [
        "Zadanie 11: Wstaw zamiast wartości nan średnią z danej cechy dla danego gatunku."
      ]
    },
    {
      "cell_type": "code",
      "metadata": {
        "id": "NBUoJgT6qDOx",
        "colab_type": "code",
        "colab": {},
        "outputId": "1512dc27-f278-44a8-d227-5789e6464607"
      },
      "source": [
        "iris_values_f = iris_values.astype(float)\n",
        "iris_avg = np.unique(species)\n",
        "for var in np.arange(iris_values_f.shape[1]):\n",
        "    for k in iris_avg:\n",
        "        species_row_indexes = np.where(species==k)\n",
        "        row_indexes = np.where((species==k)&(np.isnan(iris_values_f[:,var])))\n",
        "        sr = np.nanmean(iris_values_f[species_row_indexes,var])\n",
        "        print(f'dla {k} i kolumny {var} srednia = {sr}')\n",
        "        iris_values_f[row_indexes,var] = sr\n",
        "iris_values_f"
      ],
      "execution_count": null,
      "outputs": [
        {
          "output_type": "stream",
          "text": [
            "dla b'Iris-setosa' i kolumny 0 srednia = 5.006\n",
            "dla b'Iris-versicolor' i kolumny 0 srednia = 5.958333333333333\n",
            "dla b'Iris-virginica' i kolumny 0 srednia = 6.599999999999999\n",
            "dla b'Iris-setosa' i kolumny 1 srednia = 3.418\n",
            "dla b'Iris-versicolor' i kolumny 1 srednia = 2.7795918367346943\n",
            "dla b'Iris-virginica' i kolumny 1 srednia = 2.974\n",
            "dla b'Iris-setosa' i kolumny 2 srednia = 1.45625\n",
            "dla b'Iris-versicolor' i kolumny 2 srednia = 4.263265306122449\n",
            "dla b'Iris-virginica' i kolumny 2 srednia = 5.551020408163265\n",
            "dla b'Iris-setosa' i kolumny 3 srednia = 0.244\n",
            "dla b'Iris-versicolor' i kolumny 3 srednia = 1.3270833333333334\n",
            "dla b'Iris-virginica' i kolumny 3 srednia = 2.0260000000000002\n"
          ],
          "name": "stdout"
        },
        {
          "output_type": "execute_result",
          "data": {
            "text/plain": [
              "array([[5.1       , 3.5       , 1.4       , 0.2       ],\n",
              "       [4.9       , 3.        , 1.4       , 0.2       ],\n",
              "       [4.7       , 3.2       , 1.3       , 0.2       ],\n",
              "       [4.6       , 3.1       , 1.5       , 0.2       ],\n",
              "       [5.        , 3.6       , 1.4       , 0.2       ],\n",
              "       [5.4       , 3.9       , 1.7       , 0.4       ],\n",
              "       [4.6       , 3.4       , 1.4       , 0.3       ],\n",
              "       [5.        , 3.4       , 1.5       , 0.2       ],\n",
              "       [4.4       , 2.9       , 1.45625   , 0.2       ],\n",
              "       [4.9       , 3.1       , 1.5       , 0.1       ],\n",
              "       [5.4       , 3.7       , 1.5       , 0.2       ],\n",
              "       [4.8       , 3.4       , 1.6       , 0.2       ],\n",
              "       [4.8       , 3.        , 1.4       , 0.1       ],\n",
              "       [4.3       , 3.        , 1.1       , 0.1       ],\n",
              "       [5.8       , 4.        , 1.2       , 0.2       ],\n",
              "       [5.7       , 4.4       , 1.5       , 0.4       ],\n",
              "       [5.4       , 3.9       , 1.3       , 0.4       ],\n",
              "       [5.1       , 3.5       , 1.4       , 0.3       ],\n",
              "       [5.7       , 3.8       , 1.7       , 0.3       ],\n",
              "       [5.1       , 3.8       , 1.5       , 0.3       ],\n",
              "       [5.4       , 3.4       , 1.7       , 0.2       ],\n",
              "       [5.1       , 3.7       , 1.5       , 0.4       ],\n",
              "       [4.6       , 3.6       , 1.        , 0.2       ],\n",
              "       [5.1       , 3.3       , 1.7       , 0.5       ],\n",
              "       [4.8       , 3.4       , 1.45625   , 0.2       ],\n",
              "       [5.        , 3.        , 1.6       , 0.2       ],\n",
              "       [5.        , 3.4       , 1.6       , 0.4       ],\n",
              "       [5.2       , 3.5       , 1.5       , 0.2       ],\n",
              "       [5.2       , 3.4       , 1.4       , 0.2       ],\n",
              "       [4.7       , 3.2       , 1.6       , 0.2       ],\n",
              "       [4.8       , 3.1       , 1.6       , 0.2       ],\n",
              "       [5.4       , 3.4       , 1.5       , 0.4       ],\n",
              "       [5.2       , 4.1       , 1.5       , 0.1       ],\n",
              "       [5.5       , 4.2       , 1.4       , 0.2       ],\n",
              "       [4.9       , 3.1       , 1.5       , 0.1       ],\n",
              "       [5.        , 3.2       , 1.2       , 0.2       ],\n",
              "       [5.5       , 3.5       , 1.3       , 0.2       ],\n",
              "       [4.9       , 3.1       , 1.5       , 0.1       ],\n",
              "       [4.4       , 3.        , 1.3       , 0.2       ],\n",
              "       [5.1       , 3.4       , 1.5       , 0.2       ],\n",
              "       [5.        , 3.5       , 1.3       , 0.3       ],\n",
              "       [4.5       , 2.3       , 1.3       , 0.3       ],\n",
              "       [4.4       , 3.2       , 1.3       , 0.2       ],\n",
              "       [5.        , 3.5       , 1.6       , 0.6       ],\n",
              "       [5.1       , 3.8       , 1.9       , 0.4       ],\n",
              "       [4.8       , 3.        , 1.4       , 0.3       ],\n",
              "       [5.1       , 3.8       , 1.6       , 0.2       ],\n",
              "       [4.6       , 3.2       , 1.4       , 0.2       ],\n",
              "       [5.3       , 3.7       , 1.5       , 0.2       ],\n",
              "       [5.        , 3.3       , 1.4       , 0.2       ],\n",
              "       [7.        , 3.2       , 4.7       , 1.4       ],\n",
              "       [6.4       , 3.2       , 4.5       , 1.5       ],\n",
              "       [6.9       , 3.1       , 4.9       , 1.5       ],\n",
              "       [5.5       , 2.3       , 4.        , 1.32708333],\n",
              "       [6.5       , 2.8       , 4.6       , 1.5       ],\n",
              "       [5.7       , 2.8       , 4.5       , 1.3       ],\n",
              "       [6.3       , 3.3       , 4.7       , 1.6       ],\n",
              "       [4.9       , 2.4       , 3.3       , 1.        ],\n",
              "       [6.6       , 2.9       , 4.6       , 1.3       ],\n",
              "       [5.2       , 2.7       , 3.9       , 1.4       ],\n",
              "       [5.        , 2.        , 3.5       , 1.        ],\n",
              "       [5.9       , 3.        , 4.2       , 1.5       ],\n",
              "       [6.        , 2.2       , 4.        , 1.        ],\n",
              "       [6.1       , 2.9       , 4.7       , 1.4       ],\n",
              "       [5.6       , 2.9       , 3.6       , 1.3       ],\n",
              "       [6.7       , 3.1       , 4.4       , 1.4       ],\n",
              "       [5.6       , 3.        , 4.5       , 1.5       ],\n",
              "       [5.8       , 2.7       , 4.26326531, 1.        ],\n",
              "       [6.2       , 2.2       , 4.5       , 1.5       ],\n",
              "       [5.6       , 2.5       , 3.9       , 1.1       ],\n",
              "       [5.9       , 3.2       , 4.8       , 1.8       ],\n",
              "       [6.1       , 2.8       , 4.        , 1.3       ],\n",
              "       [6.3       , 2.5       , 4.9       , 1.5       ],\n",
              "       [6.1       , 2.8       , 4.7       , 1.2       ],\n",
              "       [6.4       , 2.9       , 4.3       , 1.3       ],\n",
              "       [6.6       , 3.        , 4.4       , 1.4       ],\n",
              "       [6.8       , 2.8       , 4.8       , 1.4       ],\n",
              "       [6.7       , 3.        , 5.        , 1.7       ],\n",
              "       [6.        , 2.9       , 4.5       , 1.5       ],\n",
              "       [5.95833333, 2.6       , 3.5       , 1.        ],\n",
              "       [5.5       , 2.4       , 3.8       , 1.1       ],\n",
              "       [5.5       , 2.4       , 3.7       , 1.        ],\n",
              "       [5.8       , 2.7       , 3.9       , 1.2       ],\n",
              "       [6.        , 2.7       , 5.1       , 1.6       ],\n",
              "       [5.4       , 3.        , 4.5       , 1.5       ],\n",
              "       [6.        , 3.4       , 4.5       , 1.6       ],\n",
              "       [6.7       , 3.1       , 4.7       , 1.5       ],\n",
              "       [6.3       , 2.77959184, 4.4       , 1.3       ],\n",
              "       [5.6       , 3.        , 4.1       , 1.3       ],\n",
              "       [5.5       , 2.5       , 4.        , 1.3       ],\n",
              "       [5.5       , 2.6       , 4.4       , 1.2       ],\n",
              "       [6.1       , 3.        , 4.6       , 1.4       ],\n",
              "       [5.8       , 2.6       , 4.        , 1.2       ],\n",
              "       [5.        , 2.3       , 3.3       , 1.        ],\n",
              "       [5.6       , 2.7       , 4.2       , 1.32708333],\n",
              "       [5.7       , 3.        , 4.2       , 1.2       ],\n",
              "       [5.7       , 2.9       , 4.2       , 1.3       ],\n",
              "       [6.2       , 2.9       , 4.3       , 1.3       ],\n",
              "       [5.95833333, 2.5       , 3.        , 1.1       ],\n",
              "       [5.7       , 2.8       , 4.1       , 1.3       ],\n",
              "       [6.3       , 3.3       , 6.        , 2.5       ],\n",
              "       [5.8       , 2.7       , 5.1       , 1.9       ],\n",
              "       [7.1       , 3.        , 5.9       , 2.1       ],\n",
              "       [6.3       , 2.9       , 5.55102041, 1.8       ],\n",
              "       [6.5       , 3.        , 5.8       , 2.2       ],\n",
              "       [7.6       , 3.        , 6.6       , 2.1       ],\n",
              "       [4.9       , 2.5       , 4.5       , 1.7       ],\n",
              "       [7.3       , 2.9       , 6.3       , 1.8       ],\n",
              "       [6.7       , 2.5       , 5.8       , 1.8       ],\n",
              "       [7.2       , 3.6       , 6.1       , 2.5       ],\n",
              "       [6.5       , 3.2       , 5.1       , 2.        ],\n",
              "       [6.4       , 2.7       , 5.3       , 1.9       ],\n",
              "       [6.8       , 3.        , 5.5       , 2.1       ],\n",
              "       [5.7       , 2.5       , 5.        , 2.        ],\n",
              "       [5.8       , 2.8       , 5.1       , 2.4       ],\n",
              "       [6.4       , 3.2       , 5.3       , 2.3       ],\n",
              "       [6.5       , 3.        , 5.5       , 1.8       ],\n",
              "       [7.7       , 3.8       , 6.7       , 2.2       ],\n",
              "       [7.7       , 2.6       , 6.9       , 2.3       ],\n",
              "       [6.        , 2.2       , 5.        , 1.5       ],\n",
              "       [6.9       , 3.2       , 5.7       , 2.3       ],\n",
              "       [5.6       , 2.8       , 4.9       , 2.        ],\n",
              "       [7.7       , 2.8       , 6.7       , 2.        ],\n",
              "       [6.3       , 2.7       , 4.9       , 1.8       ],\n",
              "       [6.7       , 3.3       , 5.7       , 2.1       ],\n",
              "       [7.2       , 3.2       , 6.        , 1.8       ],\n",
              "       [6.2       , 2.8       , 4.8       , 1.8       ],\n",
              "       [6.1       , 3.        , 4.9       , 1.8       ],\n",
              "       [6.4       , 2.8       , 5.6       , 2.1       ],\n",
              "       [7.2       , 3.        , 5.8       , 1.6       ],\n",
              "       [7.4       , 2.8       , 6.1       , 1.9       ],\n",
              "       [7.9       , 3.8       , 6.4       , 2.        ],\n",
              "       [6.4       , 2.8       , 5.6       , 2.2       ],\n",
              "       [6.3       , 2.8       , 5.1       , 1.5       ],\n",
              "       [6.1       , 2.6       , 5.6       , 1.4       ],\n",
              "       [7.7       , 3.        , 6.1       , 2.3       ],\n",
              "       [6.3       , 3.4       , 5.6       , 2.4       ],\n",
              "       [6.4       , 3.1       , 5.5       , 1.8       ],\n",
              "       [6.6       , 3.        , 4.8       , 1.8       ],\n",
              "       [6.9       , 3.1       , 5.4       , 2.1       ],\n",
              "       [6.7       , 3.1       , 5.6       , 2.4       ],\n",
              "       [6.9       , 3.1       , 5.1       , 2.3       ],\n",
              "       [5.8       , 2.7       , 5.1       , 1.9       ],\n",
              "       [6.8       , 3.2       , 5.9       , 2.3       ],\n",
              "       [6.7       , 3.3       , 5.7       , 2.5       ],\n",
              "       [6.7       , 3.        , 5.2       , 2.3       ],\n",
              "       [6.3       , 2.5       , 5.        , 1.9       ],\n",
              "       [6.5       , 3.        , 5.2       , 2.        ],\n",
              "       [6.2       , 3.4       , 5.4       , 2.3       ],\n",
              "       [5.9       , 3.        , 5.1       , 1.8       ]])"
            ]
          },
          "metadata": {
            "tags": []
          },
          "execution_count": 17
        }
      ]
    },
    {
      "cell_type": "markdown",
      "metadata": {
        "id": "RlncLWZFqDOz",
        "colab_type": "text"
      },
      "source": [
        "Zadanie 12: Sprawdź, czy w tablicy znajdują się jakieś wartości nan"
      ]
    },
    {
      "cell_type": "code",
      "metadata": {
        "id": "g9L5WmNzqDO0",
        "colab_type": "code",
        "colab": {},
        "outputId": "00613b76-1921-423c-e2d5-3141f84ebeaf"
      },
      "source": [
        "np.isnan(iris_values).any()"
      ],
      "execution_count": null,
      "outputs": [
        {
          "output_type": "execute_result",
          "data": {
            "text/plain": [
              "True"
            ]
          },
          "metadata": {
            "tags": []
          },
          "execution_count": 18
        }
      ]
    },
    {
      "cell_type": "markdown",
      "metadata": {
        "id": "HcMzA4ecqDO2",
        "colab_type": "text"
      },
      "source": [
        "Zadanie 13: Podaj ile razy występują poszczególne gatunki (kolumna 'species'). Stwórz słownik z częstością występowania."
      ]
    },
    {
      "cell_type": "code",
      "metadata": {
        "id": "VdePMH5OqDO2",
        "colab_type": "code",
        "colab": {},
        "outputId": "5b31c6aa-6ace-4436-f53a-a11795dc03b7"
      },
      "source": [
        "species, amount = np.unique(iris[:,4], return_counts=True)\n",
        "species_dic = {}\n",
        "for k,v in zip(species, amount):\n",
        "    species_dic[k] = v\n",
        "    \n",
        "species_dic"
      ],
      "execution_count": null,
      "outputs": [
        {
          "output_type": "execute_result",
          "data": {
            "text/plain": [
              "{b'Iris-setosa': 50, b'Iris-versicolor': 50, b'Iris-virginica': 50}"
            ]
          },
          "metadata": {
            "tags": []
          },
          "execution_count": 19
        }
      ]
    },
    {
      "cell_type": "markdown",
      "metadata": {
        "id": "1FWZKld6qDO5",
        "colab_type": "text"
      },
      "source": [
        "Zadanie 14: Dla kolumny 'petallength' ze zmiennych ciągłych stwórz zmienne kategoryczne wg poniższych zasad. Weź pod uwagę braki danych jesli wystepują (nie powinny, jeśli wykonaliśmy poprzednie ćwiczenia).\n",
        "\n",
        "- wartośc mniejsza od 3 :> 'small'\n",
        "- 3-5 : 'medium'\n",
        "- wartośc większa równa 5 : 'large'"
      ]
    },
    {
      "cell_type": "code",
      "metadata": {
        "id": "_BdUpQmAqDO5",
        "colab_type": "code",
        "colab": {},
        "outputId": "df8723af-a386-428b-8736-1d17ff781362"
      },
      "source": [
        "petallength_digitized = np.digitize(iris_values[:, 2], [0, 3, 5])\n",
        "petallength_digitized"
      ],
      "execution_count": null,
      "outputs": [
        {
          "output_type": "execute_result",
          "data": {
            "text/plain": [
              "array([1, 1, 1, 1, 1, 1, 1, 1, 3, 1, 1, 1, 1, 1, 1, 1, 1, 1, 1, 1, 1, 1,\n",
              "       1, 1, 3, 1, 1, 1, 1, 1, 1, 1, 1, 1, 1, 1, 1, 1, 1, 1, 1, 1, 1, 1,\n",
              "       1, 1, 1, 1, 1, 1, 2, 2, 2, 2, 2, 2, 2, 2, 2, 2, 2, 2, 2, 2, 2, 2,\n",
              "       2, 3, 2, 2, 2, 2, 2, 2, 2, 2, 2, 3, 2, 2, 2, 2, 2, 3, 2, 2, 2, 2,\n",
              "       2, 2, 2, 2, 2, 2, 2, 2, 2, 2, 2, 2, 3, 3, 3, 3, 3, 3, 2, 3, 3, 3,\n",
              "       3, 3, 3, 3, 3, 3, 3, 3, 3, 3, 3, 2, 3, 2, 3, 3, 2, 2, 3, 3, 3, 3,\n",
              "       3, 3, 3, 3, 3, 3, 2, 3, 3, 3, 3, 3, 3, 3, 3, 3, 3, 3], dtype=int64)"
            ]
          },
          "metadata": {
            "tags": []
          },
          "execution_count": 20
        }
      ]
    },
    {
      "cell_type": "code",
      "metadata": {
        "id": "ED-HO51qqDO6",
        "colab_type": "code",
        "colab": {},
        "outputId": "90889573-94ff-4559-c972-d3186a161d3d"
      },
      "source": [
        "labels = {1: 'small', 2: 'medium', 3: 'large'}\n",
        "petallength_categorized = [labels[x] for x in petallength_digitized]\n",
        "random_rows = np.random.randint(iris_values.shape[0],size=10)\n",
        "for oryginal, row in zip(iris_values[random_rows, 2], random_rows):\n",
        "    print(oryginal, petallength_categorized[row])"
      ],
      "execution_count": null,
      "outputs": [
        {
          "output_type": "stream",
          "text": [
            "3.5 medium\n",
            "4.6 medium\n",
            "5.7 large\n",
            "5.5 large\n",
            "3.3 medium\n",
            "4.7 medium\n",
            "6.1 large\n",
            "5.8 large\n",
            "5.6 large\n",
            "5.8 large\n"
          ],
          "name": "stdout"
        }
      ]
    },
    {
      "cell_type": "markdown",
      "metadata": {
        "id": "qQxqXygKqDO9",
        "colab_type": "text"
      },
      "source": [
        "Zadanie 15: Stwórz nową kolumnę, która będzie iloczynem kolumn 'petallength' i 'petalwidth'"
      ]
    },
    {
      "cell_type": "code",
      "metadata": {
        "id": "bM03OjSGqDO9",
        "colab_type": "code",
        "colab": {},
        "outputId": "abe533c0-d5e4-445f-9462-741f51f51f5f"
      },
      "source": [
        "petal_area = iris_values[:,2]*iris_values[:,3]\n",
        "petal_area = petal_area[:, np.newaxis]\n",
        "print(petal_area.shape, iris_values.shape)\n",
        "new_iris_values = np.hstack([iris_values, petal_area])\n",
        "new_iris_values[:10]"
      ],
      "execution_count": null,
      "outputs": [
        {
          "output_type": "stream",
          "text": [
            "(150, 1) (150, 4)\n"
          ],
          "name": "stdout"
        },
        {
          "output_type": "execute_result",
          "data": {
            "text/plain": [
              "array([[5.1 , 3.5 , 1.4 , 0.2 , 0.28],\n",
              "       [4.9 , 3.  , 1.4 , 0.2 , 0.28],\n",
              "       [4.7 , 3.2 , 1.3 , 0.2 , 0.26],\n",
              "       [4.6 , 3.1 , 1.5 , 0.2 , 0.3 ],\n",
              "       [5.  , 3.6 , 1.4 , 0.2 , 0.28],\n",
              "       [5.4 , 3.9 , 1.7 , 0.4 , 0.68],\n",
              "       [4.6 , 3.4 , 1.4 , 0.3 , 0.42],\n",
              "       [5.  , 3.4 , 1.5 , 0.2 , 0.3 ],\n",
              "       [4.4 , 2.9 ,  nan, 0.2 ,  nan],\n",
              "       [4.9 , 3.1 , 1.5 , 0.1 , 0.15]])"
            ]
          },
          "metadata": {
            "tags": []
          },
          "execution_count": 22
        }
      ]
    }
  ]
}