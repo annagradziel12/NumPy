{
  "nbformat": 4,
  "nbformat_minor": 0,
  "metadata": {
    "kernelspec": {
      "display_name": "Python 3",
      "language": "python",
      "name": "python3"
    },
    "language_info": {
      "codemirror_mode": {
        "name": "ipython",
        "version": 3
      },
      "file_extension": ".py",
      "mimetype": "text/x-python",
      "name": "python",
      "nbconvert_exporter": "python",
      "pygments_lexer": "ipython3",
      "version": "3.7.3"
    },
    "toc": {
      "base_numbering": 1,
      "nav_menu": {},
      "number_sections": true,
      "sideBar": true,
      "skip_h1_title": false,
      "title_cell": "Table of Contents",
      "title_sidebar": "Contents",
      "toc_cell": false,
      "toc_position": {},
      "toc_section_display": true,
      "toc_window_display": false
    },
    "colab": {
      "name": "kółko i krzyżyk.ipynb",
      "provenance": [],
      "include_colab_link": true
    }
  },
  "cells": [
    {
      "cell_type": "markdown",
      "metadata": {
        "id": "view-in-github",
        "colab_type": "text"
      },
      "source": [
        "<a href=\"https://colab.research.google.com/github/annagradziel12/NumPy/blob/master/k%C3%B3%C5%82ko_i_krzy%C5%BCyk.ipynb\" target=\"_parent\"><img src=\"https://colab.research.google.com/assets/colab-badge.svg\" alt=\"Open In Colab\"/></a>"
      ]
    },
    {
      "cell_type": "markdown",
      "metadata": {
        "id": "Cr7ireqrqUDE",
        "colab_type": "text"
      },
      "source": [
        "ZADANIE NIECO DŁUŻSZE (można wykonać w osobnym edytorze jak komuś wygodniej): Stwórz grę kółko i krzyżyk:\n",
        "        \n",
        "1. Planszą ma być tablica 3x3, której puste miejsce (niezajęte przez użytkowników) stanowi kropka.\n",
        "\n",
        "['.', '.', '.'],\n",
        "\n",
        "['.', '.', '.'],\n",
        "\n",
        "['.', '.', '.']\n",
        "\n",
        "2. Użytkownicy mają wprowadzać pozycje miejsca, które zajmują poprzez funkcję input(). Można przyjąć dowolną formę inputu, jednak musi istnieć funkcja, która będzie sprawdzała jego poprawność np. nie można podać słów lub liczb ujemnych.\n",
        "\n",
        "3. Musi istnieć funkcja sprawdzająca, czy któryś z graczy wygrał i ew. który oraz wyświetlająca taką informację na ekran."
      ]
    },
    {
      "cell_type": "code",
      "metadata": {
        "id": "AKbgjQwZqUDF",
        "colab_type": "code",
        "colab": {
          "base_uri": "https://localhost:8080/",
          "height": 502
        },
        "outputId": "b128071e-1d74-4ee4-d7a1-41d69aea2077"
      },
      "source": [
        "import numpy as np\n",
        "\n",
        "\n",
        "def start_board() :\n",
        "    return np.full((3, 3), '.')\n",
        "\n",
        "\n",
        "def check_input(row_col, board_array) :\n",
        "    if len(row_col) != 2 :\n",
        "        print('Zła ilość liczb: Podaj dwie liczby rozdzielone spacją.')\n",
        "        return 0\n",
        "    row, col = row_col[0], row_col[1]\n",
        "\n",
        "    try :\n",
        "        if (0 <= int(row) <= 2) and (0 <= int(col) <= 2) :\n",
        "            if board_array[int(row)][int(col)] != '.' :\n",
        "                print('Podaj pozycję jeszcze nie zajętą')\n",
        "                return 0\n",
        "            return 1\n",
        "        else :\n",
        "            print('Liczby poza zakresem - Podaj liczby w zakresie od 0 do 2')\n",
        "            return 0\n",
        "    except ValueError :\n",
        "        print('Zły typ danych - Podaj dwie liczby od 0 do 2')\n",
        "        return 0\n",
        "\n",
        "\n",
        "def update_board(row_col, board_array, player) :\n",
        "    board_array[int(row_col[0]), int(row_col[1])] = player\n",
        "    print(board_array)\n",
        "    return board_array\n",
        "\n",
        "\n",
        "def check_line_unique(unique_line) :\n",
        "    if (len(unique_line) == 1) & (unique_line[0] != '.') :\n",
        "        if unique_line == 'X' :\n",
        "            print('Wygrywa gracz X')\n",
        "        else :\n",
        "            print('Wygrywa gracz O')\n",
        "        return 1\n",
        "\n",
        "\n",
        "def check_winner(board_array) :\n",
        "    for i in range(3) :\n",
        "        unique_row = np.unique(board_array[i, :])\n",
        "        winner = check_line_unique(unique_row)\n",
        "        if winner :\n",
        "            return 1\n",
        "\n",
        "        unique_col = np.unique(board_array[:, i])\n",
        "        winner = check_line_unique(unique_col)\n",
        "        if winner :\n",
        "            return 1\n",
        "\n",
        "    unique_up_down = np.unique(board_array[[0, 1, 2], [0, 1, 2]])\n",
        "    winner = check_line_unique(unique_up_down)\n",
        "    if winner :\n",
        "        return 1\n",
        "\n",
        "    unique_down_up = np.unique(board_array[[0, 1, 2], [2, 1, 0]])\n",
        "    winner = check_line_unique(unique_down_up)\n",
        "    if winner :\n",
        "        return 1\n",
        "    return 0\n",
        "\n",
        "\n",
        "board_array = start_board()\n",
        "round_numb = 0\n",
        "winner = 0\n",
        "while (round_numb < 9) & (winner == 0) :\n",
        "    player_round = 'X' if round_numb % 2 == 0 else 'O'\n",
        "    print(f'Zawodnik {player_round}: podaj pozycje: ')\n",
        "    input_values = input()\n",
        "    row_col = input_values.split(\" \")\n",
        "    checker = check_input(row_col, board_array)\n",
        "    if not checker :\n",
        "        continue\n",
        "    board_array = update_board(row_col=row_col, board_array=board_array, player=player_round)\n",
        "    winner = check_winner(board_array)\n",
        "\n",
        "    round_numb += 1\n"
      ],
      "execution_count": 1,
      "outputs": [
        {
          "output_type": "stream",
          "text": [
            "Zawodnik X: podaj pozycje: \n",
            "1 2\n",
            "[['.' '.' '.']\n",
            " ['.' '.' 'X']\n",
            " ['.' '.' '.']]\n",
            "Zawodnik O: podaj pozycje: \n",
            "0 2\n",
            "[['.' '.' 'O']\n",
            " ['.' '.' 'X']\n",
            " ['.' '.' '.']]\n",
            "Zawodnik X: podaj pozycje: \n",
            "1 1\n",
            "[['.' '.' 'O']\n",
            " ['.' 'X' 'X']\n",
            " ['.' '.' '.']]\n",
            "Zawodnik O: podaj pozycje: \n",
            "1 2\n",
            "Podaj pozycję jeszcze nie zajętą\n",
            "Zawodnik O: podaj pozycje: \n",
            "0 1\n",
            "[['.' 'O' 'O']\n",
            " ['.' 'X' 'X']\n",
            " ['.' '.' '.']]\n",
            "Zawodnik X: podaj pozycje: \n",
            "1 0\n",
            "[['.' 'O' 'O']\n",
            " ['X' 'X' 'X']\n",
            " ['.' '.' '.']]\n",
            "Wygrywa gracz X\n"
          ],
          "name": "stdout"
        }
      ]
    }
  ]
}