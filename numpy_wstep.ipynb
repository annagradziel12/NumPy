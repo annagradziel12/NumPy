{
  "nbformat": 4,
  "nbformat_minor": 0,
  "metadata": {
    "kernelspec": {
      "display_name": "Python 3",
      "language": "python",
      "name": "python3"
    },
    "language_info": {
      "codemirror_mode": {
        "name": "ipython",
        "version": 3
      },
      "file_extension": ".py",
      "mimetype": "text/x-python",
      "name": "python",
      "nbconvert_exporter": "python",
      "pygments_lexer": "ipython3",
      "version": "3.7.3"
    },
    "toc": {
      "base_numbering": 1,
      "nav_menu": {},
      "number_sections": true,
      "sideBar": true,
      "skip_h1_title": false,
      "title_cell": "Table of Contents",
      "title_sidebar": "Contents",
      "toc_cell": false,
      "toc_position": {},
      "toc_section_display": true,
      "toc_window_display": false
    },
    "colab": {
      "name": "numpy_wstep.ipynb",
      "provenance": [],
      "include_colab_link": true
    }
  },
  "cells": [
    {
      "cell_type": "markdown",
      "metadata": {
        "id": "view-in-github",
        "colab_type": "text"
      },
      "source": [
        "<a href=\"https://colab.research.google.com/github/annagradziel12/NumPy/blob/master/numpy_wstep.ipynb\" target=\"_parent\"><img src=\"https://colab.research.google.com/assets/colab-badge.svg\" alt=\"Open In Colab\"/></a>"
      ]
    },
    {
      "cell_type": "markdown",
      "metadata": {
        "id": "3NxIhZ_Nmzfs",
        "colab_type": "text"
      },
      "source": [
        "# NUMPY"
      ]
    },
    {
      "cell_type": "code",
      "metadata": {
        "id": "FepSwi9Imzfs",
        "colab_type": "code",
        "colab": {}
      },
      "source": [
        "import numpy as np"
      ],
      "execution_count": null,
      "outputs": []
    },
    {
      "cell_type": "markdown",
      "metadata": {
        "id": "JTa2EU1Amzfv",
        "colab_type": "text"
      },
      "source": [
        "## Tworzenie macierzy"
      ]
    },
    {
      "cell_type": "code",
      "metadata": {
        "id": "tWAXWpbCmzfv",
        "colab_type": "code",
        "colab": {}
      },
      "source": [
        "a = np.array([2,3,4]) "
      ],
      "execution_count": null,
      "outputs": []
    },
    {
      "cell_type": "code",
      "metadata": {
        "id": "GLyqtQjLmzfx",
        "colab_type": "code",
        "colab": {}
      },
      "source": [
        "a2 = np.array(\n",
        "    [[2, 3, 4.0],\n",
        "     [33,44,55]]\n",
        "            )"
      ],
      "execution_count": null,
      "outputs": []
    },
    {
      "cell_type": "code",
      "metadata": {
        "id": "ZI788QHzmzf0",
        "colab_type": "code",
        "colab": {},
        "outputId": "a3404b1a-04fe-4b3a-b5ef-6f0c30cb8068"
      },
      "source": [
        "a2.shape[1]"
      ],
      "execution_count": null,
      "outputs": [
        {
          "output_type": "execute_result",
          "data": {
            "text/plain": [
              "3"
            ]
          },
          "metadata": {
            "tags": []
          },
          "execution_count": 5
        }
      ]
    },
    {
      "cell_type": "code",
      "metadata": {
        "id": "Kmpec7kamzf3",
        "colab_type": "code",
        "colab": {},
        "outputId": "c6a961dd-9a05-4b0b-d3e1-5c0abb8146b8"
      },
      "source": [
        "print('dtype: ', a2.dtype, ' strides: ', a2.strides)"
      ],
      "execution_count": null,
      "outputs": [
        {
          "output_type": "stream",
          "text": [
            "dtype:  float64  strides:  (24, 8)\n"
          ],
          "name": "stdout"
        }
      ]
    },
    {
      "cell_type": "code",
      "metadata": {
        "id": "ndzf88kSmzf5",
        "colab_type": "code",
        "colab": {}
      },
      "source": [
        "a3 = np.array(\n",
        "    [[2.001, 3.001, 4.001],\n",
        "     [33.001,44.001,55.001]]\n",
        ")"
      ],
      "execution_count": null,
      "outputs": []
    },
    {
      "cell_type": "code",
      "metadata": {
        "id": "0fvelEN8mzf7",
        "colab_type": "code",
        "colab": {},
        "outputId": "29c46dac-2388-47ca-eade-45cf8fe9503d"
      },
      "source": [
        "print('dtype: ', a3.dtype, ' strides: ', a3.strides)"
      ],
      "execution_count": null,
      "outputs": [
        {
          "output_type": "stream",
          "text": [
            "dtype:  float64  strides:  (24, 8)\n"
          ],
          "name": "stdout"
        }
      ]
    },
    {
      "cell_type": "code",
      "metadata": {
        "id": "cbDlW7ndmzf-",
        "colab_type": "code",
        "colab": {}
      },
      "source": [
        "a4 = np.array(\n",
        "    [[2.001, 3.001],\n",
        "     [33.001,44.001]]\n",
        ")\n",
        "print('dtype: ', a4.dtype, ' strides: ', a4.strides)"
      ],
      "execution_count": null,
      "outputs": []
    },
    {
      "cell_type": "code",
      "metadata": {
        "id": "DoDZkH7gmzgA",
        "colab_type": "code",
        "colab": {},
        "outputId": "d02a7cfc-ac86-421c-c735-58fec2563114"
      },
      "source": [
        "print(a)\n",
        "type(a)"
      ],
      "execution_count": null,
      "outputs": [
        {
          "output_type": "stream",
          "text": [
            "[2 3 4]\n"
          ],
          "name": "stdout"
        },
        {
          "output_type": "execute_result",
          "data": {
            "text/plain": [
              "numpy.ndarray"
            ]
          },
          "metadata": {
            "tags": []
          },
          "execution_count": 3
        }
      ]
    },
    {
      "cell_type": "code",
      "metadata": {
        "id": "_bP4pBodmzgC",
        "colab_type": "code",
        "colab": {},
        "outputId": "e285f989-ae41-4969-9763-9045ac00ae9d"
      },
      "source": [
        "a.dtype"
      ],
      "execution_count": null,
      "outputs": [
        {
          "output_type": "execute_result",
          "data": {
            "text/plain": [
              "dtype('int32')"
            ]
          },
          "metadata": {
            "tags": []
          },
          "execution_count": 14
        }
      ]
    },
    {
      "cell_type": "code",
      "metadata": {
        "id": "DW3B1nN-mzgE",
        "colab_type": "code",
        "colab": {}
      },
      "source": [
        "b = np.array([1.2, 3.5, 5.1])"
      ],
      "execution_count": null,
      "outputs": []
    },
    {
      "cell_type": "code",
      "metadata": {
        "id": "5OWLD2ztmzgF",
        "colab_type": "code",
        "colab": {},
        "outputId": "78475066-58c9-4385-fd67-ee704eb4e050"
      },
      "source": [
        "b.dtype"
      ],
      "execution_count": null,
      "outputs": [
        {
          "output_type": "execute_result",
          "data": {
            "text/plain": [
              "dtype('float64')"
            ]
          },
          "metadata": {
            "tags": []
          },
          "execution_count": 16
        }
      ]
    },
    {
      "cell_type": "code",
      "metadata": {
        "id": "8Qa973cLmzgH",
        "colab_type": "code",
        "colab": {}
      },
      "source": [
        "a = np.array((2,3,4))"
      ],
      "execution_count": null,
      "outputs": []
    },
    {
      "cell_type": "code",
      "metadata": {
        "id": "tiFdKt4omzgK",
        "colab_type": "code",
        "colab": {},
        "outputId": "46da2c0c-1857-45ba-c731-fc453e2110fe"
      },
      "source": [
        "a"
      ],
      "execution_count": null,
      "outputs": [
        {
          "output_type": "execute_result",
          "data": {
            "text/plain": [
              "array([2, 3, 4])"
            ]
          },
          "metadata": {
            "tags": []
          },
          "execution_count": 18
        }
      ]
    },
    {
      "cell_type": "code",
      "metadata": {
        "id": "uZWywcrwmzgM",
        "colab_type": "code",
        "colab": {},
        "outputId": "c189c3e4-a6d5-48d1-f668-9e357c320fdb"
      },
      "source": [
        "b = np.array([(1.5,2,3), (4,5,6)])\n",
        "b"
      ],
      "execution_count": null,
      "outputs": [
        {
          "output_type": "execute_result",
          "data": {
            "text/plain": [
              "array([[1.5, 2. , 3. ],\n",
              "       [4. , 5. , 6. ]])"
            ]
          },
          "metadata": {
            "tags": []
          },
          "execution_count": 19
        }
      ]
    },
    {
      "cell_type": "code",
      "metadata": {
        "id": "hUfwQnmcmzgO",
        "colab_type": "code",
        "colab": {},
        "outputId": "181b921c-1a3e-432c-ecc2-67459138779f"
      },
      "source": [
        "b = np.array([(1,2,3), (4,5,6)], dtype=float)\n",
        "b"
      ],
      "execution_count": null,
      "outputs": [
        {
          "output_type": "execute_result",
          "data": {
            "text/plain": [
              "array([[1., 2., 3.],\n",
              "       [4., 5., 6.]])"
            ]
          },
          "metadata": {
            "tags": []
          },
          "execution_count": 20
        }
      ]
    },
    {
      "cell_type": "code",
      "metadata": {
        "id": "gEg22BIpmzgQ",
        "colab_type": "code",
        "colab": {},
        "outputId": "82253e0a-ab42-4ee5-9a6a-328ef136515e"
      },
      "source": [
        "np.zeros((3,4))"
      ],
      "execution_count": null,
      "outputs": [
        {
          "output_type": "execute_result",
          "data": {
            "text/plain": [
              "array([[0., 0., 0., 0.],\n",
              "       [0., 0., 0., 0.],\n",
              "       [0., 0., 0., 0.]])"
            ]
          },
          "metadata": {
            "tags": []
          },
          "execution_count": 21
        }
      ]
    },
    {
      "cell_type": "code",
      "metadata": {
        "id": "tlmb6D_ymzgR",
        "colab_type": "code",
        "colab": {},
        "outputId": "a778e8d7-0aec-4782-94f5-4ad124114ee3"
      },
      "source": [
        "np.ones((3,4))"
      ],
      "execution_count": null,
      "outputs": [
        {
          "output_type": "execute_result",
          "data": {
            "text/plain": [
              "array([[1., 1., 1., 1.],\n",
              "       [1., 1., 1., 1.],\n",
              "       [1., 1., 1., 1.]])"
            ]
          },
          "metadata": {
            "tags": []
          },
          "execution_count": 22
        }
      ]
    },
    {
      "cell_type": "code",
      "metadata": {
        "id": "XqPbv6p5mzgT",
        "colab_type": "code",
        "colab": {},
        "outputId": "887f7eef-529c-4616-e4d4-19d26e58e1d1"
      },
      "source": [
        "np.empty((2,3), dtype=int)"
      ],
      "execution_count": null,
      "outputs": [
        {
          "output_type": "execute_result",
          "data": {
            "text/plain": [
              "array([[ 858993459, 1072902963,          0],\n",
              "       [1074528256, 1717986918, 1075078758]])"
            ]
          },
          "metadata": {
            "tags": []
          },
          "execution_count": 23
        }
      ]
    },
    {
      "cell_type": "code",
      "metadata": {
        "id": "BMHohFOxmzgW",
        "colab_type": "code",
        "colab": {},
        "outputId": "c27ca228-d7b7-44f3-fec8-10fbad5ab615"
      },
      "source": [
        "np.random.random((2,3))"
      ],
      "execution_count": null,
      "outputs": [
        {
          "output_type": "execute_result",
          "data": {
            "text/plain": [
              "array([[0.95498811, 0.63567391, 0.06290929],\n",
              "       [0.90419744, 0.58167149, 0.79574344]])"
            ]
          },
          "metadata": {
            "tags": []
          },
          "execution_count": 24
        }
      ]
    },
    {
      "cell_type": "code",
      "metadata": {
        "id": "NCZUER-ymzgX",
        "colab_type": "code",
        "colab": {},
        "outputId": "049b70dc-44f4-4eb9-e7a7-e131679039f2"
      },
      "source": [
        "np.random.randint(10,20, size=20)"
      ],
      "execution_count": null,
      "outputs": [
        {
          "output_type": "execute_result",
          "data": {
            "text/plain": [
              "array([17, 10, 15, 17, 19, 10, 14, 19, 19, 19, 13, 10, 16, 11, 19, 11, 14,\n",
              "       17, 11, 12])"
            ]
          },
          "metadata": {
            "tags": []
          },
          "execution_count": 25
        }
      ]
    },
    {
      "cell_type": "code",
      "metadata": {
        "id": "naCdloeamzgZ",
        "colab_type": "code",
        "colab": {},
        "outputId": "9284120b-f2b2-446a-b1f8-73b921696f4b"
      },
      "source": [
        "np.arange(10, 30, 5)"
      ],
      "execution_count": null,
      "outputs": [
        {
          "output_type": "execute_result",
          "data": {
            "text/plain": [
              "array([10, 15, 20, 25, 30])"
            ]
          },
          "metadata": {
            "tags": []
          },
          "execution_count": 27
        }
      ]
    },
    {
      "cell_type": "code",
      "metadata": {
        "id": "_wo3aA2lmzgb",
        "colab_type": "code",
        "colab": {},
        "outputId": "1847403a-a16e-4879-cdc5-ba3023dfef0a"
      },
      "source": [
        "np.arange(0, 2, 0.3) "
      ],
      "execution_count": null,
      "outputs": [
        {
          "output_type": "execute_result",
          "data": {
            "text/plain": [
              "array([0. , 0.3, 0.6, 0.9, 1.2, 1.5, 1.8])"
            ]
          },
          "metadata": {
            "tags": []
          },
          "execution_count": 28
        }
      ]
    },
    {
      "cell_type": "code",
      "metadata": {
        "id": "NbHBjEVrmzgc",
        "colab_type": "code",
        "colab": {},
        "outputId": "ad71487a-00fd-4f14-b0c1-f1341d40331b"
      },
      "source": [
        "np.linspace(2.0, 3.0, num=5)"
      ],
      "execution_count": null,
      "outputs": [
        {
          "output_type": "execute_result",
          "data": {
            "text/plain": [
              "array([2.  , 2.25, 2.5 , 2.75, 3.  ])"
            ]
          },
          "metadata": {
            "tags": []
          },
          "execution_count": 31
        }
      ]
    },
    {
      "cell_type": "code",
      "metadata": {
        "id": "KXNcTod6mzge",
        "colab_type": "code",
        "colab": {},
        "outputId": "7d967160-0cd4-4ddc-b763-931865fe52f7"
      },
      "source": [
        "np.linspace(2.0, 3.0, num=5, endpoint=False)"
      ],
      "execution_count": null,
      "outputs": [
        {
          "output_type": "execute_result",
          "data": {
            "text/plain": [
              "array([2. , 2.2, 2.4, 2.6, 2.8])"
            ]
          },
          "metadata": {
            "tags": []
          },
          "execution_count": 32
        }
      ]
    },
    {
      "cell_type": "code",
      "metadata": {
        "id": "IQ3Y78Bhmzgg",
        "colab_type": "code",
        "colab": {},
        "outputId": "3162d204-f8f4-43fc-bd3b-e72de2629058"
      },
      "source": [
        "np.full((2, 2), 5, dtype=float)"
      ],
      "execution_count": null,
      "outputs": [
        {
          "output_type": "execute_result",
          "data": {
            "text/plain": [
              "array([[5., 5.],\n",
              "       [5., 5.]])"
            ]
          },
          "metadata": {
            "tags": []
          },
          "execution_count": 36
        }
      ]
    },
    {
      "cell_type": "code",
      "metadata": {
        "id": "ZuKxU29wmzgj",
        "colab_type": "code",
        "colab": {},
        "outputId": "821f5fd9-f910-49ec-8f10-e19029e873aa"
      },
      "source": [
        "a = np.random.choice(10, (2,3))\n",
        "a"
      ],
      "execution_count": null,
      "outputs": [
        {
          "output_type": "execute_result",
          "data": {
            "text/plain": [
              "array([[  4.,   2., 145.],\n",
              "       [  4.,   2.,   4.]])"
            ]
          },
          "metadata": {
            "tags": []
          },
          "execution_count": 40
        }
      ]
    },
    {
      "cell_type": "code",
      "metadata": {
        "id": "vNvax0LVmzgl",
        "colab_type": "code",
        "colab": {},
        "outputId": "8749b984-e7dd-4507-f3a7-0b72af31063e"
      },
      "source": [
        "b = np.arange(12)\n",
        "b"
      ],
      "execution_count": null,
      "outputs": [
        {
          "output_type": "execute_result",
          "data": {
            "text/plain": [
              "array([ 0,  1,  2,  3,  4,  5,  6,  7,  8,  9, 10, 11])"
            ]
          },
          "metadata": {
            "tags": []
          },
          "execution_count": 41
        }
      ]
    },
    {
      "cell_type": "code",
      "metadata": {
        "id": "R_ZDcDjwmzgm",
        "colab_type": "code",
        "colab": {},
        "outputId": "eccaff5d-756c-4ebe-a96a-2be9c3ec78f2"
      },
      "source": [
        "b = np.arange(12).reshape(4,3)\n",
        "b"
      ],
      "execution_count": null,
      "outputs": [
        {
          "output_type": "execute_result",
          "data": {
            "text/plain": [
              "array([[ 0,  1,  2],\n",
              "       [ 3,  4,  5],\n",
              "       [ 6,  7,  8],\n",
              "       [ 9, 10, 11]])"
            ]
          },
          "metadata": {
            "tags": []
          },
          "execution_count": 42
        }
      ]
    },
    {
      "cell_type": "code",
      "metadata": {
        "id": "6NGDnHaimzgo",
        "colab_type": "code",
        "colab": {},
        "outputId": "b4687624-9510-4c47-c2cb-b51b78529470"
      },
      "source": [
        "b = np.arange(12).reshape(5,5) "
      ],
      "execution_count": null,
      "outputs": [
        {
          "output_type": "error",
          "ename": "ValueError",
          "evalue": "cannot reshape array of size 12 into shape (5,5)",
          "traceback": [
            "\u001b[1;31m---------------------------------------------------------------------------\u001b[0m",
            "\u001b[1;31mValueError\u001b[0m                                Traceback (most recent call last)",
            "\u001b[1;32m<ipython-input-43-60bc88b9f45e>\u001b[0m in \u001b[0;36m<module>\u001b[1;34m\u001b[0m\n\u001b[1;32m----> 1\u001b[1;33m \u001b[0mb\u001b[0m \u001b[1;33m=\u001b[0m \u001b[0mnp\u001b[0m\u001b[1;33m.\u001b[0m\u001b[0marange\u001b[0m\u001b[1;33m(\u001b[0m\u001b[1;36m12\u001b[0m\u001b[1;33m)\u001b[0m\u001b[1;33m.\u001b[0m\u001b[0mreshape\u001b[0m\u001b[1;33m(\u001b[0m\u001b[1;36m5\u001b[0m\u001b[1;33m,\u001b[0m\u001b[1;36m5\u001b[0m\u001b[1;33m)\u001b[0m\u001b[1;33m\u001b[0m\u001b[1;33m\u001b[0m\u001b[0m\n\u001b[0m",
            "\u001b[1;31mValueError\u001b[0m: cannot reshape array of size 12 into shape (5,5)"
          ]
        }
      ]
    },
    {
      "cell_type": "code",
      "metadata": {
        "id": "oYiZCz25mzgq",
        "colab_type": "code",
        "colab": {},
        "outputId": "dadbd06e-33ea-48b9-f104-b7e9bb2fd629"
      },
      "source": [
        "c = np.arange(24).reshape(2,3,4)\n",
        "c"
      ],
      "execution_count": null,
      "outputs": [
        {
          "output_type": "execute_result",
          "data": {
            "text/plain": [
              "array([[[ 0,  1,  2,  3],\n",
              "        [ 4,  5,  6,  7],\n",
              "        [ 8,  9, 10, 11]],\n",
              "\n",
              "       [[12, 13, 14, 15],\n",
              "        [16, 17, 18, 19],\n",
              "        [20, 21, 22, 23]]])"
            ]
          },
          "metadata": {
            "tags": []
          },
          "execution_count": 44
        }
      ]
    },
    {
      "cell_type": "code",
      "metadata": {
        "id": "LJBZEHXpmzgr",
        "colab_type": "code",
        "colab": {},
        "outputId": "312785a5-350f-4202-a5ab-34d77a1d59da"
      },
      "source": [
        "c.size"
      ],
      "execution_count": null,
      "outputs": [
        {
          "output_type": "execute_result",
          "data": {
            "text/plain": [
              "24"
            ]
          },
          "metadata": {
            "tags": []
          },
          "execution_count": 45
        }
      ]
    },
    {
      "cell_type": "code",
      "metadata": {
        "id": "2MpJaP9vmzgt",
        "colab_type": "code",
        "colab": {},
        "outputId": "433060d4-6772-4c2d-e43b-0c6d327830a4"
      },
      "source": [
        "c.shape"
      ],
      "execution_count": null,
      "outputs": [
        {
          "output_type": "execute_result",
          "data": {
            "text/plain": [
              "(2, 3, 4)"
            ]
          },
          "metadata": {
            "tags": []
          },
          "execution_count": 46
        }
      ]
    },
    {
      "cell_type": "code",
      "metadata": {
        "id": "t0Xj8hrImzgu",
        "colab_type": "code",
        "colab": {},
        "outputId": "5bf63cc7-ae69-490c-e519-5016dddd0f8a"
      },
      "source": [
        "c.ndim"
      ],
      "execution_count": null,
      "outputs": [
        {
          "output_type": "execute_result",
          "data": {
            "text/plain": [
              "3"
            ]
          },
          "metadata": {
            "tags": []
          },
          "execution_count": 47
        }
      ]
    },
    {
      "cell_type": "code",
      "metadata": {
        "id": "vHVQ72l9mzgw",
        "colab_type": "code",
        "colab": {},
        "outputId": "69559364-a3d0-40ea-d954-8448774bff8a"
      },
      "source": [
        "c.shape = (8,3)\n",
        "c"
      ],
      "execution_count": null,
      "outputs": [
        {
          "output_type": "execute_result",
          "data": {
            "text/plain": [
              "array([[ 0,  1,  2],\n",
              "       [ 3,  4,  5],\n",
              "       [ 6,  7,  8],\n",
              "       [ 9, 10, 11],\n",
              "       [12, 13, 14],\n",
              "       [15, 16, 17],\n",
              "       [18, 19, 20],\n",
              "       [21, 22, 23]])"
            ]
          },
          "metadata": {
            "tags": []
          },
          "execution_count": 54
        }
      ]
    },
    {
      "cell_type": "code",
      "metadata": {
        "id": "uB4T5GmVmzgx",
        "colab_type": "code",
        "colab": {},
        "outputId": "7eda98f2-e2cf-4fea-97af-473410ded056"
      },
      "source": [
        "print(c.shape)\n",
        "c.resize(2,3,4)\n",
        "c.shape"
      ],
      "execution_count": null,
      "outputs": [
        {
          "output_type": "stream",
          "text": [
            "(2, 3, 4)\n"
          ],
          "name": "stdout"
        },
        {
          "output_type": "execute_result",
          "data": {
            "text/plain": [
              "(2, 3, 4)"
            ]
          },
          "metadata": {
            "tags": []
          },
          "execution_count": 57
        }
      ]
    },
    {
      "cell_type": "code",
      "metadata": {
        "id": "Prd9XxNOmzg0",
        "colab_type": "code",
        "colab": {},
        "outputId": "ad1d33cb-befa-4cda-d055-3844d1360955"
      },
      "source": [
        "print(c.shape)\n",
        "c.reshape(2,12)\n",
        "c.shape"
      ],
      "execution_count": null,
      "outputs": [
        {
          "output_type": "stream",
          "text": [
            "(2, 3, 4)\n"
          ],
          "name": "stdout"
        },
        {
          "output_type": "execute_result",
          "data": {
            "text/plain": [
              "(2, 3, 4)"
            ]
          },
          "metadata": {
            "tags": []
          },
          "execution_count": 58
        }
      ]
    },
    {
      "cell_type": "code",
      "metadata": {
        "id": "vh7_gTjdmzg2",
        "colab_type": "code",
        "colab": {},
        "outputId": "cc659c0a-be3a-4b28-b7ce-291aad718334"
      },
      "source": [
        "d = c.reshape(2,12)\n",
        "d"
      ],
      "execution_count": null,
      "outputs": [
        {
          "output_type": "execute_result",
          "data": {
            "text/plain": [
              "array([[ 0,  1,  2,  3,  4,  5,  6,  7,  8,  9, 10, 11],\n",
              "       [12, 13, 14, 15, 16, 17, 18, 19, 20, 21, 22, 23]])"
            ]
          },
          "metadata": {
            "tags": []
          },
          "execution_count": 59
        }
      ]
    },
    {
      "cell_type": "code",
      "metadata": {
        "id": "u-h3jH9kmzg5",
        "colab_type": "code",
        "colab": {},
        "outputId": "0bfa0785-9728-43df-b187-ec67c0aa4fe5"
      },
      "source": [
        "c"
      ],
      "execution_count": null,
      "outputs": [
        {
          "output_type": "execute_result",
          "data": {
            "text/plain": [
              "array([[[ 0,  1,  2,  3],\n",
              "        [ 4,  5,  6,  7],\n",
              "        [ 8,  9, 10, 11]],\n",
              "\n",
              "       [[12, 13, 14, 15],\n",
              "        [16, 17, 18, 19],\n",
              "        [20, 21, 22, 23]]])"
            ]
          },
          "metadata": {
            "tags": []
          },
          "execution_count": 60
        }
      ]
    },
    {
      "cell_type": "code",
      "metadata": {
        "id": "F_r6-yJCmzg7",
        "colab_type": "code",
        "colab": {},
        "outputId": "901b568c-6377-4860-97fc-77c54b0ac0cb"
      },
      "source": [
        "f = np.ravel(d)\n",
        "f"
      ],
      "execution_count": null,
      "outputs": [
        {
          "output_type": "execute_result",
          "data": {
            "text/plain": [
              "array([ 0,  1,  2,  3,  4,  5,  6,  7,  8,  9, 10, 11, 12, 13, 14, 15, 16,\n",
              "       17, 18, 19, 20, 21, 22, 23])"
            ]
          },
          "metadata": {
            "tags": []
          },
          "execution_count": 65
        }
      ]
    },
    {
      "cell_type": "code",
      "metadata": {
        "id": "nqQ8XwWfmzg9",
        "colab_type": "code",
        "colab": {},
        "outputId": "67b36060-c843-45a2-efa2-3a3c5571031b"
      },
      "source": [
        "f[1] = 55\n",
        "d"
      ],
      "execution_count": null,
      "outputs": [
        {
          "output_type": "execute_result",
          "data": {
            "text/plain": [
              "array([[ 0, 55,  2,  3,  4,  5,  6,  7,  8,  9, 10, 11],\n",
              "       [12, 13, 14, 15, 16, 17, 18, 19, 20, 21, 22, 23]])"
            ]
          },
          "metadata": {
            "tags": []
          },
          "execution_count": 66
        }
      ]
    },
    {
      "cell_type": "code",
      "metadata": {
        "id": "pjhudyeBmzhA",
        "colab_type": "code",
        "colab": {},
        "outputId": "5fa29fe2-57bb-4b84-eb94-816ad6b87f40"
      },
      "source": [
        "d"
      ],
      "execution_count": null,
      "outputs": [
        {
          "output_type": "execute_result",
          "data": {
            "text/plain": [
              "array([[ 0,  1,  2,  3,  4,  5,  6,  7,  8,  9, 10, 11],\n",
              "       [12, 13, 14, 15, 16, 17, 18, 19, 20, 21, 22, 23]])"
            ]
          },
          "metadata": {
            "tags": []
          },
          "execution_count": 63
        }
      ]
    },
    {
      "cell_type": "code",
      "metadata": {
        "id": "O_m2oQOZmzhB",
        "colab_type": "code",
        "colab": {},
        "outputId": "fa829d63-e782-4906-edc3-30a9650f52bc"
      },
      "source": [
        "f = d.flatten()\n",
        "f"
      ],
      "execution_count": null,
      "outputs": [
        {
          "output_type": "execute_result",
          "data": {
            "text/plain": [
              "array([ 0, 55,  2,  3,  4,  5,  6,  7,  8,  9, 10, 11, 12, 13, 14, 15, 16,\n",
              "       17, 18, 19, 20, 21, 22, 23])"
            ]
          },
          "metadata": {
            "tags": []
          },
          "execution_count": 67
        }
      ]
    },
    {
      "cell_type": "code",
      "metadata": {
        "id": "SlzUj6bBmzhE",
        "colab_type": "code",
        "colab": {},
        "outputId": "ffcc726e-4032-4794-c72d-199eb90daf4e"
      },
      "source": [
        "f[1] = 1\n",
        "d"
      ],
      "execution_count": null,
      "outputs": [
        {
          "output_type": "execute_result",
          "data": {
            "text/plain": [
              "array([[ 0, 55,  2,  3,  4,  5,  6,  7,  8,  9, 10, 11],\n",
              "       [12, 13, 14, 15, 16, 17, 18, 19, 20, 21, 22, 23]])"
            ]
          },
          "metadata": {
            "tags": []
          },
          "execution_count": 68
        }
      ]
    },
    {
      "cell_type": "markdown",
      "metadata": {
        "id": "kTDdEUvZmzhG",
        "colab_type": "text"
      },
      "source": [
        "https://www.tutorialsandyou.com/python/difference-flatten-ravel-numpy-43.html"
      ]
    },
    {
      "cell_type": "code",
      "metadata": {
        "id": "jqmSEpV-mzhG",
        "colab_type": "code",
        "colab": {},
        "outputId": "0bc274cf-0dd1-4ebf-ce2c-b547b3cd840f"
      },
      "source": [
        "z = d.tolist()\n",
        "print(type(z))\n",
        "print(len(z))\n",
        "z"
      ],
      "execution_count": null,
      "outputs": [
        {
          "output_type": "stream",
          "text": [
            "<class 'list'>\n",
            "2\n"
          ],
          "name": "stdout"
        },
        {
          "output_type": "execute_result",
          "data": {
            "text/plain": [
              "[[0, 55, 2, 3, 4, 5, 6, 7, 8, 9, 10, 11],\n",
              " [12, 13, 14, 15, 16, 17, 18, 19, 20, 21, 22, 23]]"
            ]
          },
          "metadata": {
            "tags": []
          },
          "execution_count": 71
        }
      ]
    },
    {
      "cell_type": "code",
      "metadata": {
        "id": "wT82D3ZNmzhI",
        "colab_type": "code",
        "colab": {}
      },
      "source": [
        "x = np.arange(12).reshape(4, 3)\n",
        "header = 'col1 col2 col3'\n",
        "np.savetxt('file.txt', x, header=header)"
      ],
      "execution_count": null,
      "outputs": []
    },
    {
      "cell_type": "code",
      "metadata": {
        "id": "m9uvwyKmmzhJ",
        "colab_type": "code",
        "colab": {},
        "outputId": "5c9525c1-a3d3-4aea-f5d1-79a26dfa10bd"
      },
      "source": [
        "file = np.loadtxt('file.txt')\n",
        "file"
      ],
      "execution_count": null,
      "outputs": [
        {
          "output_type": "execute_result",
          "data": {
            "text/plain": [
              "array([[ 0.,  1.,  2.],\n",
              "       [ 3.,  4.,  5.],\n",
              "       [ 6.,  7.,  8.],\n",
              "       [ 9., 10., 11.]])"
            ]
          },
          "metadata": {
            "tags": []
          },
          "execution_count": 73
        }
      ]
    },
    {
      "cell_type": "code",
      "metadata": {
        "id": "R1Y97QalmzhL",
        "colab_type": "code",
        "colab": {},
        "outputId": "dbed8485-81ea-4412-fd8e-f327a9170f61"
      },
      "source": [
        "with open('file.txt', 'r') as f:\n",
        "    for i in f.readlines():\n",
        "        print(i)"
      ],
      "execution_count": null,
      "outputs": [
        {
          "output_type": "stream",
          "text": [
            "# col1 col2 col3\n",
            "\n",
            "0.000000000000000000e+00 1.000000000000000000e+00 2.000000000000000000e+00\n",
            "\n",
            "3.000000000000000000e+00 4.000000000000000000e+00 5.000000000000000000e+00\n",
            "\n",
            "6.000000000000000000e+00 7.000000000000000000e+00 8.000000000000000000e+00\n",
            "\n",
            "9.000000000000000000e+00 1.000000000000000000e+01 1.100000000000000000e+01\n",
            "\n"
          ],
          "name": "stdout"
        }
      ]
    },
    {
      "cell_type": "markdown",
      "metadata": {
        "id": "vGEXjjplmzhN",
        "colab_type": "text"
      },
      "source": [
        "Zadanie 1: Stwórz macierz (4,4) złożoną z liczb parzystych. Zmień jej wymiary na (2,8), następnie zamień na listę"
      ]
    },
    {
      "cell_type": "code",
      "metadata": {
        "id": "M3dx8irgmzhN",
        "colab_type": "code",
        "colab": {}
      },
      "source": [
        "macierz = np.arange(0, 32, 2).reshape(4,4) lista[1:22:2]\n",
        "macierz"
      ],
      "execution_count": null,
      "outputs": []
    },
    {
      "cell_type": "code",
      "metadata": {
        "id": "m9xs3umNmzhO",
        "colab_type": "code",
        "colab": {}
      },
      "source": [
        "macierz.shape = (2,8)\n",
        "macierz"
      ],
      "execution_count": null,
      "outputs": []
    },
    {
      "cell_type": "code",
      "metadata": {
        "id": "_-goxWP-mzhR",
        "colab_type": "code",
        "colab": {}
      },
      "source": [
        "macierz.flatten().tolist()"
      ],
      "execution_count": null,
      "outputs": []
    },
    {
      "cell_type": "markdown",
      "metadata": {
        "id": "SuTSQqAsmzhT",
        "colab_type": "text"
      },
      "source": [
        "Zadanie 2 Stwórz macierz 5x2, której elementy są większe niż 99, ale mniejsze niż 200, a różnica pomiędzy elementami wynosi 10."
      ]
    },
    {
      "cell_type": "code",
      "metadata": {
        "id": "dhyD9wl5mzhU",
        "colab_type": "code",
        "colab": {},
        "outputId": "97d50a52-65fd-4252-9404-26442ad800a4"
      },
      "source": [
        "np.arange(100, 200, 10).reshape(5,2)"
      ],
      "execution_count": null,
      "outputs": [
        {
          "output_type": "execute_result",
          "data": {
            "text/plain": [
              "array([[100, 110],\n",
              "       [120, 130],\n",
              "       [140, 150],\n",
              "       [160, 170],\n",
              "       [180, 190]])"
            ]
          },
          "metadata": {
            "tags": []
          },
          "execution_count": 75
        }
      ]
    },
    {
      "cell_type": "markdown",
      "metadata": {
        "id": "MgTqiR4EmzhW",
        "colab_type": "text"
      },
      "source": [
        "Zadanie 3: Stwórz tablicę wypełnioną True o wymiarach (3,3)"
      ]
    },
    {
      "cell_type": "code",
      "metadata": {
        "id": "V7rUdrWnmzhX",
        "colab_type": "code",
        "colab": {},
        "outputId": "022b657c-95a0-4bbd-ab35-3a496035312c"
      },
      "source": [
        "np.full((3, 3), 1, dtype=bool)"
      ],
      "execution_count": null,
      "outputs": [
        {
          "output_type": "execute_result",
          "data": {
            "text/plain": [
              "array([[ True,  True,  True],\n",
              "       [ True,  True,  True],\n",
              "       [ True,  True,  True]])"
            ]
          },
          "metadata": {
            "tags": []
          },
          "execution_count": 79
        }
      ]
    },
    {
      "cell_type": "markdown",
      "metadata": {
        "id": "fjXLXMiJmzhY",
        "colab_type": "text"
      },
      "source": [
        "Zadanie 4: Stwórz listę, którą zamienisz na np.array, a następnie zamień ją z powrotem na listę"
      ]
    },
    {
      "cell_type": "code",
      "metadata": {
        "id": "tqKSkj8tmzhZ",
        "colab_type": "code",
        "colab": {},
        "outputId": "0bb0f701-3336-4d4a-cde9-9d92270c3172"
      },
      "source": [
        "lista = [[1, 2], [3, 4]]\n",
        "x = np.array(lista)\n",
        "print(type(x))\n",
        "lista2 = x.tolist()\n",
        "lista2\n",
        "print(type(lista2))"
      ],
      "execution_count": null,
      "outputs": [
        {
          "output_type": "stream",
          "text": [
            "<class 'numpy.ndarray'>\n",
            "<class 'list'>\n"
          ],
          "name": "stdout"
        }
      ]
    },
    {
      "cell_type": "markdown",
      "metadata": {
        "id": "gEPvb4UEmzha",
        "colab_type": "text"
      },
      "source": [
        "## podstawowe operacje"
      ]
    },
    {
      "cell_type": "code",
      "metadata": {
        "id": "HB4qjhetmzha",
        "colab_type": "code",
        "colab": {}
      },
      "source": [
        "a = np.array([20,30,40,50])\n",
        "b = np.array([2,3,4,5])"
      ],
      "execution_count": null,
      "outputs": []
    },
    {
      "cell_type": "code",
      "metadata": {
        "id": "KwmBM6wamzhc",
        "colab_type": "code",
        "colab": {},
        "outputId": "571bda0d-79bd-424a-f3d6-558e4c383a59"
      },
      "source": [
        "a-b"
      ],
      "execution_count": null,
      "outputs": [
        {
          "output_type": "execute_result",
          "data": {
            "text/plain": [
              "array([18, 27, 36, 45])"
            ]
          },
          "metadata": {
            "tags": []
          },
          "execution_count": 83
        }
      ]
    },
    {
      "cell_type": "code",
      "metadata": {
        "id": "szcxcMBZmzhe",
        "colab_type": "code",
        "colab": {},
        "outputId": "9eb8cf12-7aed-4046-8dc4-793cd2832f6b"
      },
      "source": [
        "a+b"
      ],
      "execution_count": null,
      "outputs": [
        {
          "output_type": "execute_result",
          "data": {
            "text/plain": [
              "array([22, 33, 44, 55])"
            ]
          },
          "metadata": {
            "tags": []
          },
          "execution_count": 84
        }
      ]
    },
    {
      "cell_type": "code",
      "metadata": {
        "id": "6bFlHXOtmzhg",
        "colab_type": "code",
        "colab": {},
        "outputId": "3c38288c-604d-49bd-b6b1-4220c7cff9a5"
      },
      "source": [
        "a+4"
      ],
      "execution_count": null,
      "outputs": [
        {
          "output_type": "execute_result",
          "data": {
            "text/plain": [
              "array([24, 34, 44, 54])"
            ]
          },
          "metadata": {
            "tags": []
          },
          "execution_count": 85
        }
      ]
    },
    {
      "cell_type": "code",
      "metadata": {
        "id": "xF4HRZLEmzhh",
        "colab_type": "code",
        "colab": {},
        "outputId": "9e6cd1a9-1d28-47cd-b954-7fa05ad9b475"
      },
      "source": [
        "a"
      ],
      "execution_count": null,
      "outputs": [
        {
          "output_type": "execute_result",
          "data": {
            "text/plain": [
              "array([20, 30, 40, 50])"
            ]
          },
          "metadata": {
            "tags": []
          },
          "execution_count": 86
        }
      ]
    },
    {
      "cell_type": "code",
      "metadata": {
        "id": "wPQjMr0rmzhj",
        "colab_type": "code",
        "colab": {},
        "outputId": "da5a19dd-f916-4570-8410-fc7bd8de0e7d"
      },
      "source": [
        "a*b"
      ],
      "execution_count": null,
      "outputs": [
        {
          "output_type": "execute_result",
          "data": {
            "text/plain": [
              "array([ 40,  90, 160, 250])"
            ]
          },
          "metadata": {
            "tags": []
          },
          "execution_count": 87
        }
      ]
    },
    {
      "cell_type": "code",
      "metadata": {
        "id": "pSrrIHw9mzhl",
        "colab_type": "code",
        "colab": {},
        "outputId": "3b42018d-a569-4e12-e909-421839b38da1"
      },
      "source": [
        "a@b"
      ],
      "execution_count": null,
      "outputs": [
        {
          "output_type": "execute_result",
          "data": {
            "text/plain": [
              "540"
            ]
          },
          "metadata": {
            "tags": []
          },
          "execution_count": 88
        }
      ]
    },
    {
      "cell_type": "code",
      "metadata": {
        "id": "U0LpIjW7mzhn",
        "colab_type": "code",
        "colab": {}
      },
      "source": [
        "a@b"
      ],
      "execution_count": null,
      "outputs": []
    },
    {
      "cell_type": "markdown",
      "metadata": {
        "id": "uxS_sPCzmzho",
        "colab_type": "text"
      },
      "source": [
        "<img src='images/mnozenie_macierzy.bmp' width=300>"
      ]
    },
    {
      "cell_type": "code",
      "metadata": {
        "id": "9pQG7ryhmzho",
        "colab_type": "code",
        "colab": {},
        "outputId": "81c0f2e4-4db3-41d2-dcf2-3e16b5ab6a56"
      },
      "source": [
        "a.dot(b)"
      ],
      "execution_count": null,
      "outputs": [
        {
          "output_type": "execute_result",
          "data": {
            "text/plain": [
              "540"
            ]
          },
          "metadata": {
            "tags": []
          },
          "execution_count": 89
        }
      ]
    },
    {
      "cell_type": "code",
      "metadata": {
        "id": "_jdjiZLcmzhp",
        "colab_type": "code",
        "colab": {}
      },
      "source": [
        "c = np.array([11.1,12.2,13.3,14.4])\n",
        "d = np.array([2,3,4,5])"
      ],
      "execution_count": null,
      "outputs": []
    },
    {
      "cell_type": "code",
      "metadata": {
        "id": "S8GKuRwzmzhs",
        "colab_type": "code",
        "colab": {},
        "outputId": "18fac48b-b7f4-4e7b-b901-4ecebec4bd22"
      },
      "source": [
        "c*d"
      ],
      "execution_count": null,
      "outputs": [
        {
          "output_type": "execute_result",
          "data": {
            "text/plain": [
              "array([22.2, 36.6, 53.2, 72. ])"
            ]
          },
          "metadata": {
            "tags": []
          },
          "execution_count": 91
        }
      ]
    },
    {
      "cell_type": "code",
      "metadata": {
        "id": "gj53Kv5Gmzht",
        "colab_type": "code",
        "colab": {},
        "outputId": "ee380231-8c14-4144-d976-4236992f84d3"
      },
      "source": [
        "d+14.4"
      ],
      "execution_count": null,
      "outputs": [
        {
          "output_type": "execute_result",
          "data": {
            "text/plain": [
              "array([16.4, 17.4, 18.4, 19.4])"
            ]
          },
          "metadata": {
            "tags": []
          },
          "execution_count": 93
        }
      ]
    },
    {
      "cell_type": "code",
      "metadata": {
        "id": "4G6CUvj1mzhu",
        "colab_type": "code",
        "colab": {},
        "outputId": "d46f6cae-0b4b-4d69-9239-d9926d69c494"
      },
      "source": [
        "array_2d = np.array([[2,3,4,5],[12,13,14,15], [22,33,44,55]])\n",
        "array_2d"
      ],
      "execution_count": null,
      "outputs": [
        {
          "output_type": "execute_result",
          "data": {
            "text/plain": [
              "array([[ 2,  3,  4,  5],\n",
              "       [12, 13, 14, 15],\n",
              "       [22, 33, 44, 55]])"
            ]
          },
          "metadata": {
            "tags": []
          },
          "execution_count": 94
        }
      ]
    },
    {
      "cell_type": "code",
      "metadata": {
        "id": "z7lFm2c8mzhv",
        "colab_type": "code",
        "colab": {},
        "outputId": "50d8954e-6f1f-4fb9-dad2-857d0c0927d1"
      },
      "source": [
        "array_2d.sum()"
      ],
      "execution_count": null,
      "outputs": [
        {
          "output_type": "execute_result",
          "data": {
            "text/plain": [
              "222"
            ]
          },
          "metadata": {
            "tags": []
          },
          "execution_count": 95
        }
      ]
    },
    {
      "cell_type": "code",
      "metadata": {
        "id": "Ki1TxX7Vmzhw",
        "colab_type": "code",
        "colab": {},
        "outputId": "1a543820-790b-4a99-e344-fa1daa9af2d1"
      },
      "source": [
        "array_2d.sum(axis=0) # wg kolumn"
      ],
      "execution_count": null,
      "outputs": [
        {
          "output_type": "execute_result",
          "data": {
            "text/plain": [
              "array([36, 49, 62, 75])"
            ]
          },
          "metadata": {
            "tags": []
          },
          "execution_count": 96
        }
      ]
    },
    {
      "cell_type": "code",
      "metadata": {
        "id": "ElOuMWtZmzhy",
        "colab_type": "code",
        "colab": {},
        "outputId": "b739024a-07ca-4c0a-f9e9-db3b553b1ada"
      },
      "source": [
        "array_2d.sum(axis=1) # wg wierszy"
      ],
      "execution_count": null,
      "outputs": [
        {
          "output_type": "execute_result",
          "data": {
            "text/plain": [
              "array([ 14,  54, 154])"
            ]
          },
          "metadata": {
            "tags": []
          },
          "execution_count": 97
        }
      ]
    },
    {
      "cell_type": "code",
      "metadata": {
        "id": "4HqHoa0Rmzhz",
        "colab_type": "code",
        "colab": {},
        "outputId": "2c8f71c3-c0cd-4c84-d6e3-fc331fe06002"
      },
      "source": [
        "print(array_2d.min())\n",
        "array_2d.max()"
      ],
      "execution_count": null,
      "outputs": [
        {
          "output_type": "stream",
          "text": [
            "2\n"
          ],
          "name": "stdout"
        },
        {
          "output_type": "execute_result",
          "data": {
            "text/plain": [
              "55"
            ]
          },
          "metadata": {
            "tags": []
          },
          "execution_count": 98
        }
      ]
    },
    {
      "cell_type": "code",
      "metadata": {
        "id": "aueHxF-Vmzh1",
        "colab_type": "code",
        "colab": {},
        "outputId": "b4c9239c-897a-43a9-f0c5-e4fd76e75254"
      },
      "source": [
        "print(array_2d.argmin())\n",
        "array_2d.argmax()"
      ],
      "execution_count": null,
      "outputs": [
        {
          "output_type": "stream",
          "text": [
            "0\n"
          ],
          "name": "stdout"
        },
        {
          "output_type": "execute_result",
          "data": {
            "text/plain": [
              "11"
            ]
          },
          "metadata": {
            "tags": []
          },
          "execution_count": 99
        }
      ]
    },
    {
      "cell_type": "code",
      "metadata": {
        "id": "-joBjXtRmzh2",
        "colab_type": "code",
        "colab": {},
        "outputId": "2e9aaf1b-fffe-4007-d0f6-51d8b01ed3f5"
      },
      "source": [
        "print(array_2d.std())\n",
        "print(array_2d.mean())\n",
        "print(np.median(array_2d))\n",
        "print(np.percentile(array_2d, 50))"
      ],
      "execution_count": null,
      "outputs": [
        {
          "output_type": "stream",
          "text": [
            "16.368160149102486\n",
            "18.5\n",
            "13.5\n",
            "13.5\n"
          ],
          "name": "stdout"
        }
      ]
    },
    {
      "cell_type": "code",
      "metadata": {
        "id": "-WwQi4ULmzh3",
        "colab_type": "code",
        "colab": {},
        "outputId": "442741e5-9415-4400-f06b-e82879f4085a"
      },
      "source": [
        "x = np.array([1,2,3])\n",
        "y = np.array([1005,2010,3100])\n",
        "z = np.array([44,6,-7])\n",
        "np.corrcoef(x,y) # Współczynnik korelacji r Pearsona"
      ],
      "execution_count": null,
      "outputs": [
        {
          "output_type": "execute_result",
          "data": {
            "text/plain": [
              "array([[1.        , 0.99972575],\n",
              "       [0.99972575, 1.        ]])"
            ]
          },
          "metadata": {
            "tags": []
          },
          "execution_count": 102
        }
      ]
    },
    {
      "cell_type": "code",
      "metadata": {
        "id": "fJH3lEp2mzh4",
        "colab_type": "code",
        "colab": {},
        "outputId": "b481beff-7b15-40e1-cfd8-586edaa734ae"
      },
      "source": [
        "np.corrcoef(x,z)"
      ],
      "execution_count": null,
      "outputs": [
        {
          "output_type": "execute_result",
          "data": {
            "text/plain": [
              "array([[ 1.        , -0.96220706],\n",
              "       [-0.96220706,  1.        ]])"
            ]
          },
          "metadata": {
            "tags": []
          },
          "execution_count": 103
        }
      ]
    },
    {
      "cell_type": "code",
      "metadata": {
        "id": "1MHpii99mzh5",
        "colab_type": "code",
        "colab": {},
        "outputId": "49993dd9-2268-498f-d2cc-64b8630a8903"
      },
      "source": [
        "array = np.array([[2,3,4,5],[520,33,4,55],[4,43,14,16]], dtype=int)\n",
        "array"
      ],
      "execution_count": null,
      "outputs": [
        {
          "output_type": "execute_result",
          "data": {
            "text/plain": [
              "array([[  2,   3,   4,   5],\n",
              "       [520,  33,   4,  55],\n",
              "       [  4,  43,  14,  16]])"
            ]
          },
          "metadata": {
            "tags": []
          },
          "execution_count": 104
        }
      ]
    },
    {
      "cell_type": "code",
      "metadata": {
        "id": "eydXfBJlmzh6",
        "colab_type": "code",
        "colab": {},
        "outputId": "7e62bc3e-17d7-43f2-b0b6-21c018cf167c"
      },
      "source": [
        "np.sort(array, axis=1) # uporzadkowane w wierszu"
      ],
      "execution_count": null,
      "outputs": [
        {
          "output_type": "execute_result",
          "data": {
            "text/plain": [
              "array([[  2,   3,   4,   5],\n",
              "       [  4,  33,  55, 520],\n",
              "       [  4,  14,  16,  43]])"
            ]
          },
          "metadata": {
            "tags": []
          },
          "execution_count": 106
        }
      ]
    },
    {
      "cell_type": "code",
      "metadata": {
        "id": "81UCvLyhmzh8",
        "colab_type": "code",
        "colab": {},
        "outputId": "45ecf91c-f902-4e7d-f82b-80e21901d99f"
      },
      "source": [
        "np.sort(array, axis=0) # uporzadkowane w kolumnach"
      ],
      "execution_count": null,
      "outputs": [
        {
          "output_type": "execute_result",
          "data": {
            "text/plain": [
              "array([[  2,   3,   4,   5],\n",
              "       [  4,  33,   4,  16],\n",
              "       [520,  43,  14,  55]])"
            ]
          },
          "metadata": {
            "tags": []
          },
          "execution_count": 107
        }
      ]
    },
    {
      "cell_type": "code",
      "metadata": {
        "id": "sctUFRM9mzh-",
        "colab_type": "code",
        "colab": {},
        "outputId": "8d2ee96d-cd63-493b-dc22-022510028bf7"
      },
      "source": [
        "x = np.array([(1,16), (2,17), (2,55), (2,43), (3,15)], \n",
        "             dtype={'names':['x', 'y'], 'formats':['int','int']})\n",
        "for i in x:\n",
        "    print(i)"
      ],
      "execution_count": null,
      "outputs": [
        {
          "output_type": "stream",
          "text": [
            "(1, 16)\n",
            "(2, 17)\n",
            "(2, 55)\n",
            "(2, 43)\n",
            "(3, 15)\n"
          ],
          "name": "stdout"
        }
      ]
    },
    {
      "cell_type": "code",
      "metadata": {
        "id": "LYtsF686mzh_",
        "colab_type": "code",
        "colab": {},
        "outputId": "30ed9c65-94e6-42f1-e315-9577cb13a504"
      },
      "source": [
        "x"
      ],
      "execution_count": null,
      "outputs": [
        {
          "output_type": "execute_result",
          "data": {
            "text/plain": [
              "array([(1, 16), (2, 17), (2, 55), (2, 43), (3, 15)],\n",
              "      dtype=[('x', '<i4'), ('y', '<i4')])"
            ]
          },
          "metadata": {
            "tags": []
          },
          "execution_count": 109
        }
      ]
    },
    {
      "cell_type": "code",
      "metadata": {
        "id": "bSLbLSlimziA",
        "colab_type": "code",
        "colab": {},
        "outputId": "1b294087-d6a4-4fe0-b30b-4ee2f4433dab"
      },
      "source": [
        "x_o = np.sort(x, order=['x', 'y'])\n",
        "for i in x_o:\n",
        "    print(i)"
      ],
      "execution_count": null,
      "outputs": [
        {
          "output_type": "stream",
          "text": [
            "(1, 16)\n",
            "(2, 17)\n",
            "(2, 43)\n",
            "(2, 55)\n",
            "(3, 15)\n"
          ],
          "name": "stdout"
        }
      ]
    },
    {
      "cell_type": "code",
      "metadata": {
        "id": "mOA3BNjvmziB",
        "colab_type": "code",
        "colab": {},
        "outputId": "9989df03-b523-4e7d-d951-fffe2327202c"
      },
      "source": [
        "array"
      ],
      "execution_count": null,
      "outputs": [
        {
          "output_type": "execute_result",
          "data": {
            "text/plain": [
              "array([[  2,   3,   4,   5],\n",
              "       [520,  33,   4,  55],\n",
              "       [  4,  43,  14,  16]])"
            ]
          },
          "metadata": {
            "tags": []
          },
          "execution_count": 111
        }
      ]
    },
    {
      "cell_type": "code",
      "metadata": {
        "id": "z6B0e0p6mziD",
        "colab_type": "code",
        "colab": {},
        "outputId": "e78bc646-6032-4275-b764-4985950469ab"
      },
      "source": [
        "np.sort(array, axis=None)"
      ],
      "execution_count": null,
      "outputs": [
        {
          "output_type": "execute_result",
          "data": {
            "text/plain": [
              "array([  2,   3,   4,   4,   4,   5,  14,  16,  33,  43,  55, 520])"
            ]
          },
          "metadata": {
            "tags": []
          },
          "execution_count": 112
        }
      ]
    },
    {
      "cell_type": "code",
      "metadata": {
        "id": "rR7MVU3smziE",
        "colab_type": "code",
        "colab": {},
        "outputId": "a7bf0120-cf74-4b9b-db01-3fcb1cdc8b8c"
      },
      "source": [
        "np.argsort(array, axis=None)"
      ],
      "execution_count": null,
      "outputs": [
        {
          "output_type": "execute_result",
          "data": {
            "text/plain": [
              "array([ 0,  1,  2,  6,  8,  3, 10, 11,  5,  9,  7,  4], dtype=int64)"
            ]
          },
          "metadata": {
            "tags": []
          },
          "execution_count": 113
        }
      ]
    },
    {
      "cell_type": "code",
      "metadata": {
        "id": "_y3y2EjZmziG",
        "colab_type": "code",
        "colab": {},
        "outputId": "0737ae71-c62d-448a-80da-c0cdc1f9f02b"
      },
      "source": [
        "x = np.array([7, 22,13,2, -55, 3, 1, 6, 5, 4])\n",
        "np.partition(x, 3)"
      ],
      "execution_count": null,
      "outputs": [
        {
          "output_type": "execute_result",
          "data": {
            "text/plain": [
              "array([  1, -55,   2,   3,   4,  22,  13,   6,   5,   7])"
            ]
          },
          "metadata": {
            "tags": []
          },
          "execution_count": 116
        }
      ]
    },
    {
      "cell_type": "code",
      "metadata": {
        "id": "hN_H143HmziH",
        "colab_type": "code",
        "colab": {},
        "outputId": "d4609a83-2733-40ff-b6ca-976ec645cfcc"
      },
      "source": [
        "np.random.seed(51)\n",
        "np.random.randint(0, 20000000)"
      ],
      "execution_count": null,
      "outputs": [
        {
          "output_type": "execute_result",
          "data": {
            "text/plain": [
              "16563198"
            ]
          },
          "metadata": {
            "tags": []
          },
          "execution_count": 152
        }
      ]
    },
    {
      "cell_type": "code",
      "metadata": {
        "id": "3OixqqthmziI",
        "colab_type": "code",
        "colab": {},
        "outputId": "908a5831-858c-40c9-9812-173ef03e47fc"
      },
      "source": [
        "np.random.seed(100)\n",
        "X = np.random.randint(0, 20, (4, 6))\n",
        "print(X)\n",
        "print()\n",
        "print(np.partition(X, 1, axis=1)) # w wierszu"
      ],
      "execution_count": null,
      "outputs": [
        {
          "output_type": "stream",
          "text": [
            "[[ 8  3  7 15 16 10]\n",
            " [ 2  2  2 14  2 17]\n",
            " [16 15  4 11 16  9]\n",
            " [ 2 12  4  1 13 19]]\n",
            "\n",
            "[[ 3  7  8 15 16 10]\n",
            " [ 2  2  2 14  2 17]\n",
            " [ 4  9 16 11 16 15]\n",
            " [ 1  2  4 12 13 19]]\n"
          ],
          "name": "stdout"
        }
      ]
    },
    {
      "cell_type": "code",
      "metadata": {
        "id": "Z9UEUXHumziJ",
        "colab_type": "code",
        "colab": {},
        "outputId": "bcbd92bc-d036-4db7-ae24-ffbca1157ef5"
      },
      "source": [
        "np.random.seed(100)\n",
        "X = np.random.randint(0, 20, (4, 6))\n",
        "print(X)\n",
        "print()\n",
        "print(np.argpartition(X, 2, axis=1))"
      ],
      "execution_count": null,
      "outputs": [
        {
          "output_type": "stream",
          "text": [
            "[[ 8  3  7 15 16 10]\n",
            " [ 2  2  2 14  2 17]\n",
            " [16 15  4 11 16  9]\n",
            " [ 2 12  4  1 13 19]]\n",
            "\n",
            "[[1 2 0 3 4 5]\n",
            " [0 1 2 3 4 5]\n",
            " [2 5 3 0 4 1]\n",
            " [3 0 2 1 4 5]]\n"
          ],
          "name": "stdout"
        }
      ]
    },
    {
      "cell_type": "code",
      "metadata": {
        "id": "JS70voh-mziK",
        "colab_type": "code",
        "colab": {},
        "outputId": "8ba58e3c-2cfb-4f56-86ac-1247bab82ca7"
      },
      "source": [
        "a"
      ],
      "execution_count": null,
      "outputs": [
        {
          "output_type": "execute_result",
          "data": {
            "text/plain": [
              "array([20, 30, 40, 50])"
            ]
          },
          "metadata": {
            "tags": []
          },
          "execution_count": 120
        }
      ]
    },
    {
      "cell_type": "code",
      "metadata": {
        "id": "R56tT6ksmziL",
        "colab_type": "code",
        "colab": {},
        "outputId": "ec6de1e6-929d-45ac-94e0-da2e2b30ea19"
      },
      "source": [
        "np.sqrt(a)"
      ],
      "execution_count": null,
      "outputs": [
        {
          "output_type": "execute_result",
          "data": {
            "text/plain": [
              "array([4.47213595, 5.47722558, 6.32455532, 7.07106781])"
            ]
          },
          "metadata": {
            "tags": []
          },
          "execution_count": 121
        }
      ]
    },
    {
      "cell_type": "code",
      "metadata": {
        "id": "FmBqAkgPmziM",
        "colab_type": "code",
        "colab": {},
        "outputId": "f9662a79-10b8-49d0-ae63-bb1e73d8ee57"
      },
      "source": [
        "print(np.cos(a))\n",
        "print(np.sin(a))"
      ],
      "execution_count": null,
      "outputs": [
        {
          "output_type": "stream",
          "text": [
            "[ 0.40808206  0.15425145 -0.66693806  0.96496603]\n",
            "[ 0.91294525 -0.98803162  0.74511316 -0.26237485]\n"
          ],
          "name": "stdout"
        }
      ]
    },
    {
      "cell_type": "code",
      "metadata": {
        "id": "bd1vqHc3mziP",
        "colab_type": "code",
        "colab": {}
      },
      "source": [
        "x = [True, True, False]\n",
        "y = [False, True, False]"
      ],
      "execution_count": null,
      "outputs": []
    },
    {
      "cell_type": "code",
      "metadata": {
        "id": "8KrsnOKgmziQ",
        "colab_type": "code",
        "colab": {},
        "outputId": "5ab21c0b-4315-4b82-f678-b8f96eedc1b3"
      },
      "source": [
        "np.logical_and(x,y)"
      ],
      "execution_count": null,
      "outputs": [
        {
          "output_type": "execute_result",
          "data": {
            "text/plain": [
              "array([False,  True, False])"
            ]
          },
          "metadata": {
            "tags": []
          },
          "execution_count": 124
        }
      ]
    },
    {
      "cell_type": "code",
      "metadata": {
        "id": "RbLttaI5mziR",
        "colab_type": "code",
        "colab": {},
        "outputId": "8a912781-4206-45e5-f5b5-9705e1414f38"
      },
      "source": [
        "np.logical_or(x,y)"
      ],
      "execution_count": null,
      "outputs": [
        {
          "output_type": "execute_result",
          "data": {
            "text/plain": [
              "array([ True,  True, False])"
            ]
          },
          "metadata": {
            "tags": []
          },
          "execution_count": 125
        }
      ]
    },
    {
      "cell_type": "code",
      "metadata": {
        "id": "xHoCSITsmziR",
        "colab_type": "code",
        "colab": {},
        "outputId": "8ee0a3b4-aa10-4c49-b586-c87785f2fc20"
      },
      "source": [
        "np.log(a)"
      ],
      "execution_count": null,
      "outputs": [
        {
          "output_type": "execute_result",
          "data": {
            "text/plain": [
              "array([2.99573227, 3.40119738, 3.68887945, 3.91202301])"
            ]
          },
          "metadata": {
            "tags": []
          },
          "execution_count": 126
        }
      ]
    },
    {
      "cell_type": "markdown",
      "metadata": {
        "id": "oGXtsP62mziS",
        "colab_type": "text"
      },
      "source": [
        "Zadanie 5: Dodaj do siebie poniższe macierze, a następnie podnieś każdy element do potęgi drugiej"
      ]
    },
    {
      "cell_type": "code",
      "metadata": {
        "id": "o3B5izoHmziS",
        "colab_type": "code",
        "colab": {}
      },
      "source": [
        "arrayOne = np.array([[5, 6, 9], [21 ,18, 27]])\n",
        "arrayTwo = np.array([[15 ,33, 24], [4 ,7, 1]])"
      ],
      "execution_count": null,
      "outputs": []
    },
    {
      "cell_type": "code",
      "metadata": {
        "id": "AvR8TH_NmziV",
        "colab_type": "code",
        "colab": {},
        "outputId": "489d1de3-512d-459c-bc81-b984127b310a"
      },
      "source": [
        "arrayThree = arrayOne + arrayTwo\n",
        "arrayThree"
      ],
      "execution_count": null,
      "outputs": [
        {
          "output_type": "execute_result",
          "data": {
            "text/plain": [
              "array([[20, 39, 33],\n",
              "       [25, 25, 28]])"
            ]
          },
          "metadata": {
            "tags": []
          },
          "execution_count": 250
        }
      ]
    },
    {
      "cell_type": "code",
      "metadata": {
        "id": "M9m3xWj2mziW",
        "colab_type": "code",
        "colab": {},
        "outputId": "66835009-23ad-49b6-c0f6-dabe1191fe8d"
      },
      "source": [
        "arrayFour = arrayThree * arrayThree\n",
        "arrayFour"
      ],
      "execution_count": null,
      "outputs": [
        {
          "output_type": "execute_result",
          "data": {
            "text/plain": [
              "array([[ 400, 1521, 1089],\n",
              "       [ 625,  625,  784]])"
            ]
          },
          "metadata": {
            "tags": []
          },
          "execution_count": 251
        }
      ]
    },
    {
      "cell_type": "markdown",
      "metadata": {
        "id": "YIRtvM7tmziY",
        "colab_type": "text"
      },
      "source": [
        "Zadanie 6: Posortuj poniższą macierz wg \n",
        "\n",
        "a) drugiego wiersza (1 wg pythona)\n",
        "\n",
        "b) drugiej kolumny (1 wg pythona)"
      ]
    },
    {
      "cell_type": "code",
      "metadata": {
        "id": "8uafo4hXmziY",
        "colab_type": "code",
        "colab": {}
      },
      "source": [
        "# a) drugiego wiersza (1 wg pythona)\n",
        "array([[73, 43, 34],\n",
        "       [12, 22, 82],\n",
        "       [66, 94, 53]])\n",
        "\n",
        "# b) drugiej kolumny (1 wg pythona)\n",
        "array([[82, 22, 12],\n",
        "       [34, 43, 73],\n",
        "       [53, 94, 66]])"
      ],
      "execution_count": null,
      "outputs": []
    },
    {
      "cell_type": "code",
      "metadata": {
        "id": "NfnfWxrBmziZ",
        "colab_type": "code",
        "colab": {},
        "outputId": "b9248ef9-c2c4-4a40-d1b9-286b2ae28c85"
      },
      "source": [
        "m = np.array([[34,43,73],[82,22,12],[53,94,66]]) \n",
        "m"
      ],
      "execution_count": null,
      "outputs": [
        {
          "output_type": "execute_result",
          "data": {
            "text/plain": [
              "array([[34, 43, 73],\n",
              "       [82, 22, 12],\n",
              "       [53, 94, 66]])"
            ]
          },
          "metadata": {
            "tags": []
          },
          "execution_count": 252
        }
      ]
    },
    {
      "cell_type": "code",
      "metadata": {
        "id": "dBH9ovjZmzia",
        "colab_type": "code",
        "colab": {},
        "outputId": "d58bbe54-b369-493b-9c03-e6c2eb309c39"
      },
      "source": [
        "# a)\n",
        "kolejnosc = m[1,:].argsort()\n",
        "kolejnosc"
      ],
      "execution_count": null,
      "outputs": [
        {
          "output_type": "execute_result",
          "data": {
            "text/plain": [
              "array([2, 1, 0], dtype=int64)"
            ]
          },
          "metadata": {
            "tags": []
          },
          "execution_count": 253
        }
      ]
    },
    {
      "cell_type": "code",
      "metadata": {
        "id": "l3-DvqDGmzib",
        "colab_type": "code",
        "colab": {},
        "outputId": "826dacbd-53d4-4ce7-9208-e52498cf6b34"
      },
      "source": [
        "m[:,kolejnosc]"
      ],
      "execution_count": null,
      "outputs": [
        {
          "output_type": "execute_result",
          "data": {
            "text/plain": [
              "array([[73, 43, 34],\n",
              "       [12, 22, 82],\n",
              "       [66, 94, 53]])"
            ]
          },
          "metadata": {
            "tags": []
          },
          "execution_count": 254
        }
      ]
    },
    {
      "cell_type": "code",
      "metadata": {
        "id": "A-PHhZYZmzic",
        "colab_type": "code",
        "colab": {},
        "outputId": "a694e8a0-bca4-47e7-ad0a-d79220c87005"
      },
      "source": [
        "# b)\n",
        "m[m[:,1].argsort()]"
      ],
      "execution_count": null,
      "outputs": [
        {
          "output_type": "execute_result",
          "data": {
            "text/plain": [
              "array([[82, 22, 12],\n",
              "       [34, 43, 73],\n",
              "       [53, 94, 66]])"
            ]
          },
          "metadata": {
            "tags": []
          },
          "execution_count": 255
        }
      ]
    },
    {
      "cell_type": "markdown",
      "metadata": {
        "id": "jyAGVvnMmzic",
        "colab_type": "text"
      },
      "source": [
        "Zadanie 7: Podaj wartość maksymalną dla każdego wymiaru:"
      ]
    },
    {
      "cell_type": "code",
      "metadata": {
        "id": "euCLnolDmzid",
        "colab_type": "code",
        "colab": {},
        "outputId": "c656c784-2c7b-4014-ab5d-94a7a00c6ecd"
      },
      "source": [
        "m = np.array([[34,43,73],[82,22,12],[53,94,66]])\n",
        "m"
      ],
      "execution_count": null,
      "outputs": [
        {
          "output_type": "execute_result",
          "data": {
            "text/plain": [
              "array([[34, 43, 73],\n",
              "       [82, 22, 12],\n",
              "       [53, 94, 66]])"
            ]
          },
          "metadata": {
            "tags": []
          },
          "execution_count": 256
        }
      ]
    },
    {
      "cell_type": "code",
      "metadata": {
        "id": "xdFPNLD7mzif",
        "colab_type": "code",
        "colab": {},
        "outputId": "d1f481da-51f0-456f-d518-60560d46fae3"
      },
      "source": [
        "np.max(m, axis=1) "
      ],
      "execution_count": null,
      "outputs": [
        {
          "output_type": "execute_result",
          "data": {
            "text/plain": [
              "array([73, 82, 94])"
            ]
          },
          "metadata": {
            "tags": []
          },
          "execution_count": 257
        }
      ]
    },
    {
      "cell_type": "code",
      "metadata": {
        "id": "4FNmXgozmzif",
        "colab_type": "code",
        "colab": {},
        "outputId": "f2cc11fd-acb8-4729-9b8e-3c9aa7d72ac7"
      },
      "source": [
        "np.max(m, axis=0)"
      ],
      "execution_count": null,
      "outputs": [
        {
          "output_type": "execute_result",
          "data": {
            "text/plain": [
              "array([82, 94, 73])"
            ]
          },
          "metadata": {
            "tags": []
          },
          "execution_count": 258
        }
      ]
    },
    {
      "cell_type": "markdown",
      "metadata": {
        "id": "ZLOCJ5dYmzih",
        "colab_type": "text"
      },
      "source": [
        "Zadanie 8: Stwórz macierz losowych elementów o wymiarach 5x5 i podaj na którym miejscu w każdym wierszu znajdują się 2 najmniejsze elementy."
      ]
    },
    {
      "cell_type": "code",
      "metadata": {
        "id": "ebkxc913mzih",
        "colab_type": "code",
        "colab": {},
        "outputId": "c4f06efb-3e09-4fc9-cf99-5fa37ba1418c"
      },
      "source": [
        "X = np.random.randint(0, 20, (5, 5))\n",
        "print(X)\n",
        "print()\n",
        "ordered = np.argpartition(X, 2, axis=1)\n",
        "print(ordered)"
      ],
      "execution_count": null,
      "outputs": [
        {
          "output_type": "stream",
          "text": [
            "[[12  3 10  8  8]\n",
            " [12 18 12  0  9]\n",
            " [ 8  2 16  5 19]\n",
            " [ 2  3 14 13  1]\n",
            " [14 19  1  8 18]]\n",
            "\n",
            "[[1 3 4 0 2]\n",
            " [3 4 2 0 1]\n",
            " [1 3 0 2 4]\n",
            " [4 0 1 3 2]\n",
            " [2 3 0 1 4]]\n"
          ],
          "name": "stdout"
        }
      ]
    },
    {
      "cell_type": "code",
      "metadata": {
        "id": "rHx4_6oQmzii",
        "colab_type": "code",
        "colab": {},
        "outputId": "164e3305-d9ed-44ab-b3c2-11062a83b1d8"
      },
      "source": [
        "ordered[:, :2]"
      ],
      "execution_count": null,
      "outputs": [
        {
          "output_type": "execute_result",
          "data": {
            "text/plain": [
              "array([[1, 3],\n",
              "       [3, 4],\n",
              "       [1, 3],\n",
              "       [4, 0],\n",
              "       [2, 3]], dtype=int64)"
            ]
          },
          "metadata": {
            "tags": []
          },
          "execution_count": 260
        }
      ]
    },
    {
      "cell_type": "markdown",
      "metadata": {
        "id": "Op0GTJK8mzik",
        "colab_type": "text"
      },
      "source": [
        "## Instrukcje warunkowe"
      ]
    },
    {
      "cell_type": "code",
      "metadata": {
        "id": "Mjru9PfGmzik",
        "colab_type": "code",
        "colab": {},
        "outputId": "e83bf347-5385-4aa2-9c49-e68986387543"
      },
      "source": [
        "np.random.seed(100)\n",
        "a = np.random.choice(10, (2,3))\n",
        "a"
      ],
      "execution_count": null,
      "outputs": [
        {
          "output_type": "execute_result",
          "data": {
            "text/plain": [
              "array([[8, 8, 3],\n",
              "       [7, 7, 0]])"
            ]
          },
          "metadata": {
            "tags": []
          },
          "execution_count": 168
        }
      ]
    },
    {
      "cell_type": "code",
      "metadata": {
        "id": "QURkjaSlmzil",
        "colab_type": "code",
        "colab": {},
        "outputId": "f411683a-fddc-4a65-c83c-f1620454e3d0"
      },
      "source": [
        "a<5"
      ],
      "execution_count": null,
      "outputs": [
        {
          "output_type": "execute_result",
          "data": {
            "text/plain": [
              "array([[False, False,  True],\n",
              "       [False, False,  True]])"
            ]
          },
          "metadata": {
            "tags": []
          },
          "execution_count": 154
        }
      ]
    },
    {
      "cell_type": "code",
      "metadata": {
        "id": "KzQhYHeBmzim",
        "colab_type": "code",
        "colab": {},
        "outputId": "7a6f06c4-6133-4d8a-ba4c-326f173c8a5d"
      },
      "source": [
        "a != 8 #=="
      ],
      "execution_count": null,
      "outputs": [
        {
          "output_type": "execute_result",
          "data": {
            "text/plain": [
              "array([[False, False,  True],\n",
              "       [ True,  True,  True]])"
            ]
          },
          "metadata": {
            "tags": []
          },
          "execution_count": 155
        }
      ]
    },
    {
      "cell_type": "code",
      "metadata": {
        "id": "ILbTiU37mzio",
        "colab_type": "code",
        "colab": {},
        "outputId": "0e397fa6-54d1-475c-b20e-ff6255d804c7"
      },
      "source": [
        "np.all(a)"
      ],
      "execution_count": null,
      "outputs": [
        {
          "output_type": "execute_result",
          "data": {
            "text/plain": [
              "False"
            ]
          },
          "metadata": {
            "tags": []
          },
          "execution_count": 156
        }
      ]
    },
    {
      "cell_type": "code",
      "metadata": {
        "id": "DpTlkZd3mzip",
        "colab_type": "code",
        "colab": {},
        "outputId": "b8226d71-31b4-4b9c-d2e8-c45fc1a12174"
      },
      "source": [
        "np.any(a)"
      ],
      "execution_count": null,
      "outputs": [
        {
          "output_type": "execute_result",
          "data": {
            "text/plain": [
              "True"
            ]
          },
          "metadata": {
            "tags": []
          },
          "execution_count": 157
        }
      ]
    },
    {
      "cell_type": "code",
      "metadata": {
        "id": "BzGTl1nKmziq",
        "colab_type": "code",
        "colab": {}
      },
      "source": [
        ""
      ],
      "execution_count": null,
      "outputs": []
    },
    {
      "cell_type": "code",
      "metadata": {
        "id": "L0Fu3BBrmziq",
        "colab_type": "code",
        "colab": {},
        "outputId": "f5e54635-9d0e-4f76-8946-966cc537bb95"
      },
      "source": [
        "a[1] = np.nan\n",
        "a"
      ],
      "execution_count": null,
      "outputs": [
        {
          "output_type": "execute_result",
          "data": {
            "text/plain": [
              "array([[          8,           8,           3],\n",
              "       [-2147483648, -2147483648, -2147483648]])"
            ]
          },
          "metadata": {
            "tags": []
          },
          "execution_count": 162
        }
      ]
    },
    {
      "cell_type": "code",
      "metadata": {
        "id": "QNt6B4dLmzir",
        "colab_type": "code",
        "colab": {},
        "outputId": "a15c30b7-8c9c-4fac-a366-3534fc975066"
      },
      "source": [
        "np.isnan(a)"
      ],
      "execution_count": null,
      "outputs": [
        {
          "output_type": "execute_result",
          "data": {
            "text/plain": [
              "array([[False, False, False],\n",
              "       [False, False, False]])"
            ]
          },
          "metadata": {
            "tags": []
          },
          "execution_count": 164
        }
      ]
    },
    {
      "cell_type": "code",
      "metadata": {
        "id": "Om2L8FRLmzis",
        "colab_type": "code",
        "colab": {},
        "outputId": "7fa57e56-0a39-4af9-d5e5-a4f4f0acf8df"
      },
      "source": [
        "np.nan"
      ],
      "execution_count": null,
      "outputs": [
        {
          "output_type": "execute_result",
          "data": {
            "text/plain": [
              "nan"
            ]
          },
          "metadata": {
            "tags": []
          },
          "execution_count": 165
        }
      ]
    },
    {
      "cell_type": "code",
      "metadata": {
        "id": "AIBEuA8xmziu",
        "colab_type": "code",
        "colab": {},
        "outputId": "d8adc74d-1cd9-4875-ce28-9db706c633fb"
      },
      "source": [
        "np.array([z/2 for z in a])"
      ],
      "execution_count": null,
      "outputs": [
        {
          "output_type": "execute_result",
          "data": {
            "text/plain": [
              "array([[ 4.00000000e+00,  4.00000000e+00,  1.50000000e+00],\n",
              "       [-1.07374182e+09, -1.07374182e+09, -1.07374182e+09]])"
            ]
          },
          "metadata": {
            "tags": []
          },
          "execution_count": 166
        }
      ]
    },
    {
      "cell_type": "code",
      "metadata": {
        "id": "bao5psmlmziv",
        "colab_type": "code",
        "colab": {},
        "outputId": "178dceba-46ed-4d4a-dddd-1044952a3ed2"
      },
      "source": [
        "a"
      ],
      "execution_count": null,
      "outputs": [
        {
          "output_type": "execute_result",
          "data": {
            "text/plain": [
              "array([[8, 8, 3],\n",
              "       [7, 7, 0]])"
            ]
          },
          "metadata": {
            "tags": []
          },
          "execution_count": 169
        }
      ]
    },
    {
      "cell_type": "code",
      "metadata": {
        "id": "pawG23JWmziw",
        "colab_type": "code",
        "colab": {},
        "outputId": "0c30decf-1940-44ce-aad1-d8e5d4a23518"
      },
      "source": [
        "b = np.where(a<5,a, np.nan)\n",
        "b"
      ],
      "execution_count": null,
      "outputs": [
        {
          "output_type": "execute_result",
          "data": {
            "text/plain": [
              "array([[nan, nan,  3.],\n",
              "       [nan, nan,  0.]])"
            ]
          },
          "metadata": {
            "tags": []
          },
          "execution_count": 172
        }
      ]
    },
    {
      "cell_type": "code",
      "metadata": {
        "id": "hlfWqGeMmziw",
        "colab_type": "code",
        "colab": {},
        "outputId": "cfb5abc0-5bf8-421d-a016-678f7636b397"
      },
      "source": [
        "np.isnan(b)"
      ],
      "execution_count": null,
      "outputs": [
        {
          "output_type": "execute_result",
          "data": {
            "text/plain": [
              "array([[ True,  True, False],\n",
              "       [ True,  True, False]])"
            ]
          },
          "metadata": {
            "tags": []
          },
          "execution_count": 173
        }
      ]
    },
    {
      "cell_type": "code",
      "metadata": {
        "id": "K41pFetBmziy",
        "colab_type": "code",
        "colab": {},
        "outputId": "a273d53c-333d-4e10-a768-5237417d853a"
      },
      "source": [
        "np.random.seed(112)\n",
        "b = np.random.choice(10, (2,3))\n",
        "b"
      ],
      "execution_count": null,
      "outputs": [
        {
          "output_type": "execute_result",
          "data": {
            "text/plain": [
              "array([[4, 8, 1],\n",
              "       [4, 5, 7]])"
            ]
          },
          "metadata": {
            "tags": []
          },
          "execution_count": 174
        }
      ]
    },
    {
      "cell_type": "code",
      "metadata": {
        "id": "04tNlD7Xmziz",
        "colab_type": "code",
        "colab": {},
        "outputId": "750fbe1a-4c91-402f-b270-36ba06dbcc5d"
      },
      "source": [
        "a"
      ],
      "execution_count": null,
      "outputs": [
        {
          "output_type": "execute_result",
          "data": {
            "text/plain": [
              "array([[8, 8, 3],\n",
              "       [7, 7, 0]])"
            ]
          },
          "metadata": {
            "tags": []
          },
          "execution_count": 175
        }
      ]
    },
    {
      "cell_type": "code",
      "metadata": {
        "id": "u-HlmpIomzi0",
        "colab_type": "code",
        "colab": {},
        "outputId": "9355944d-1ce2-40fe-bf30-1687c392507a"
      },
      "source": [
        "np.where(a<b,a, b)"
      ],
      "execution_count": null,
      "outputs": [
        {
          "output_type": "execute_result",
          "data": {
            "text/plain": [
              "array([[4, 8, 1],\n",
              "       [4, 5, 0]])"
            ]
          },
          "metadata": {
            "tags": []
          },
          "execution_count": 176
        }
      ]
    },
    {
      "cell_type": "code",
      "metadata": {
        "id": "mn7dR5GHmzi1",
        "colab_type": "code",
        "colab": {},
        "outputId": "7afdf0c7-99c5-4a5a-e202-686fa1046951"
      },
      "source": [
        "b[b<5]"
      ],
      "execution_count": null,
      "outputs": [
        {
          "output_type": "execute_result",
          "data": {
            "text/plain": [
              "array([4, 1, 4])"
            ]
          },
          "metadata": {
            "tags": []
          },
          "execution_count": 177
        }
      ]
    },
    {
      "cell_type": "code",
      "metadata": {
        "id": "J5Fjr8Vtmzi1",
        "colab_type": "code",
        "colab": {},
        "outputId": "cf03288a-e7ba-44e5-a401-d0e27488fe5a"
      },
      "source": [
        "b[b%2==0]"
      ],
      "execution_count": null,
      "outputs": [
        {
          "output_type": "execute_result",
          "data": {
            "text/plain": [
              "array([4, 8, 4])"
            ]
          },
          "metadata": {
            "tags": []
          },
          "execution_count": 178
        }
      ]
    },
    {
      "cell_type": "code",
      "metadata": {
        "id": "Qd69G8WRmzi2",
        "colab_type": "code",
        "colab": {},
        "outputId": "0b18cc16-14da-49bf-9cd6-c134c2636f59"
      },
      "source": [
        "b.mean()"
      ],
      "execution_count": null,
      "outputs": [
        {
          "output_type": "execute_result",
          "data": {
            "text/plain": [
              "4.833333333333333"
            ]
          },
          "metadata": {
            "tags": []
          },
          "execution_count": 179
        }
      ]
    },
    {
      "cell_type": "code",
      "metadata": {
        "id": "O0anv2Z4mzi3",
        "colab_type": "code",
        "colab": {},
        "outputId": "70f7d991-80bc-422c-b06b-b78b54940387"
      },
      "source": [
        "b[b>b.mean()]"
      ],
      "execution_count": null,
      "outputs": [
        {
          "output_type": "execute_result",
          "data": {
            "text/plain": [
              "array([8, 5, 7])"
            ]
          },
          "metadata": {
            "tags": []
          },
          "execution_count": 180
        }
      ]
    },
    {
      "cell_type": "markdown",
      "metadata": {
        "id": "MVFWUsZmmzi5",
        "colab_type": "text"
      },
      "source": [
        "Zadanie 9: Z poniższej tablicy wybierz elementy podzielne przez 3:"
      ]
    },
    {
      "cell_type": "code",
      "metadata": {
        "id": "-Cjme-93mzi5",
        "colab_type": "code",
        "colab": {},
        "outputId": "a5877a08-106d-41f0-81ea-8eebbc326c2b"
      },
      "source": [
        "m = np.arange(13)\n",
        "m"
      ],
      "execution_count": null,
      "outputs": [
        {
          "output_type": "execute_result",
          "data": {
            "text/plain": [
              "array([ 0,  1,  2,  3,  4,  5,  6,  7,  8,  9, 10, 11, 12])"
            ]
          },
          "metadata": {
            "tags": []
          },
          "execution_count": 261
        }
      ]
    },
    {
      "cell_type": "code",
      "metadata": {
        "id": "d6q3rudwmzi6",
        "colab_type": "code",
        "colab": {},
        "outputId": "bccf8a78-ed5b-4a9e-f444-cd3b6cd1bc2d"
      },
      "source": [
        "m[m%3==0]"
      ],
      "execution_count": null,
      "outputs": [
        {
          "output_type": "execute_result",
          "data": {
            "text/plain": [
              "array([ 0,  3,  6,  9, 12])"
            ]
          },
          "metadata": {
            "tags": []
          },
          "execution_count": 262
        }
      ]
    },
    {
      "cell_type": "markdown",
      "metadata": {
        "id": "2H8nqqU4mzi8",
        "colab_type": "text"
      },
      "source": [
        "Zadanie 10: W tabeli z powyższego zadania zamień liczby podzielne przez 3 na wartość '-1'"
      ]
    },
    {
      "cell_type": "code",
      "metadata": {
        "id": "3y6id7Mlmzi8",
        "colab_type": "code",
        "colab": {},
        "outputId": "5a53e949-7d2d-4725-ec67-cebb63f82634"
      },
      "source": [
        "m[m%3==0] = -1\n",
        "m"
      ],
      "execution_count": null,
      "outputs": [
        {
          "output_type": "execute_result",
          "data": {
            "text/plain": [
              "array([-1,  1,  2, -1,  4,  5, -1,  7,  8, -1, 10, 11, -1])"
            ]
          },
          "metadata": {
            "tags": []
          },
          "execution_count": 263
        }
      ]
    },
    {
      "cell_type": "markdown",
      "metadata": {
        "id": "rBRPhNIVmzi9",
        "colab_type": "text"
      },
      "source": [
        "Zadanie 11: Wybierz z obu tablic pozycje tych elementów, które stoją na tym samym miejscu"
      ]
    },
    {
      "cell_type": "code",
      "metadata": {
        "id": "kL6iJzhCmzi9",
        "colab_type": "code",
        "colab": {}
      },
      "source": [
        "a = np.array([1,2,3,2,3,4,3,4,5,6])\n",
        "b = np.array([7,2,10,2,7,4,9,4,9,8])"
      ],
      "execution_count": null,
      "outputs": []
    },
    {
      "cell_type": "code",
      "metadata": {
        "id": "cF38-t2smzi_",
        "colab_type": "code",
        "colab": {},
        "outputId": "96bf60e0-20b8-4384-9d5f-a07e5dff38d6"
      },
      "source": [
        "np.where(a == b)"
      ],
      "execution_count": null,
      "outputs": [
        {
          "output_type": "execute_result",
          "data": {
            "text/plain": [
              "(array([1, 3, 5, 7], dtype=int64),)"
            ]
          },
          "metadata": {
            "tags": []
          },
          "execution_count": 265
        }
      ]
    },
    {
      "cell_type": "markdown",
      "metadata": {
        "id": "xPAUt0AymzjA",
        "colab_type": "text"
      },
      "source": [
        "Zadanie 12: Wybierz z poniższej tablicy elementy większe od 4 ale mniejsze od 10:"
      ]
    },
    {
      "cell_type": "code",
      "metadata": {
        "id": "zsD7vEEWmzjA",
        "colab_type": "code",
        "colab": {},
        "outputId": "382484f5-8e3c-41f0-d8e7-362df1f56235"
      },
      "source": [
        "a = np.arange(18)\n",
        "a"
      ],
      "execution_count": null,
      "outputs": [
        {
          "output_type": "execute_result",
          "data": {
            "text/plain": [
              "array([ 0,  1,  2,  3,  4,  5,  6,  7,  8,  9, 10, 11, 12, 13, 14, 15, 16,\n",
              "       17])"
            ]
          },
          "metadata": {
            "tags": []
          },
          "execution_count": 266
        }
      ]
    },
    {
      "cell_type": "code",
      "metadata": {
        "id": "132CyWGxmzjB",
        "colab_type": "code",
        "colab": {},
        "outputId": "838abba7-05b4-48ba-9dc5-b150fff36d79"
      },
      "source": [
        "a[(a >= 5) & (a < 10)]"
      ],
      "execution_count": null,
      "outputs": [
        {
          "output_type": "execute_result",
          "data": {
            "text/plain": [
              "array([5, 6, 7, 8, 9])"
            ]
          },
          "metadata": {
            "tags": []
          },
          "execution_count": 267
        }
      ]
    },
    {
      "cell_type": "markdown",
      "metadata": {
        "id": "npLzdafBmzjC",
        "colab_type": "text"
      },
      "source": [
        "## Indeksowanie i krojenie"
      ]
    },
    {
      "cell_type": "code",
      "metadata": {
        "id": "_fEh6iRrmzjC",
        "colab_type": "code",
        "colab": {
          "base_uri": "https://localhost:8080/",
          "height": 178
        },
        "outputId": "df05acbe-826f-4abe-d9b0-3fe3f53a8e37"
      },
      "source": [
        "b = np.arange(12)\n",
        "b"
      ],
      "execution_count": 1,
      "outputs": [
        {
          "output_type": "error",
          "ename": "NameError",
          "evalue": "ignored",
          "traceback": [
            "\u001b[0;31m---------------------------------------------------------------------------\u001b[0m",
            "\u001b[0;31mNameError\u001b[0m                                 Traceback (most recent call last)",
            "\u001b[0;32m<ipython-input-1-4a6abf65f908>\u001b[0m in \u001b[0;36m<module>\u001b[0;34m()\u001b[0m\n\u001b[0;32m----> 1\u001b[0;31m \u001b[0mb\u001b[0m \u001b[0;34m=\u001b[0m \u001b[0mnp\u001b[0m\u001b[0;34m.\u001b[0m\u001b[0marange\u001b[0m\u001b[0;34m(\u001b[0m\u001b[0;36m12\u001b[0m\u001b[0;34m)\u001b[0m\u001b[0;34m\u001b[0m\u001b[0;34m\u001b[0m\u001b[0m\n\u001b[0m\u001b[1;32m      2\u001b[0m \u001b[0mb\u001b[0m\u001b[0;34m\u001b[0m\u001b[0;34m\u001b[0m\u001b[0m\n",
            "\u001b[0;31mNameError\u001b[0m: name 'np' is not defined"
          ]
        }
      ]
    },
    {
      "cell_type": "code",
      "metadata": {
        "id": "ufaBlo8bmzjD",
        "colab_type": "code",
        "colab": {
          "base_uri": "https://localhost:8080/",
          "height": 161
        },
        "outputId": "eae5e766-b628-495b-eb87-42f21d4b497c"
      },
      "source": [
        "b[1:3]"
      ],
      "execution_count": 2,
      "outputs": [
        {
          "output_type": "error",
          "ename": "NameError",
          "evalue": "ignored",
          "traceback": [
            "\u001b[0;31m---------------------------------------------------------------------------\u001b[0m",
            "\u001b[0;31mNameError\u001b[0m                                 Traceback (most recent call last)",
            "\u001b[0;32m<ipython-input-2-77dd1ac22fae>\u001b[0m in \u001b[0;36m<module>\u001b[0;34m()\u001b[0m\n\u001b[0;32m----> 1\u001b[0;31m \u001b[0mb\u001b[0m\u001b[0;34m[\u001b[0m\u001b[0;36m1\u001b[0m\u001b[0;34m:\u001b[0m\u001b[0;36m3\u001b[0m\u001b[0;34m]\u001b[0m\u001b[0;34m\u001b[0m\u001b[0;34m\u001b[0m\u001b[0m\n\u001b[0m",
            "\u001b[0;31mNameError\u001b[0m: name 'b' is not defined"
          ]
        }
      ]
    },
    {
      "cell_type": "code",
      "metadata": {
        "id": "GG3OelMpmzjE",
        "colab_type": "code",
        "colab": {}
      },
      "source": [
        "b[-2]"
      ],
      "execution_count": null,
      "outputs": []
    },
    {
      "cell_type": "code",
      "metadata": {
        "id": "a9UgvT7cmzjF",
        "colab_type": "code",
        "colab": {}
      },
      "source": [
        "np.random.seed(100)\n",
        "b = np.random.choice(20, (4,3))\n",
        "b"
      ],
      "execution_count": null,
      "outputs": []
    },
    {
      "cell_type": "code",
      "metadata": {
        "id": "7_hJR3KnmzjG",
        "colab_type": "code",
        "colab": {}
      },
      "source": [
        "b[1,2]"
      ],
      "execution_count": null,
      "outputs": []
    },
    {
      "cell_type": "code",
      "metadata": {
        "id": "V5QRU5lMmzjH",
        "colab_type": "code",
        "colab": {}
      },
      "source": [
        "b[-2,:]"
      ],
      "execution_count": null,
      "outputs": []
    },
    {
      "cell_type": "code",
      "metadata": {
        "id": "AHBj_qxtmzjJ",
        "colab_type": "code",
        "colab": {}
      },
      "source": [
        "b[-1,-1]"
      ],
      "execution_count": null,
      "outputs": []
    },
    {
      "cell_type": "code",
      "metadata": {
        "id": "6gCR2su9mzjL",
        "colab_type": "code",
        "colab": {}
      },
      "source": [
        "b[1:3,:]"
      ],
      "execution_count": null,
      "outputs": []
    },
    {
      "cell_type": "code",
      "metadata": {
        "id": "YGfuNtnMmzjM",
        "colab_type": "code",
        "colab": {}
      },
      "source": [
        "b"
      ],
      "execution_count": null,
      "outputs": []
    },
    {
      "cell_type": "code",
      "metadata": {
        "id": "UtIrsH6qmzjN",
        "colab_type": "code",
        "colab": {}
      },
      "source": [
        "b[1:3,1]"
      ],
      "execution_count": null,
      "outputs": []
    },
    {
      "cell_type": "code",
      "metadata": {
        "id": "E9M7X0fcmzjP",
        "colab_type": "code",
        "colab": {}
      },
      "source": [
        "b[1:3,1:3]"
      ],
      "execution_count": null,
      "outputs": []
    },
    {
      "cell_type": "code",
      "metadata": {
        "id": "dOKGF03PmzjR",
        "colab_type": "code",
        "colab": {}
      },
      "source": [
        "b[3, :]"
      ],
      "execution_count": null,
      "outputs": []
    },
    {
      "cell_type": "code",
      "metadata": {
        "id": "FOHlWNdVmzjT",
        "colab_type": "code",
        "colab": {}
      },
      "source": [
        "b[:,1]"
      ],
      "execution_count": null,
      "outputs": []
    },
    {
      "cell_type": "code",
      "metadata": {
        "id": "Au1h_S8WmzjU",
        "colab_type": "code",
        "colab": {}
      },
      "source": [
        "b[::2,::2]"
      ],
      "execution_count": null,
      "outputs": []
    },
    {
      "cell_type": "code",
      "metadata": {
        "id": "xDlDNgcTmzjV",
        "colab_type": "code",
        "colab": {}
      },
      "source": [
        "s = slice(1,3) # b[1:3,:]"
      ],
      "execution_count": null,
      "outputs": []
    },
    {
      "cell_type": "code",
      "metadata": {
        "id": "UDjjZnrKmzjW",
        "colab_type": "code",
        "colab": {}
      },
      "source": [
        "b[s]"
      ],
      "execution_count": null,
      "outputs": []
    },
    {
      "cell_type": "code",
      "metadata": {
        "id": "sHKpwxOPmzjX",
        "colab_type": "code",
        "colab": {}
      },
      "source": [
        "b[1:3]"
      ],
      "execution_count": null,
      "outputs": []
    },
    {
      "cell_type": "code",
      "metadata": {
        "id": "FhVDQkR3mzjX",
        "colab_type": "code",
        "colab": {}
      },
      "source": [
        "s = slice(None, None, -1) #b[::-1]\n",
        "b[s]"
      ],
      "execution_count": null,
      "outputs": []
    },
    {
      "cell_type": "code",
      "metadata": {
        "id": "hQOPAoR_mzjY",
        "colab_type": "code",
        "colab": {}
      },
      "source": [
        "b[::-1]"
      ],
      "execution_count": null,
      "outputs": []
    },
    {
      "cell_type": "code",
      "metadata": {
        "id": "wkPIwwUxmzjZ",
        "colab_type": "code",
        "colab": {}
      },
      "source": [
        "b[0,0] = 22\n",
        "b"
      ],
      "execution_count": null,
      "outputs": []
    },
    {
      "cell_type": "code",
      "metadata": {
        "id": "t5CMmH2Lmzja",
        "colab_type": "code",
        "colab": {}
      },
      "source": [
        "b[1] = 0\n",
        "b"
      ],
      "execution_count": null,
      "outputs": []
    },
    {
      "cell_type": "code",
      "metadata": {
        "id": "vlIlde7Smzjb",
        "colab_type": "code",
        "colab": {}
      },
      "source": [
        "b[:,2] = 0\n",
        "b"
      ],
      "execution_count": null,
      "outputs": []
    },
    {
      "cell_type": "code",
      "metadata": {
        "id": "9PSlhKNdmzjc",
        "colab_type": "code",
        "colab": {}
      },
      "source": [
        "c = b[np.array([0,2,1]), np.array([0,1,2])] #0,0 2,1 1,2\n",
        "c"
      ],
      "execution_count": null,
      "outputs": []
    },
    {
      "cell_type": "code",
      "metadata": {
        "id": "p_zJ5lLQmzjd",
        "colab_type": "code",
        "colab": {}
      },
      "source": [
        "b"
      ],
      "execution_count": null,
      "outputs": []
    },
    {
      "cell_type": "code",
      "metadata": {
        "id": "w7SJ_7qLmzje",
        "colab_type": "code",
        "colab": {}
      },
      "source": [
        "b[1:, [2, 0, 1]]"
      ],
      "execution_count": null,
      "outputs": []
    },
    {
      "cell_type": "markdown",
      "metadata": {
        "id": "L3rRCRRImzjf",
        "colab_type": "text"
      },
      "source": [
        "Zadanie 13: Wybierz z poniższej macierzy wszystkie elementy w trzeciej kolumnie:"
      ]
    },
    {
      "cell_type": "code",
      "metadata": {
        "id": "pOvrvEPymzjf",
        "colab_type": "code",
        "colab": {}
      },
      "source": [
        "m = np.array([[11 ,22, 33], [44, 55, 66], [77, 88, 99]])\n",
        "m"
      ],
      "execution_count": null,
      "outputs": []
    },
    {
      "cell_type": "code",
      "metadata": {
        "id": "GWKuaytbmzjf",
        "colab_type": "code",
        "colab": {}
      },
      "source": [
        "m[:,2]"
      ],
      "execution_count": null,
      "outputs": []
    },
    {
      "cell_type": "markdown",
      "metadata": {
        "id": "GekhW6fFmzjg",
        "colab_type": "text"
      },
      "source": [
        "Zadanie 14: Z poniższej macierzy wybierz parzyste wiersze i nieparzyste kolumny"
      ]
    },
    {
      "cell_type": "code",
      "metadata": {
        "id": "Q9QXjzqTmzjg",
        "colab_type": "code",
        "colab": {}
      },
      "source": [
        "m = np.array([[3 ,6, 9, 12], [15 ,18, 21, 24], [27 ,30, 33, 36], [39 ,42, 45, 48], [51 ,54, 57, 60]]) "
      ],
      "execution_count": null,
      "outputs": []
    },
    {
      "cell_type": "code",
      "metadata": {
        "id": "OkeTKD7rmzjh",
        "colab_type": "code",
        "colab": {}
      },
      "source": [
        "m[0::2, 1::2]"
      ],
      "execution_count": null,
      "outputs": []
    },
    {
      "cell_type": "markdown",
      "metadata": {
        "id": "Ff2_npREmzji",
        "colab_type": "text"
      },
      "source": [
        "Zadanie 15: Odwróć wiersze i kolumny w poniższej macierzy:"
      ]
    },
    {
      "cell_type": "code",
      "metadata": {
        "id": "fx01ykwBmzji",
        "colab_type": "code",
        "colab": {}
      },
      "source": [
        "a = np.arange(9).reshape(3,3)\n",
        "a"
      ],
      "execution_count": null,
      "outputs": []
    },
    {
      "cell_type": "code",
      "metadata": {
        "id": "ydmjVId1mzjj",
        "colab_type": "code",
        "colab": {}
      },
      "source": [
        "a[::-1,::-1]"
      ],
      "execution_count": null,
      "outputs": []
    },
    {
      "cell_type": "code",
      "metadata": {
        "id": "ZNHG-iqamzjj",
        "colab_type": "code",
        "colab": {}
      },
      "source": [
        "a.transpose()"
      ],
      "execution_count": null,
      "outputs": []
    },
    {
      "cell_type": "markdown",
      "metadata": {
        "id": "STo7GNd0mzjk",
        "colab_type": "text"
      },
      "source": [
        "Zadanie 16: Wybierz zbiory elementów wskazane poszczególnymi kolorami w macierzy z zadania 14:\n",
        "\n",
        "<img src='images/zadanie 15.bmp' width=400>"
      ]
    },
    {
      "cell_type": "markdown",
      "metadata": {
        "id": "X9wbSmvLmzjk",
        "colab_type": "text"
      },
      "source": [
        ""
      ]
    },
    {
      "cell_type": "code",
      "metadata": {
        "id": "B6hoJdcFmzjl",
        "colab_type": "code",
        "colab": {}
      },
      "source": [
        "m"
      ],
      "execution_count": null,
      "outputs": []
    },
    {
      "cell_type": "code",
      "metadata": {
        "id": "FnR7HMucmzjn",
        "colab_type": "code",
        "colab": {}
      },
      "source": [
        "r = m[:,1:3]\n",
        "r"
      ],
      "execution_count": null,
      "outputs": []
    },
    {
      "cell_type": "code",
      "metadata": {
        "id": "j9G-JlXdmzjo",
        "colab_type": "code",
        "colab": {}
      },
      "source": [
        "b = m[1::2,:]\n",
        "b"
      ],
      "execution_count": null,
      "outputs": []
    },
    {
      "cell_type": "code",
      "metadata": {
        "id": "8_S85u6hmzjp",
        "colab_type": "code",
        "colab": {}
      },
      "source": [
        "g = m[2:,2:]\n",
        "g"
      ],
      "execution_count": null,
      "outputs": []
    },
    {
      "cell_type": "markdown",
      "metadata": {
        "id": "XdSK7RhSmzjp",
        "colab_type": "text"
      },
      "source": [
        "Zadanie 17: Stwórz macierz 10x10, która w środku będzie miała zera, a elementy na krawędziach będą równe 1"
      ]
    },
    {
      "cell_type": "code",
      "metadata": {
        "id": "kLxLNRKdmzjq",
        "colab_type": "code",
        "colab": {}
      },
      "source": [
        "x = np.ones((10, 10))\n",
        "x[1:-1, 1:-1] = 0\n",
        "x"
      ],
      "execution_count": null,
      "outputs": []
    },
    {
      "cell_type": "markdown",
      "metadata": {
        "id": "pJ4wpZQ7mzjq",
        "colab_type": "text"
      },
      "source": [
        "## Stacking"
      ]
    },
    {
      "cell_type": "code",
      "metadata": {
        "id": "rlMZ0Cs0mzjq",
        "colab_type": "code",
        "colab": {},
        "outputId": "7d57f234-488f-499a-f5d6-1dca1891072f"
      },
      "source": [
        "a = np.random.choice(4, (2,3))\n",
        "a"
      ],
      "execution_count": null,
      "outputs": [
        {
          "output_type": "execute_result",
          "data": {
            "text/plain": [
              "array([[2, 3, 2],\n",
              "       [2, 3, 1]])"
            ]
          },
          "metadata": {
            "tags": []
          },
          "execution_count": 282
        }
      ]
    },
    {
      "cell_type": "code",
      "metadata": {
        "id": "_m1Org0Qmzju",
        "colab_type": "code",
        "colab": {},
        "outputId": "623e84bb-3276-4a84-94e5-59b809cbe63f"
      },
      "source": [
        "b = np.random.choice(20, (2,3))\n",
        "b"
      ],
      "execution_count": null,
      "outputs": [
        {
          "output_type": "execute_result",
          "data": {
            "text/plain": [
              "array([[ 2, 17, 13],\n",
              "       [ 0, 10,  3]])"
            ]
          },
          "metadata": {
            "tags": []
          },
          "execution_count": 283
        }
      ]
    },
    {
      "cell_type": "code",
      "metadata": {
        "id": "pk1O04Mymzjx",
        "colab_type": "code",
        "colab": {},
        "outputId": "90d22e23-1bdb-4281-fe12-3029d0227413"
      },
      "source": [
        "np.hstack((a, b))"
      ],
      "execution_count": null,
      "outputs": [
        {
          "output_type": "execute_result",
          "data": {
            "text/plain": [
              "array([[ 2,  3,  2,  2, 17, 13],\n",
              "       [ 2,  3,  1,  0, 10,  3]])"
            ]
          },
          "metadata": {
            "tags": []
          },
          "execution_count": 284
        }
      ]
    },
    {
      "cell_type": "code",
      "metadata": {
        "id": "FUTvYdH6mzjy",
        "colab_type": "code",
        "colab": {},
        "outputId": "879b7179-e9f4-47a1-c46c-18fc8dc09e1c"
      },
      "source": [
        "np.vstack((a, b))"
      ],
      "execution_count": null,
      "outputs": [
        {
          "output_type": "execute_result",
          "data": {
            "text/plain": [
              "array([[ 2,  3,  2],\n",
              "       [ 2,  3,  1],\n",
              "       [ 2, 17, 13],\n",
              "       [ 0, 10,  3]])"
            ]
          },
          "metadata": {
            "tags": []
          },
          "execution_count": 285
        }
      ]
    },
    {
      "cell_type": "code",
      "metadata": {
        "id": "g6E9UhEQmzj0",
        "colab_type": "code",
        "colab": {},
        "outputId": "f8d5400a-629f-44e8-e85e-8a29f2588d4a"
      },
      "source": [
        "np.concatenate((a, b), axis=0) #vstack"
      ],
      "execution_count": null,
      "outputs": [
        {
          "output_type": "execute_result",
          "data": {
            "text/plain": [
              "array([[ 2,  3,  2],\n",
              "       [ 2,  3,  1],\n",
              "       [ 2, 17, 13],\n",
              "       [ 0, 10,  3]])"
            ]
          },
          "metadata": {
            "tags": []
          },
          "execution_count": 286
        }
      ]
    },
    {
      "cell_type": "code",
      "metadata": {
        "id": "pQ3KxHVLmzj0",
        "colab_type": "code",
        "colab": {},
        "outputId": "22a6918d-f4e0-426a-f853-ba92f4d5f3ff"
      },
      "source": [
        "np.concatenate((a, b), axis=1) #hstack"
      ],
      "execution_count": null,
      "outputs": [
        {
          "output_type": "execute_result",
          "data": {
            "text/plain": [
              "array([[ 2,  3,  2,  2, 17, 13],\n",
              "       [ 2,  3,  1,  0, 10,  3]])"
            ]
          },
          "metadata": {
            "tags": []
          },
          "execution_count": 287
        }
      ]
    },
    {
      "cell_type": "code",
      "metadata": {
        "id": "qqTyfbBpmzj2",
        "colab_type": "code",
        "colab": {},
        "outputId": "87ab555e-c2c9-4df6-8761-24717427ffa6"
      },
      "source": [
        "np.column_stack((a, b)) #hstack"
      ],
      "execution_count": null,
      "outputs": [
        {
          "output_type": "execute_result",
          "data": {
            "text/plain": [
              "array([[ 2,  3,  2,  2, 17, 13],\n",
              "       [ 2,  3,  1,  0, 10,  3]])"
            ]
          },
          "metadata": {
            "tags": []
          },
          "execution_count": 288
        }
      ]
    },
    {
      "cell_type": "code",
      "metadata": {
        "id": "drnaR0dkmzj4",
        "colab_type": "code",
        "colab": {},
        "outputId": "f2aecddb-0c49-472f-8c14-95b6b200855d"
      },
      "source": [
        "np.row_stack((a, b)) #vstack"
      ],
      "execution_count": null,
      "outputs": [
        {
          "output_type": "execute_result",
          "data": {
            "text/plain": [
              "array([[ 2,  3,  2],\n",
              "       [ 2,  3,  1],\n",
              "       [ 2, 17, 13],\n",
              "       [ 0, 10,  3]])"
            ]
          },
          "metadata": {
            "tags": []
          },
          "execution_count": 289
        }
      ]
    },
    {
      "cell_type": "markdown",
      "metadata": {
        "id": "ZPEUJUJkmzj5",
        "colab_type": "text"
      },
      "source": [
        "Zadanie 18: Stwórz 3 macierze o rozmiarze (10,1) , które będą losowymi zbiorami wzrostu, wagi oraz losowym imieniem. następnie połącz je tak, aby każdy wiersz stanowił jedną obserwację, a kolumny - kolejne zmienne."
      ]
    },
    {
      "cell_type": "code",
      "metadata": {
        "id": "KOC1gEcamzj5",
        "colab_type": "code",
        "colab": {},
        "outputId": "80aabf40-daf7-48c5-c709-b60e38caf5d1"
      },
      "source": [
        "wzrost = np.random.randint(160,180, (10,1))\n",
        "waga = np.random.randint(60,80, (10,1))\n",
        "imiona = np.random.choice(['x', 'y', 'z'], (10,1))\n",
        "m = np.hstack((wzrost, waga, imiona))\n",
        "m"
      ],
      "execution_count": null,
      "outputs": [
        {
          "output_type": "execute_result",
          "data": {
            "text/plain": [
              "array([['178', '75', 'y'],\n",
              "       ['167', '67', 'x'],\n",
              "       ['162', '69', 'z'],\n",
              "       ['170', '68', 'x'],\n",
              "       ['178', '67', 'y'],\n",
              "       ['173', '68', 'z'],\n",
              "       ['179', '73', 'y'],\n",
              "       ['173', '74', 'z'],\n",
              "       ['163', '60', 'z'],\n",
              "       ['169', '68', 'z']], dtype='<U11')"
            ]
          },
          "metadata": {
            "tags": []
          },
          "execution_count": 379
        }
      ]
    },
    {
      "cell_type": "markdown",
      "metadata": {
        "id": "IsBfDKK5mzj6",
        "colab_type": "text"
      },
      "source": [
        "Zadanie 19: Stwórz poniższą macierz:\n",
        "\n",
        "[     [ 1,1,1,1,1,1,1,1,1,1],\n",
        "\n",
        "[5,5,5,5,5,5,5,5,5,5],\n",
        "\n",
        "  [10,10,10,10,10,10,10,10,10,10]]"
      ]
    },
    {
      "cell_type": "code",
      "metadata": {
        "id": "mxFlELk0mzj6",
        "colab_type": "code",
        "colab": {},
        "outputId": "7a111eeb-40ba-4c49-bec0-a835ea4a01b0"
      },
      "source": [
        "np.vstack((np.array([1]*10), np.array([5]*10), np.array([10]*10)))"
      ],
      "execution_count": null,
      "outputs": [
        {
          "output_type": "execute_result",
          "data": {
            "text/plain": [
              "array([[ 1,  1,  1,  1,  1,  1,  1,  1,  1,  1],\n",
              "       [ 5,  5,  5,  5,  5,  5,  5,  5,  5,  5],\n",
              "       [10, 10, 10, 10, 10, 10, 10, 10, 10, 10]])"
            ]
          },
          "metadata": {
            "tags": []
          },
          "execution_count": 366
        }
      ]
    },
    {
      "cell_type": "markdown",
      "metadata": {
        "id": "3MNWrOEGmzj8",
        "colab_type": "text"
      },
      "source": [
        "## Broadcasting"
      ]
    },
    {
      "cell_type": "code",
      "metadata": {
        "id": "ydsxvhsamzj8",
        "colab_type": "code",
        "colab": {},
        "outputId": "e31e0f01-d421-45b9-8918-cb9108468d1b"
      },
      "source": [
        "x = np.array([[1,2,3], [4,5,6], [7,8,9], [10, 11, 12]])\n",
        "v = np.array([1, 0, 1])\n",
        "print(x)\n",
        "v"
      ],
      "execution_count": null,
      "outputs": [
        {
          "output_type": "stream",
          "text": [
            "[[ 1  2  3]\n",
            " [ 4  5  6]\n",
            " [ 7  8  9]\n",
            " [10 11 12]]\n"
          ],
          "name": "stdout"
        },
        {
          "output_type": "execute_result",
          "data": {
            "text/plain": [
              "array([1, 0, 1])"
            ]
          },
          "metadata": {
            "tags": []
          },
          "execution_count": 290
        }
      ]
    },
    {
      "cell_type": "code",
      "metadata": {
        "id": "LmKVKIzymzj9",
        "colab_type": "code",
        "colab": {},
        "outputId": "48c56086-6d05-4e86-d003-28d430d359c0"
      },
      "source": [
        "x+v"
      ],
      "execution_count": null,
      "outputs": [
        {
          "output_type": "execute_result",
          "data": {
            "text/plain": [
              "array([[ 2,  2,  4],\n",
              "       [ 5,  5,  7],\n",
              "       [ 8,  8, 10],\n",
              "       [11, 11, 13]])"
            ]
          },
          "metadata": {
            "tags": []
          },
          "execution_count": 291
        }
      ]
    },
    {
      "cell_type": "code",
      "metadata": {
        "id": "4CjwL8GVmzj-",
        "colab_type": "code",
        "colab": {},
        "outputId": "4ca20ef9-dd51-4bf9-896b-4871a7762a77"
      },
      "source": [
        "a = np.arange(3)\n",
        "b = np.arange(3).reshape(3,1)\n",
        "\n",
        "print(a)\n",
        "print(b)"
      ],
      "execution_count": null,
      "outputs": [
        {
          "output_type": "stream",
          "text": [
            "[0 1 2]\n",
            "[[0]\n",
            " [1]\n",
            " [2]]\n"
          ],
          "name": "stdout"
        }
      ]
    },
    {
      "cell_type": "code",
      "metadata": {
        "id": "3Hb2e7c-mzj-",
        "colab_type": "code",
        "colab": {},
        "outputId": "455d665a-b563-4534-b0bb-7e76df002719"
      },
      "source": [
        "a+b"
      ],
      "execution_count": null,
      "outputs": [
        {
          "output_type": "execute_result",
          "data": {
            "text/plain": [
              "array([[0, 1, 2],\n",
              "       [1, 2, 3],\n",
              "       [2, 3, 4]])"
            ]
          },
          "metadata": {
            "tags": []
          },
          "execution_count": 294
        }
      ]
    },
    {
      "cell_type": "markdown",
      "metadata": {
        "id": "lVGv9Vv_mzkA",
        "colab_type": "text"
      },
      "source": [
        "<img src='images/broadcasting.bmp' width = '600'>"
      ]
    },
    {
      "cell_type": "code",
      "metadata": {
        "id": "jxcaKkkhmzkA",
        "colab_type": "code",
        "colab": {},
        "outputId": "c64264a5-4c91-4997-a62e-69f62b4ebc14"
      },
      "source": [
        "arr = np.arange(4)\n",
        "print(arr)\n",
        "arr.shape"
      ],
      "execution_count": null,
      "outputs": [
        {
          "output_type": "stream",
          "text": [
            "[0 1 2 3]\n"
          ],
          "name": "stdout"
        },
        {
          "output_type": "execute_result",
          "data": {
            "text/plain": [
              "(4,)"
            ]
          },
          "metadata": {
            "tags": []
          },
          "execution_count": 295
        }
      ]
    },
    {
      "cell_type": "code",
      "metadata": {
        "id": "gTzm5kHPmzkA",
        "colab_type": "code",
        "colab": {},
        "outputId": "5bf96cab-ba6e-4676-a322-71685aba36f9"
      },
      "source": [
        "arr.ndim"
      ],
      "execution_count": null,
      "outputs": [
        {
          "output_type": "execute_result",
          "data": {
            "text/plain": [
              "1"
            ]
          },
          "metadata": {
            "tags": []
          },
          "execution_count": 296
        }
      ]
    },
    {
      "cell_type": "code",
      "metadata": {
        "id": "yYYaD4rLmzkB",
        "colab_type": "code",
        "colab": {},
        "outputId": "e108aca3-d4ba-4a99-f615-25674e16c144"
      },
      "source": [
        "row_vec = arr[np.newaxis, :]\n",
        "print(row_vec)\n",
        "row_vec.shape"
      ],
      "execution_count": null,
      "outputs": [
        {
          "output_type": "stream",
          "text": [
            "[[0 1 2 3]]\n"
          ],
          "name": "stdout"
        },
        {
          "output_type": "execute_result",
          "data": {
            "text/plain": [
              "(1, 4)"
            ]
          },
          "metadata": {
            "tags": []
          },
          "execution_count": 297
        }
      ]
    },
    {
      "cell_type": "code",
      "metadata": {
        "id": "R-V07mujmzkC",
        "colab_type": "code",
        "colab": {},
        "outputId": "c37b1b29-e81e-4242-baec-09531ce3ed3d"
      },
      "source": [
        "row_vec.ndim"
      ],
      "execution_count": null,
      "outputs": [
        {
          "output_type": "execute_result",
          "data": {
            "text/plain": [
              "2"
            ]
          },
          "metadata": {
            "tags": []
          },
          "execution_count": 299
        }
      ]
    },
    {
      "cell_type": "code",
      "metadata": {
        "id": "8mBrvGqimzkC",
        "colab_type": "code",
        "colab": {},
        "outputId": "6baca7ea-6fff-430c-92af-6eb19b83e97d"
      },
      "source": [
        "col_vec = arr[:, np.newaxis]\n",
        "print(col_vec)\n",
        "col_vec.shape"
      ],
      "execution_count": null,
      "outputs": [
        {
          "output_type": "stream",
          "text": [
            "[[0]\n",
            " [1]\n",
            " [2]\n",
            " [3]]\n"
          ],
          "name": "stdout"
        },
        {
          "output_type": "execute_result",
          "data": {
            "text/plain": [
              "(4, 1)"
            ]
          },
          "metadata": {
            "tags": []
          },
          "execution_count": 300
        }
      ]
    },
    {
      "cell_type": "code",
      "metadata": {
        "id": "kO6An22VmzkD",
        "colab_type": "code",
        "colab": {},
        "outputId": "ab515cbd-8857-4e89-ad84-e509b06f34d0"
      },
      "source": [
        "x1 = np.array([1, 2, 3, 4, 5])\n",
        "x2 = np.array([5, 4, 3])\n",
        "x1+x2"
      ],
      "execution_count": null,
      "outputs": [
        {
          "output_type": "error",
          "ename": "ValueError",
          "evalue": "operands could not be broadcast together with shapes (5,) (3,) ",
          "traceback": [
            "\u001b[1;31m---------------------------------------------------------------------------\u001b[0m",
            "\u001b[1;31mValueError\u001b[0m                                Traceback (most recent call last)",
            "\u001b[1;32m<ipython-input-301-916b8842afd1>\u001b[0m in \u001b[0;36m<module>\u001b[1;34m\u001b[0m\n\u001b[0;32m      1\u001b[0m \u001b[0mx1\u001b[0m \u001b[1;33m=\u001b[0m \u001b[0mnp\u001b[0m\u001b[1;33m.\u001b[0m\u001b[0marray\u001b[0m\u001b[1;33m(\u001b[0m\u001b[1;33m[\u001b[0m\u001b[1;36m1\u001b[0m\u001b[1;33m,\u001b[0m \u001b[1;36m2\u001b[0m\u001b[1;33m,\u001b[0m \u001b[1;36m3\u001b[0m\u001b[1;33m,\u001b[0m \u001b[1;36m4\u001b[0m\u001b[1;33m,\u001b[0m \u001b[1;36m5\u001b[0m\u001b[1;33m]\u001b[0m\u001b[1;33m)\u001b[0m\u001b[1;33m\u001b[0m\u001b[1;33m\u001b[0m\u001b[0m\n\u001b[0;32m      2\u001b[0m \u001b[0mx2\u001b[0m \u001b[1;33m=\u001b[0m \u001b[0mnp\u001b[0m\u001b[1;33m.\u001b[0m\u001b[0marray\u001b[0m\u001b[1;33m(\u001b[0m\u001b[1;33m[\u001b[0m\u001b[1;36m5\u001b[0m\u001b[1;33m,\u001b[0m \u001b[1;36m4\u001b[0m\u001b[1;33m,\u001b[0m \u001b[1;36m3\u001b[0m\u001b[1;33m]\u001b[0m\u001b[1;33m)\u001b[0m\u001b[1;33m\u001b[0m\u001b[1;33m\u001b[0m\u001b[0m\n\u001b[1;32m----> 3\u001b[1;33m \u001b[0mx1\u001b[0m\u001b[1;33m+\u001b[0m\u001b[0mx2\u001b[0m\u001b[1;33m\u001b[0m\u001b[1;33m\u001b[0m\u001b[0m\n\u001b[0m",
            "\u001b[1;31mValueError\u001b[0m: operands could not be broadcast together with shapes (5,) (3,) "
          ]
        }
      ]
    },
    {
      "cell_type": "code",
      "metadata": {
        "id": "YCLoFSTXmzkF",
        "colab_type": "code",
        "colab": {},
        "outputId": "ef999751-6612-491b-c2f9-d996073f654a"
      },
      "source": [
        "x1_new = x1[:, np.newaxis]\n",
        "x1_new.shape, x2.shape"
      ],
      "execution_count": null,
      "outputs": [
        {
          "output_type": "execute_result",
          "data": {
            "text/plain": [
              "((5, 1), (3,))"
            ]
          },
          "metadata": {
            "tags": []
          },
          "execution_count": 302
        }
      ]
    },
    {
      "cell_type": "code",
      "metadata": {
        "id": "rsl8rm_YmzkG",
        "colab_type": "code",
        "colab": {},
        "outputId": "037dc43b-ca13-48c8-be1c-4586b4466bdb"
      },
      "source": [
        "x1"
      ],
      "execution_count": null,
      "outputs": [
        {
          "output_type": "execute_result",
          "data": {
            "text/plain": [
              "array([1, 2, 3, 4, 5])"
            ]
          },
          "metadata": {
            "tags": []
          },
          "execution_count": 303
        }
      ]
    },
    {
      "cell_type": "code",
      "metadata": {
        "id": "bNKaLygQmzkG",
        "colab_type": "code",
        "colab": {},
        "outputId": "6988f95a-642b-4e2c-de47-312bd2b2ac4d"
      },
      "source": [
        "x2"
      ],
      "execution_count": null,
      "outputs": [
        {
          "output_type": "execute_result",
          "data": {
            "text/plain": [
              "array([5, 4, 3])"
            ]
          },
          "metadata": {
            "tags": []
          },
          "execution_count": 304
        }
      ]
    },
    {
      "cell_type": "code",
      "metadata": {
        "id": "GWu3wfCOmzkH",
        "colab_type": "code",
        "colab": {},
        "outputId": "a2ff3265-30c5-4cd8-c50e-bd9a980165ed"
      },
      "source": [
        "tupla = (1,2,3)\n",
        "tupla[1]"
      ],
      "execution_count": null,
      "outputs": [
        {
          "output_type": "execute_result",
          "data": {
            "text/plain": [
              "2"
            ]
          },
          "metadata": {
            "tags": []
          },
          "execution_count": 365
        }
      ]
    },
    {
      "cell_type": "code",
      "metadata": {
        "id": "rVl2JWimmzkI",
        "colab_type": "code",
        "colab": {},
        "outputId": "d40184c0-340e-4031-f596-564973406c71"
      },
      "source": [
        "x1_new + x2"
      ],
      "execution_count": null,
      "outputs": [
        {
          "output_type": "execute_result",
          "data": {
            "text/plain": [
              "array([[ 6,  5,  4],\n",
              "       [ 7,  6,  5],\n",
              "       [ 8,  7,  6],\n",
              "       [ 9,  8,  7],\n",
              "       [10,  9,  8]])"
            ]
          },
          "metadata": {
            "tags": []
          },
          "execution_count": 305
        }
      ]
    },
    {
      "cell_type": "markdown",
      "metadata": {
        "id": "28Qb6eFamzkI",
        "colab_type": "text"
      },
      "source": [
        "Zadanie 20: Stwórz macierz 6x3 złożoną z dowolnych elementów typu int oraz drugą 3x1, a następnie dodaj elementy drugiej macierzy do każdego wiersza w pierwszej macierzy"
      ]
    },
    {
      "cell_type": "code",
      "metadata": {
        "id": "21OJwW4tmzkI",
        "colab_type": "code",
        "colab": {},
        "outputId": "efdcd5fc-06ed-4f79-ef2f-e58e6059374a"
      },
      "source": [
        "X = np.random.randint(1,10, (6,3))\n",
        "X"
      ],
      "execution_count": null,
      "outputs": [
        {
          "output_type": "execute_result",
          "data": {
            "text/plain": [
              "array([[9, 9, 7],\n",
              "       [6, 9, 9],\n",
              "       [9, 1, 7],\n",
              "       [2, 3, 9],\n",
              "       [4, 9, 7],\n",
              "       [8, 6, 2]])"
            ]
          },
          "metadata": {
            "tags": []
          },
          "execution_count": 367
        }
      ]
    },
    {
      "cell_type": "code",
      "metadata": {
        "id": "tgBb0VX7mzkJ",
        "colab_type": "code",
        "colab": {},
        "outputId": "d2bd7c79-8987-413a-ca53-ff5f1857d14e"
      },
      "source": [
        "y = np.random.randint(1,10, (3,1)).reshape(1,3)\n",
        "y"
      ],
      "execution_count": null,
      "outputs": [
        {
          "output_type": "execute_result",
          "data": {
            "text/plain": [
              "array([[7, 7, 8]])"
            ]
          },
          "metadata": {
            "tags": []
          },
          "execution_count": 368
        }
      ]
    },
    {
      "cell_type": "code",
      "metadata": {
        "id": "sxE3W5-emzkK",
        "colab_type": "code",
        "colab": {},
        "outputId": "083be3c6-45a6-43e5-a138-9aa5c47d2546"
      },
      "source": [
        "X+y"
      ],
      "execution_count": null,
      "outputs": [
        {
          "output_type": "execute_result",
          "data": {
            "text/plain": [
              "array([[16, 16, 15],\n",
              "       [13, 16, 17],\n",
              "       [16,  8, 15],\n",
              "       [ 9, 10, 17],\n",
              "       [11, 16, 15],\n",
              "       [15, 13, 10]])"
            ]
          },
          "metadata": {
            "tags": []
          },
          "execution_count": 369
        }
      ]
    },
    {
      "cell_type": "markdown",
      "metadata": {
        "id": "tSLCPJppmzkN",
        "colab_type": "text"
      },
      "source": [
        "## Kopiowanie"
      ]
    },
    {
      "cell_type": "code",
      "metadata": {
        "id": "axrp3-Q1mzkN",
        "colab_type": "code",
        "colab": {}
      },
      "source": [
        "x = np.array([[1,2,3], [4,5,6], [7,8,9], [10, 11, 12]])\n",
        "y = x.view()"
      ],
      "execution_count": null,
      "outputs": []
    },
    {
      "cell_type": "code",
      "metadata": {
        "id": "ObdW_J2fmzkP",
        "colab_type": "code",
        "colab": {}
      },
      "source": [
        "y= x"
      ],
      "execution_count": null,
      "outputs": []
    },
    {
      "cell_type": "code",
      "metadata": {
        "id": "s6OjUeBDmzkP",
        "colab_type": "code",
        "colab": {}
      },
      "source": [
        "y[2]=0"
      ],
      "execution_count": null,
      "outputs": []
    },
    {
      "cell_type": "code",
      "metadata": {
        "id": "moOjwdkHmzkQ",
        "colab_type": "code",
        "colab": {},
        "outputId": "037594a2-df8e-4572-958c-916f4f0765d8"
      },
      "source": [
        "x"
      ],
      "execution_count": null,
      "outputs": [
        {
          "output_type": "execute_result",
          "data": {
            "text/plain": [
              "array([[123,   2,   3],\n",
              "       [  4,   5,   6],\n",
              "       [  0,   0,   0],\n",
              "       [ 10,  11,  12]])"
            ]
          },
          "metadata": {
            "tags": []
          },
          "execution_count": 316
        }
      ]
    },
    {
      "cell_type": "code",
      "metadata": {
        "id": "4efxBpSYmzkR",
        "colab_type": "code",
        "colab": {},
        "outputId": "147d0bb9-a58f-4970-d246-c478dec2d394"
      },
      "source": [
        "x is y"
      ],
      "execution_count": null,
      "outputs": [
        {
          "output_type": "execute_result",
          "data": {
            "text/plain": [
              "False"
            ]
          },
          "metadata": {
            "tags": []
          },
          "execution_count": 307
        }
      ]
    },
    {
      "cell_type": "code",
      "metadata": {
        "id": "rywrPICpmzkS",
        "colab_type": "code",
        "colab": {},
        "outputId": "73708042-732d-4dbe-b666-e53bb7a47bf5"
      },
      "source": [
        "y.shape"
      ],
      "execution_count": null,
      "outputs": [
        {
          "output_type": "execute_result",
          "data": {
            "text/plain": [
              "(4, 3)"
            ]
          },
          "metadata": {
            "tags": []
          },
          "execution_count": 308
        }
      ]
    },
    {
      "cell_type": "code",
      "metadata": {
        "id": "DQ3KbzsgmzkT",
        "colab_type": "code",
        "colab": {},
        "outputId": "9acd35ca-3857-41d9-a6d2-1742799ab493"
      },
      "source": [
        "y.shape = 2,6\n",
        "y"
      ],
      "execution_count": null,
      "outputs": [
        {
          "output_type": "execute_result",
          "data": {
            "text/plain": [
              "array([[ 1,  2,  3,  4,  5,  6],\n",
              "       [ 7,  8,  9, 10, 11, 12]])"
            ]
          },
          "metadata": {
            "tags": []
          },
          "execution_count": 309
        }
      ]
    },
    {
      "cell_type": "code",
      "metadata": {
        "id": "8O3VqoEKmzkU",
        "colab_type": "code",
        "colab": {},
        "outputId": "ff2a4741-70bd-47c9-df46-b45d99c7effe"
      },
      "source": [
        "x"
      ],
      "execution_count": null,
      "outputs": [
        {
          "output_type": "execute_result",
          "data": {
            "text/plain": [
              "array([[ 1,  2,  3],\n",
              "       [ 4,  5,  6],\n",
              "       [ 7,  8,  9],\n",
              "       [10, 11, 12]])"
            ]
          },
          "metadata": {
            "tags": []
          },
          "execution_count": 310
        }
      ]
    },
    {
      "cell_type": "code",
      "metadata": {
        "id": "RSHJNvDemzkU",
        "colab_type": "code",
        "colab": {},
        "outputId": "56917080-2744-4c20-c045-c588b49f6fd3"
      },
      "source": [
        "y[0,0] = 123\n",
        "y"
      ],
      "execution_count": null,
      "outputs": [
        {
          "output_type": "execute_result",
          "data": {
            "text/plain": [
              "array([[123,   2,   3,   4,   5,   6],\n",
              "       [  7,   8,   9,  10,  11,  12]])"
            ]
          },
          "metadata": {
            "tags": []
          },
          "execution_count": 311
        }
      ]
    },
    {
      "cell_type": "code",
      "metadata": {
        "id": "EQGH2TC2mzkV",
        "colab_type": "code",
        "colab": {},
        "outputId": "3fed65ec-829b-47c0-da49-4ada6e1caccb"
      },
      "source": [
        "x"
      ],
      "execution_count": null,
      "outputs": [
        {
          "output_type": "execute_result",
          "data": {
            "text/plain": [
              "array([[123,   2,   3],\n",
              "       [  4,   5,   6],\n",
              "       [  7,   8,   9],\n",
              "       [ 10,  11,  12]])"
            ]
          },
          "metadata": {
            "tags": []
          },
          "execution_count": 312
        }
      ]
    },
    {
      "cell_type": "code",
      "metadata": {
        "id": "7dwPiSV_mzkW",
        "colab_type": "code",
        "colab": {},
        "outputId": "97712156-71c4-4813-809e-373b64ea8b1c"
      },
      "source": [
        "z = x[ : , 1:3]\n",
        "z"
      ],
      "execution_count": null,
      "outputs": [
        {
          "output_type": "execute_result",
          "data": {
            "text/plain": [
              "array([[ 2,  3],\n",
              "       [ 5,  6],\n",
              "       [ 0,  0],\n",
              "       [11, 12]])"
            ]
          },
          "metadata": {
            "tags": []
          },
          "execution_count": 317
        }
      ]
    },
    {
      "cell_type": "code",
      "metadata": {
        "id": "tCmL5FFUmzkX",
        "colab_type": "code",
        "colab": {},
        "outputId": "827a1b90-f9b9-44e0-a25d-287f64ebc23a"
      },
      "source": [
        "z[:,1] = 0\n",
        "z"
      ],
      "execution_count": null,
      "outputs": [
        {
          "output_type": "execute_result",
          "data": {
            "text/plain": [
              "array([[ 2,  0],\n",
              "       [ 5,  0],\n",
              "       [ 0,  0],\n",
              "       [11,  0]])"
            ]
          },
          "metadata": {
            "tags": []
          },
          "execution_count": 318
        }
      ]
    },
    {
      "cell_type": "code",
      "metadata": {
        "id": "iDp4FRb8mzkX",
        "colab_type": "code",
        "colab": {},
        "outputId": "98868685-c9ec-4845-f561-7b910301f2f2"
      },
      "source": [
        "x"
      ],
      "execution_count": null,
      "outputs": [
        {
          "output_type": "execute_result",
          "data": {
            "text/plain": [
              "array([[123,   2,   0],\n",
              "       [  4,   5,   0],\n",
              "       [  0,   0,   0],\n",
              "       [ 10,  11,   0]])"
            ]
          },
          "metadata": {
            "tags": []
          },
          "execution_count": 319
        }
      ]
    },
    {
      "cell_type": "code",
      "metadata": {
        "id": "E7K_BhJymzkY",
        "colab_type": "code",
        "colab": {}
      },
      "source": [
        "x = np.array([[1,2,3], [4,5,6], [7,8,9], [10, 11, 12]])\n",
        "y = x.copy()"
      ],
      "execution_count": null,
      "outputs": []
    },
    {
      "cell_type": "code",
      "metadata": {
        "id": "e6pvzJZkmzkY",
        "colab_type": "code",
        "colab": {},
        "outputId": "dfdf336f-dd58-4ee1-faed-526853596df3"
      },
      "source": [
        "x is y"
      ],
      "execution_count": null,
      "outputs": [
        {
          "output_type": "execute_result",
          "data": {
            "text/plain": [
              "False"
            ]
          },
          "metadata": {
            "tags": []
          },
          "execution_count": 321
        }
      ]
    },
    {
      "cell_type": "code",
      "metadata": {
        "id": "xATakvo1mzkZ",
        "colab_type": "code",
        "colab": {},
        "outputId": "6facdda5-11f3-4313-98c4-75694ef1af77"
      },
      "source": [
        "y[0,0] = 9999\n",
        "y"
      ],
      "execution_count": null,
      "outputs": [
        {
          "output_type": "execute_result",
          "data": {
            "text/plain": [
              "array([[9999,    2,    3],\n",
              "       [   4,    5,    6],\n",
              "       [   7,    8,    9],\n",
              "       [  10,   11,   12]])"
            ]
          },
          "metadata": {
            "tags": []
          },
          "execution_count": 322
        }
      ]
    },
    {
      "cell_type": "code",
      "metadata": {
        "id": "rT8Vtb3Umzka",
        "colab_type": "code",
        "colab": {},
        "outputId": "6f5f15b3-127b-4fb4-dbd5-48581d6259e8"
      },
      "source": [
        "x"
      ],
      "execution_count": null,
      "outputs": [
        {
          "output_type": "execute_result",
          "data": {
            "text/plain": [
              "array([[ 1,  2,  3],\n",
              "       [ 4,  5,  6],\n",
              "       [ 7,  8,  9],\n",
              "       [10, 11, 12]])"
            ]
          },
          "metadata": {
            "tags": []
          },
          "execution_count": 323
        }
      ]
    },
    {
      "cell_type": "code",
      "metadata": {
        "id": "YuTXS_KXmzka",
        "colab_type": "code",
        "colab": {},
        "outputId": "ff5706d5-ee41-46b6-b053-2f1485a55292"
      },
      "source": [
        "a = np.arange(1000000)\n",
        "a.size"
      ],
      "execution_count": null,
      "outputs": [
        {
          "output_type": "execute_result",
          "data": {
            "text/plain": [
              "1000000"
            ]
          },
          "metadata": {
            "tags": []
          },
          "execution_count": 324
        }
      ]
    },
    {
      "cell_type": "code",
      "metadata": {
        "id": "koQCH-PMmzkb",
        "colab_type": "code",
        "colab": {},
        "outputId": "b17d19e3-1ca3-48f2-8cc6-841c5163f5ac"
      },
      "source": [
        "b = a[:100].copy()\n",
        "b"
      ],
      "execution_count": null,
      "outputs": [
        {
          "output_type": "execute_result",
          "data": {
            "text/plain": [
              "array([ 0,  1,  2,  3,  4,  5,  6,  7,  8,  9, 10, 11, 12, 13, 14, 15, 16,\n",
              "       17, 18, 19, 20, 21, 22, 23, 24, 25, 26, 27, 28, 29, 30, 31, 32, 33,\n",
              "       34, 35, 36, 37, 38, 39, 40, 41, 42, 43, 44, 45, 46, 47, 48, 49, 50,\n",
              "       51, 52, 53, 54, 55, 56, 57, 58, 59, 60, 61, 62, 63, 64, 65, 66, 67,\n",
              "       68, 69, 70, 71, 72, 73, 74, 75, 76, 77, 78, 79, 80, 81, 82, 83, 84,\n",
              "       85, 86, 87, 88, 89, 90, 91, 92, 93, 94, 95, 96, 97, 98, 99])"
            ]
          },
          "metadata": {
            "tags": []
          },
          "execution_count": 325
        }
      ]
    },
    {
      "cell_type": "code",
      "metadata": {
        "id": "MxCiWfgamzkb",
        "colab_type": "code",
        "colab": {},
        "outputId": "fc6c441e-8eeb-4530-8ee0-c7552d1147da"
      },
      "source": [
        "del a\n",
        "a"
      ],
      "execution_count": null,
      "outputs": [
        {
          "output_type": "error",
          "ename": "NameError",
          "evalue": "name 'a' is not defined",
          "traceback": [
            "\u001b[1;31m---------------------------------------------------------------------------\u001b[0m",
            "\u001b[1;31mNameError\u001b[0m                                 Traceback (most recent call last)",
            "\u001b[1;32m<ipython-input-326-88f0dc819981>\u001b[0m in \u001b[0;36m<module>\u001b[1;34m\u001b[0m\n\u001b[0;32m      1\u001b[0m \u001b[1;32mdel\u001b[0m \u001b[0ma\u001b[0m\u001b[1;33m\u001b[0m\u001b[1;33m\u001b[0m\u001b[0m\n\u001b[1;32m----> 2\u001b[1;33m \u001b[0ma\u001b[0m\u001b[1;33m\u001b[0m\u001b[1;33m\u001b[0m\u001b[0m\n\u001b[0m",
            "\u001b[1;31mNameError\u001b[0m: name 'a' is not defined"
          ]
        }
      ]
    },
    {
      "cell_type": "code",
      "metadata": {
        "id": "hT0sJ72Amzkc",
        "colab_type": "code",
        "colab": {},
        "outputId": "23958d14-a667-400e-c748-a2b3b0ad3d65"
      },
      "source": [
        "b"
      ],
      "execution_count": null,
      "outputs": [
        {
          "output_type": "execute_result",
          "data": {
            "text/plain": [
              "array([ 0,  1,  2,  3,  4,  5,  6,  7,  8,  9, 10, 11, 12, 13, 14, 15, 16,\n",
              "       17, 18, 19, 20, 21, 22, 23, 24, 25, 26, 27, 28, 29, 30, 31, 32, 33,\n",
              "       34, 35, 36, 37, 38, 39, 40, 41, 42, 43, 44, 45, 46, 47, 48, 49, 50,\n",
              "       51, 52, 53, 54, 55, 56, 57, 58, 59, 60, 61, 62, 63, 64, 65, 66, 67,\n",
              "       68, 69, 70, 71, 72, 73, 74, 75, 76, 77, 78, 79, 80, 81, 82, 83, 84,\n",
              "       85, 86, 87, 88, 89, 90, 91, 92, 93, 94, 95, 96, 97, 98, 99])"
            ]
          },
          "metadata": {
            "tags": []
          },
          "execution_count": 327
        }
      ]
    },
    {
      "cell_type": "markdown",
      "metadata": {
        "id": "W4T1bjXNmzkd",
        "colab_type": "text"
      },
      "source": [
        "## Tworzenie losowych zbiorów"
      ]
    },
    {
      "cell_type": "code",
      "metadata": {
        "id": "rVruXkJHmzkd",
        "colab_type": "code",
        "colab": {},
        "outputId": "ed7f16c0-fb33-4063-8494-91f6c6f51c10"
      },
      "source": [
        "array = np.arange(20)\n",
        "array"
      ],
      "execution_count": null,
      "outputs": [
        {
          "output_type": "execute_result",
          "data": {
            "text/plain": [
              "array([ 0,  1,  2,  3,  4,  5,  6,  7,  8,  9, 10, 11, 12, 13, 14, 15, 16,\n",
              "       17, 18, 19])"
            ]
          },
          "metadata": {
            "tags": []
          },
          "execution_count": 328
        }
      ]
    },
    {
      "cell_type": "code",
      "metadata": {
        "id": "2x4Jx1Kdmzke",
        "colab_type": "code",
        "colab": {},
        "outputId": "1cc288a8-fa7f-4526-cb4e-65bea2ad36ef"
      },
      "source": [
        "bins = np.array([0.0, 1.0, 2.5, 4.0, 10.0])\n",
        "digitized = np.digitize(array, bins)\n",
        "for a,d in zip(array, digitized):\n",
        "    print(a,d)"
      ],
      "execution_count": null,
      "outputs": [
        {
          "output_type": "stream",
          "text": [
            "0 1\n",
            "1 2\n",
            "2 2\n",
            "3 3\n",
            "4 4\n",
            "5 4\n",
            "6 4\n",
            "7 4\n",
            "8 4\n",
            "9 4\n",
            "10 5\n",
            "11 5\n",
            "12 5\n",
            "13 5\n",
            "14 5\n",
            "15 5\n",
            "16 5\n",
            "17 5\n",
            "18 5\n",
            "19 5\n"
          ],
          "name": "stdout"
        }
      ]
    },
    {
      "cell_type": "code",
      "metadata": {
        "id": "sKyzQ5Msmzkf",
        "colab_type": "code",
        "colab": {},
        "outputId": "53033032-d9f2-4c51-99b5-a694f67f4734"
      },
      "source": [
        "X = np.random.normal(0, 50, 100)\n",
        "Y = np.random.normal(0, 50, 100)\n",
        "X = np.column_stack((X, Y))\n",
        "X[:10]"
      ],
      "execution_count": null,
      "outputs": [
        {
          "output_type": "execute_result",
          "data": {
            "text/plain": [
              "array([[-89.9286512 ,  17.21353252],\n",
              "       [-34.260367  , -68.60793361],\n",
              "       [-70.49344339,  48.97305005],\n",
              "       [ 62.61992975, -64.83599021],\n",
              "       [ 23.47813813, -27.53233823],\n",
              "       [ 16.34608237,  56.17409237],\n",
              "       [ 90.42716032, -24.70595169],\n",
              "       [-70.65339987,  66.03344689],\n",
              "       [126.16525425, -15.6939905 ],\n",
              "       [ 17.36589005,  49.32457438]])"
            ]
          },
          "metadata": {
            "tags": []
          },
          "execution_count": 363
        }
      ]
    },
    {
      "cell_type": "code",
      "metadata": {
        "id": "M3lmcEbCmzkf",
        "colab_type": "code",
        "colab": {},
        "outputId": "3c524919-2c27-4b79-8534-bf4e95902aa7"
      },
      "source": [
        "np.random.seed(10)\n",
        "indices = np.random.choice(X.shape[0], 20, replace=False)\n",
        "indices"
      ],
      "execution_count": null,
      "outputs": [
        {
          "output_type": "execute_result",
          "data": {
            "text/plain": [
              "array([19, 14, 43, 37, 66,  3, 79, 41, 38, 68,  2,  1, 60, 53, 95, 74, 92,\n",
              "       26, 59, 46])"
            ]
          },
          "metadata": {
            "tags": []
          },
          "execution_count": 360
        }
      ]
    },
    {
      "cell_type": "code",
      "metadata": {
        "id": "nQk4YCOYmzkg",
        "colab_type": "code",
        "colab": {},
        "outputId": "a3fefdd7-839d-42e4-cf25-03db852e85e9"
      },
      "source": [
        "selection = X[indices]\n",
        "selection"
      ],
      "execution_count": null,
      "outputs": [
        {
          "output_type": "error",
          "ename": "IndexError",
          "evalue": "index 19 is out of bounds for axis 0 with size 6",
          "traceback": [
            "\u001b[1;31m---------------------------------------------------------------------------\u001b[0m",
            "\u001b[1;31mIndexError\u001b[0m                                Traceback (most recent call last)",
            "\u001b[1;32m<ipython-input-370-10f56ef51b45>\u001b[0m in \u001b[0;36m<module>\u001b[1;34m\u001b[0m\n\u001b[1;32m----> 1\u001b[1;33m \u001b[0mselection\u001b[0m \u001b[1;33m=\u001b[0m \u001b[0mX\u001b[0m\u001b[1;33m[\u001b[0m\u001b[0mindices\u001b[0m\u001b[1;33m]\u001b[0m\u001b[1;33m\u001b[0m\u001b[1;33m\u001b[0m\u001b[0m\n\u001b[0m\u001b[0;32m      2\u001b[0m \u001b[0mselection\u001b[0m\u001b[1;33m\u001b[0m\u001b[1;33m\u001b[0m\u001b[0m\n",
            "\u001b[1;31mIndexError\u001b[0m: index 19 is out of bounds for axis 0 with size 6"
          ]
        }
      ]
    },
    {
      "cell_type": "code",
      "metadata": {
        "id": "3EtRlKTNmzkg",
        "colab_type": "code",
        "colab": {},
        "outputId": "b3bd11d7-175a-4497-b826-692ac15245e3"
      },
      "source": [
        "%matplotlib inline\n",
        "import matplotlib.pyplot as plt\n",
        "plt.scatter(X[:, 0], X[:, 1], alpha=0.3)\n",
        "plt.scatter(selection[:, 0], selection[:, 1],\n",
        "            facecolor='none',edgecolors='g', s=200)"
      ],
      "execution_count": null,
      "outputs": [
        {
          "output_type": "execute_result",
          "data": {
            "text/plain": [
              "<matplotlib.collections.PathCollection at 0x174fcef79b0>"
            ]
          },
          "metadata": {
            "tags": []
          },
          "execution_count": 362
        },
        {
          "output_type": "display_data",
          "data": {
            "image/png": "[encoded data removed]",
            "text/plain": [
              "<Figure size 432x288 with 1 Axes>"
            ]
          },
          "metadata": {
            "tags": [],
            "needs_background": "light"
          }
        }
      ]
    },
    {
      "cell_type": "code",
      "metadata": {
        "id": "ibCxCcRcmzkh",
        "colab_type": "code",
        "colab": {}
      },
      "source": [
        "%matplotlib inline\n",
        "import matplotlib.pyplot as plt"
      ],
      "execution_count": null,
      "outputs": []
    },
    {
      "cell_type": "code",
      "metadata": {
        "id": "8SBJJGPumzkh",
        "colab_type": "code",
        "colab": {},
        "outputId": "4928049b-33e8-4ff2-ea9c-41656bd1e617"
      },
      "source": [
        "x = np.geomspace(1, 625, num=20)\n",
        "y = np.geomspace(1, 20, num=20)\n",
        "x,y"
      ],
      "execution_count": null,
      "outputs": [
        {
          "output_type": "execute_result",
          "data": {
            "text/plain": [
              "(array([  1.        ,   1.40330341,   1.96926045,   2.76346991,\n",
              "          3.87798674,   5.441992  ,   7.63676592,  10.71669965,\n",
              "         15.03878113,  21.10397281,  29.61527697,  41.55921909,\n",
              "         58.32019378,  81.84092667, 114.8476513 , 161.16610044,\n",
              "        226.16493798, 317.37802819, 445.37766852, 625.        ]),\n",
              " array([ 1.        ,  1.17077991,  1.37072561,  1.60481801,  1.87888869,\n",
              "         2.19976514,  2.57544084,  3.0152744 ,  3.5302227 ,  4.13311383,\n",
              "         4.83896665,  5.66536496,  6.6328955 ,  7.76566082,  9.09187971,\n",
              "        10.64459014, 12.46247232, 14.59081227, 17.08262993, 20.        ]))"
            ]
          },
          "metadata": {
            "tags": []
          },
          "execution_count": 337
        }
      ]
    },
    {
      "cell_type": "code",
      "metadata": {
        "id": "piTOZG5wmzkj",
        "colab_type": "code",
        "colab": {},
        "outputId": "a230694a-7aa3-40ed-fe42-21aacc0f67a2"
      },
      "source": [
        "%matplotlib inline\n",
        "plt.scatter(y, x)"
      ],
      "execution_count": null,
      "outputs": [
        {
          "output_type": "execute_result",
          "data": {
            "text/plain": [
              "<matplotlib.collections.PathCollection at 0x174fca25940>"
            ]
          },
          "metadata": {
            "tags": []
          },
          "execution_count": 342
        },
        {
          "output_type": "display_data",
          "data": {
            "image/png": "[encoded data removed]",
            "text/plain": [
              "<Figure size 432x288 with 1 Axes>"
            ]
          },
          "metadata": {
            "tags": [],
            "needs_background": "light"
          }
        }
      ]
    },
    {
      "cell_type": "code",
      "metadata": {
        "id": "rOSNtdKcmzkk",
        "colab_type": "code",
        "colab": {},
        "outputId": "bf5a142a-4d03-4cdc-d943-5a00fc0e43e9"
      },
      "source": [
        "height= np.random.normal(1.75, 0.20, 7000)\n",
        "height"
      ],
      "execution_count": null,
      "outputs": [
        {
          "output_type": "execute_result",
          "data": {
            "text/plain": [
              "array([1.55698687, 1.95565482, 1.79572603, ..., 1.96458996, 1.4226479 ,\n",
              "       1.72295883])"
            ]
          },
          "metadata": {
            "tags": []
          },
          "execution_count": 343
        }
      ]
    },
    {
      "cell_type": "code",
      "metadata": {
        "id": "rJNwsOIRmzkk",
        "colab_type": "code",
        "colab": {},
        "outputId": "581a899b-0031-453b-c4e4-4ec5b64a6a9e"
      },
      "source": [
        "plt.hist(height)"
      ],
      "execution_count": null,
      "outputs": [
        {
          "output_type": "execute_result",
          "data": {
            "text/plain": [
              "(array([   8.,   96.,  410., 1123., 1896., 1847., 1148.,  367.,   94.,\n",
              "          11.]),\n",
              " array([1.02567224, 1.17028823, 1.31490422, 1.45952021, 1.6041362 ,\n",
              "        1.74875219, 1.89336818, 2.03798417, 2.18260016, 2.32721615,\n",
              "        2.47183214]),\n",
              " <a list of 10 Patch objects>)"
            ]
          },
          "metadata": {
            "tags": []
          },
          "execution_count": 344
        },
        {
          "output_type": "display_data",
          "data": {
            "image/png": "[encoded data removed]",
            "text/plain": [
              "<Figure size 432x288 with 1 Axes>"
            ]
          },
          "metadata": {
            "tags": [],
            "needs_background": "light"
          }
        }
      ]
    },
    {
      "cell_type": "code",
      "metadata": {
        "id": "quUlrYMymzkl",
        "colab_type": "code",
        "colab": {},
        "outputId": "e9f3a739-39a7-433b-f154-7d07dbc076d9"
      },
      "source": [
        "weight= np.random.normal(70.32, 15, 7000)\n",
        "weight"
      ],
      "execution_count": null,
      "outputs": [
        {
          "output_type": "execute_result",
          "data": {
            "text/plain": [
              "array([57.83895362, 64.58598407, 81.14002862, ..., 77.43651868,\n",
              "       58.48309917, 93.56799364])"
            ]
          },
          "metadata": {
            "tags": []
          },
          "execution_count": 345
        }
      ]
    },
    {
      "cell_type": "code",
      "metadata": {
        "id": "0aKPqUMDmzkl",
        "colab_type": "code",
        "colab": {},
        "outputId": "fde5ba57-e7cd-480e-9b2b-45a248227530"
      },
      "source": [
        "plt.hist(weight)"
      ],
      "execution_count": null,
      "outputs": [
        {
          "output_type": "execute_result",
          "data": {
            "text/plain": [
              "(array([  15.,   96.,  443., 1165., 1839., 1902., 1070.,  386.,   77.,\n",
              "           7.]), array([ 16.7657342 ,  27.65839478,  38.55105535,  49.44371593,\n",
              "         60.3363765 ,  71.22903708,  82.12169765,  93.01435823,\n",
              "        103.9070188 , 114.79967938, 125.69233996]), <a list of 10 Patch objects>)"
            ]
          },
          "metadata": {
            "tags": []
          },
          "execution_count": 348
        },
        {
          "output_type": "display_data",
          "data": {
            "image/png": "[encoded data removed]",
            "text/plain": [
              "<Figure size 432x288 with 1 Axes>"
            ]
          },
          "metadata": {
            "tags": [],
            "needs_background": "light"
          }
        }
      ]
    },
    {
      "cell_type": "code",
      "metadata": {
        "id": "ni0zyUG5mzkm",
        "colab_type": "code",
        "colab": {},
        "outputId": "226c7051-ee48-4784-b9d8-bd3add826077"
      },
      "source": [
        "people=np.column_stack((height, weight))\n",
        "people"
      ],
      "execution_count": null,
      "outputs": [
        {
          "output_type": "execute_result",
          "data": {
            "text/plain": [
              "array([[ 1.55698687, 57.83895362],\n",
              "       [ 1.95565482, 64.58598407],\n",
              "       [ 1.79572603, 81.14002862],\n",
              "       ...,\n",
              "       [ 1.96458996, 77.43651868],\n",
              "       [ 1.4226479 , 58.48309917],\n",
              "       [ 1.72295883, 93.56799364]])"
            ]
          },
          "metadata": {
            "tags": []
          },
          "execution_count": 349
        }
      ]
    },
    {
      "cell_type": "code",
      "metadata": {
        "id": "E2GSo5Tjmzkm",
        "colab_type": "code",
        "colab": {},
        "outputId": "fa9d15dc-fca5-48bb-af2c-7a9fea40b87a"
      },
      "source": [
        "np.mean(people[:,0]), np.median(people[:,1])"
      ],
      "execution_count": null,
      "outputs": [
        {
          "output_type": "execute_result",
          "data": {
            "text/plain": [
              "(1.7463856865550982, 70.89636459497628)"
            ]
          },
          "metadata": {
            "tags": []
          },
          "execution_count": 350
        }
      ]
    },
    {
      "cell_type": "code",
      "metadata": {
        "id": "05KMGI55mzkm",
        "colab_type": "code",
        "colab": {},
        "outputId": "841e105b-8ba1-4034-bdc4-78b99dc211df"
      },
      "source": [
        "labels = np.random.choice([0, 1], size=7000, p=[.5, .5]) \n",
        "labels[:100]"
      ],
      "execution_count": null,
      "outputs": [
        {
          "output_type": "execute_result",
          "data": {
            "text/plain": [
              "array([0, 1, 1, 1, 1, 1, 1, 0, 1, 0, 0, 1, 1, 1, 1, 0, 1, 0, 0, 0, 1, 1,\n",
              "       1, 0, 0, 1, 1, 0, 0, 1, 0, 1, 1, 0, 1, 0, 1, 0, 1, 1, 1, 0, 1, 0,\n",
              "       0, 1, 1, 1, 0, 0, 0, 1, 0, 0, 0, 0, 0, 0, 1, 0, 1, 0, 0, 0, 1, 1,\n",
              "       1, 1, 1, 0, 1, 1, 1, 1, 0, 0, 1, 1, 1, 0, 1, 1, 0, 0, 0, 0, 0, 1,\n",
              "       1, 1, 0, 1, 1, 1, 1, 1, 1, 1, 1, 1])"
            ]
          },
          "metadata": {
            "tags": []
          },
          "execution_count": 371
        }
      ]
    },
    {
      "cell_type": "markdown",
      "metadata": {
        "id": "VlqKgDSMmzkn",
        "colab_type": "text"
      },
      "source": [
        "Zadanie 21: Doklej zmienną 'labels' do macierzy 'people',aby stała się dodatkową kolumną. Policz średnią każdej zmiennej dla ludzi z każdej kategorii."
      ]
    },
    {
      "cell_type": "code",
      "metadata": {
        "id": "LDag0ZIkmzkn",
        "colab_type": "code",
        "colab": {},
        "outputId": "efe5b5e4-7f0b-41ad-d320-0526dfaaf07a"
      },
      "source": [
        "print(labels.shape, people.shape)\n",
        "table = np.hstack((people, labels[:,np.newaxis]))\n",
        "table"
      ],
      "execution_count": null,
      "outputs": [
        {
          "output_type": "stream",
          "text": [
            "(7000,) (7000, 2)\n"
          ],
          "name": "stdout"
        },
        {
          "output_type": "execute_result",
          "data": {
            "text/plain": [
              "array([[ 1.55698687, 57.83895362,  0.        ],\n",
              "       [ 1.95565482, 64.58598407,  1.        ],\n",
              "       [ 1.79572603, 81.14002862,  1.        ],\n",
              "       ...,\n",
              "       [ 1.96458996, 77.43651868,  0.        ],\n",
              "       [ 1.4226479 , 58.48309917,  0.        ],\n",
              "       [ 1.72295883, 93.56799364,  1.        ]])"
            ]
          },
          "metadata": {
            "tags": []
          },
          "execution_count": 373
        }
      ]
    },
    {
      "cell_type": "code",
      "metadata": {
        "id": "AJbQZnG6mzkn",
        "colab_type": "code",
        "colab": {},
        "outputId": "9eefc382-7990-4bb3-c5b4-1e16e9ddc9dd"
      },
      "source": [
        "people_0 = np.mean(table[table[:,2]==0][:,0]) # wzrost\n",
        "people_1 = np.mean(table[table[:,2]==1][:,0])\n",
        "people_0,people_1"
      ],
      "execution_count": null,
      "outputs": [
        {
          "output_type": "execute_result",
          "data": {
            "text/plain": [
              "(1.748830411165544, 1.7437882566949723)"
            ]
          },
          "metadata": {
            "tags": []
          },
          "execution_count": 374
        }
      ]
    },
    {
      "cell_type": "code",
      "metadata": {
        "id": "umGtoTpMmzko",
        "colab_type": "code",
        "colab": {},
        "outputId": "30a67b5c-87f5-4d52-992e-d017402e71b4"
      },
      "source": [
        "people_0 = np.mean(table[table[:,2]==0][:,1]) # waga\n",
        "people_1 = np.mean(table[table[:,2]==1][:,1])\n",
        "people_0,people_1"
      ],
      "execution_count": null,
      "outputs": [
        {
          "output_type": "execute_result",
          "data": {
            "text/plain": [
              "(70.88595604453405, 70.4712300341059)"
            ]
          },
          "metadata": {
            "tags": []
          },
          "execution_count": 375
        }
      ]
    },
    {
      "cell_type": "markdown",
      "metadata": {
        "id": "WyWKZKe4mzko",
        "colab_type": "text"
      },
      "source": [
        "Zadanie 22: Posortuj tablicę 'kids' wg wieku, jeśli wiek jest taki sam to weź pod uwagę wzrost"
      ]
    },
    {
      "cell_type": "code",
      "metadata": {
        "id": "lPZLN5kYmzko",
        "colab_type": "code",
        "colab": {}
      },
      "source": [
        "data_type = [('name', 'S15'), ('age', int), ('height', float)]\n",
        "kids_details = [('James', 5, 48.5), ('Nail', 6, 52.5),('Paul', 5, 42.10), ('Pit', 5, 40.11)]"
      ],
      "execution_count": null,
      "outputs": []
    },
    {
      "cell_type": "code",
      "metadata": {
        "id": "A2Ps17qWmzkp",
        "colab_type": "code",
        "colab": {},
        "outputId": "bd186e89-c029-4980-d2dc-fb41e5889739"
      },
      "source": [
        "kids = np.array(kids_details, dtype=data_type)\n",
        "kids"
      ],
      "execution_count": null,
      "outputs": [
        {
          "output_type": "execute_result",
          "data": {
            "text/plain": [
              "array([(b'James', 5, 48.5 ), (b'Nail', 6, 52.5 ), (b'Paul', 5, 42.1 ),\n",
              "       (b'Pit', 5, 40.11)],\n",
              "      dtype=[('name', 'S15'), ('age', '<i4'), ('height', '<f8')])"
            ]
          },
          "metadata": {
            "tags": []
          },
          "execution_count": 377
        }
      ]
    },
    {
      "cell_type": "code",
      "metadata": {
        "id": "0gS_RNQFmzkp",
        "colab_type": "code",
        "colab": {},
        "outputId": "2e4c0c51-be2f-454a-e0a1-32399a4dbdc8"
      },
      "source": [
        "np.sort(kids, order=['age', 'height'])"
      ],
      "execution_count": null,
      "outputs": [
        {
          "output_type": "execute_result",
          "data": {
            "text/plain": [
              "array([(b'Pit', 5, 40.11), (b'Paul', 5, 42.1 ), (b'James', 5, 48.5 ),\n",
              "       (b'Nail', 6, 52.5 )],\n",
              "      dtype=[('name', 'S15'), ('age', '<i4'), ('height', '<f8')])"
            ]
          },
          "metadata": {
            "tags": []
          },
          "execution_count": 378
        }
      ]
    }
  ]
}